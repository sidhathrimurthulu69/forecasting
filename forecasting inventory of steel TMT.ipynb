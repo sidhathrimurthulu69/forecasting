{
 "cells": [
  {
   "cell_type": "code",
   "execution_count": 1,
   "id": "596c4735",
   "metadata": {},
   "outputs": [
    {
     "name": "stderr",
     "output_type": "stream",
     "text": [
      "<frozen importlib._bootstrap>:228: RuntimeWarning: scipy._lib.messagestream.MessageStream size changed, may indicate binary incompatibility. Expected 56 from C header, got 64 from PyObject\n"
     ]
    }
   ],
   "source": [
    "#install require libraries\n",
    "import pandas as pd\n",
    "import numpy as np\n",
    "import matplotlib.pylab as plt\n",
    "import seaborn as sns\n",
    "import statsmodels.api as sm\n",
    "from sklearn.impute import SimpleImputer\n",
    "import scipy.stats as stats\n",
    "import pylab\n",
    "import statsmodels.graphics.tsaplots as tsa_plots\n",
    "from statsmodels.graphics.tsaplots import plot_acf\n",
    "from sklearn.experimental import enable_iterative_imputer\n",
    "from math import sqrt\n",
    "from statsmodels.tsa.stattools import adfuller"
   ]
  },
  {
   "cell_type": "code",
   "execution_count": 2,
   "id": "cfc79181",
   "metadata": {},
   "outputs": [
    {
     "data": {
      "text/plain": [
       "Index(['Date', 'Time', 'Location', 'Sales in Rs/T', 'Sales volume in Tonnes',\n",
       "       'Price/ kg', 'Climate', 'Customer ID', 'Diameter', 'Length', 'Grade',\n",
       "       'Current stock', 'Re-order', 'Lead time', 'Production time',\n",
       "       'Units Produced ', 'Production cost'],\n",
       "      dtype='object')"
      ]
     },
     "execution_count": 2,
     "metadata": {},
     "output_type": "execute_result"
    }
   ],
   "source": [
    "df = pd.read_csv(\"C:/Users/sidda/Desktop/project 97/TMT-JUNE-2020_2 (1) - Copy.csv\")  # reading dataset with pandas\n",
    "df.columns"
   ]
  },
  {
   "cell_type": "code",
   "execution_count": 3,
   "id": "4346aac1",
   "metadata": {},
   "outputs": [
    {
     "data": {
      "text/plain": [
       "(10000, 17)"
      ]
     },
     "execution_count": 3,
     "metadata": {},
     "output_type": "execute_result"
    }
   ],
   "source": [
    "df.shape #to check the how many rows and columns"
   ]
  },
  {
   "cell_type": "code",
   "execution_count": 4,
   "id": "878f4d5c",
   "metadata": {},
   "outputs": [
    {
     "name": "stderr",
     "output_type": "stream",
     "text": [
      "C:\\Users\\sidda\\anaconda3\\lib\\site-packages\\seaborn\\distributions.py:2619: FutureWarning: `distplot` is a deprecated function and will be removed in a future version. Please adapt your code to use either `displot` (a figure-level function with similar flexibility) or `histplot` (an axes-level function for histograms).\n",
      "  warnings.warn(msg, FutureWarning)\n"
     ]
    },
    {
     "data": {
      "text/plain": [
       "<AxesSubplot:xlabel='Sales volume in Tonnes', ylabel='Density'>"
      ]
     },
     "execution_count": 4,
     "metadata": {},
     "output_type": "execute_result"
    },
    {
     "data": {
      "image/png": "[encoded data removed]",
      "text/plain": [
       "<Figure size 432x288 with 1 Axes>"
      ]
     },
     "metadata": {
      "needs_background": "light"
     },
     "output_type": "display_data"
    }
   ],
   "source": [
    "#(df['Sales in Rs/T']).skew()\n",
    "sns.distplot(df['Sales volume in Tonnes'])"
   ]
  },
  {
   "cell_type": "code",
   "execution_count": 5,
   "id": "ea09a0d1",
   "metadata": {},
   "outputs": [
    {
     "data": {
      "text/html": [
       "<div>\n",
       "<style scoped>\n",
       "    .dataframe tbody tr th:only-of-type {\n",
       "        vertical-align: middle;\n",
       "    }\n",
       "\n",
       "    .dataframe tbody tr th {\n",
       "        vertical-align: top;\n",
       "    }\n",
       "\n",
       "    .dataframe thead th {\n",
       "        text-align: right;\n",
       "    }\n",
       "</style>\n",
       "<table border=\"1\" class=\"dataframe\">\n",
       "  <thead>\n",
       "    <tr style=\"text-align: right;\">\n",
       "      <th></th>\n",
       "      <th>Date</th>\n",
       "      <th>Time</th>\n",
       "      <th>Location</th>\n",
       "      <th>Sales in Rs/T</th>\n",
       "      <th>Sales volume in Tonnes</th>\n",
       "      <th>Price/ kg</th>\n",
       "      <th>Climate</th>\n",
       "      <th>Customer ID</th>\n",
       "      <th>Diameter</th>\n",
       "      <th>Length</th>\n",
       "      <th>Grade</th>\n",
       "      <th>Current stock</th>\n",
       "      <th>Re-order</th>\n",
       "      <th>Lead time</th>\n",
       "      <th>Production time</th>\n",
       "      <th>Units Produced</th>\n",
       "      <th>Production cost</th>\n",
       "    </tr>\n",
       "  </thead>\n",
       "  <tbody>\n",
       "    <tr>\n",
       "      <th>0</th>\n",
       "      <td>14-10-1995</td>\n",
       "      <td>11:08 AM</td>\n",
       "      <td>Pune</td>\n",
       "      <td>424440.0</td>\n",
       "      <td>7.07</td>\n",
       "      <td>60.0</td>\n",
       "      <td>Rainy</td>\n",
       "      <td>C9D3791C</td>\n",
       "      <td>32.0</td>\n",
       "      <td>13</td>\n",
       "      <td>Fe-500</td>\n",
       "      <td>10770</td>\n",
       "      <td>618</td>\n",
       "      <td>7</td>\n",
       "      <td>3</td>\n",
       "      <td>14828</td>\n",
       "      <td>18734</td>\n",
       "    </tr>\n",
       "    <tr>\n",
       "      <th>1</th>\n",
       "      <td>15-10-1995</td>\n",
       "      <td>10:07 AM</td>\n",
       "      <td>Hyderabad</td>\n",
       "      <td>426000.0</td>\n",
       "      <td>8.35</td>\n",
       "      <td>51.0</td>\n",
       "      <td>Rainy</td>\n",
       "      <td>F515841D</td>\n",
       "      <td>12.0</td>\n",
       "      <td>7</td>\n",
       "      <td>Fe-415</td>\n",
       "      <td>8039</td>\n",
       "      <td>1195</td>\n",
       "      <td>2</td>\n",
       "      <td>3</td>\n",
       "      <td>12795</td>\n",
       "      <td>21294</td>\n",
       "    </tr>\n",
       "    <tr>\n",
       "      <th>2</th>\n",
       "      <td>16-10-1995</td>\n",
       "      <td>5:25 PM</td>\n",
       "      <td>Kolkata</td>\n",
       "      <td>429360.0</td>\n",
       "      <td>6.82</td>\n",
       "      <td>63.0</td>\n",
       "      <td>Rainy</td>\n",
       "      <td>B387F82E</td>\n",
       "      <td>12.0</td>\n",
       "      <td>9</td>\n",
       "      <td>Fe-500D</td>\n",
       "      <td>7328</td>\n",
       "      <td>1372</td>\n",
       "      <td>14</td>\n",
       "      <td>6</td>\n",
       "      <td>13576</td>\n",
       "      <td>19759</td>\n",
       "    </tr>\n",
       "    <tr>\n",
       "      <th>3</th>\n",
       "      <td>17-10-1995</td>\n",
       "      <td>10:00 AM</td>\n",
       "      <td>Bengaluru</td>\n",
       "      <td>432000.0</td>\n",
       "      <td>6.86</td>\n",
       "      <td>63.0</td>\n",
       "      <td>Rainy</td>\n",
       "      <td>A8EBB29A</td>\n",
       "      <td>8.0</td>\n",
       "      <td>25</td>\n",
       "      <td>Fe-550</td>\n",
       "      <td>3040</td>\n",
       "      <td>688</td>\n",
       "      <td>14</td>\n",
       "      <td>2</td>\n",
       "      <td>8060</td>\n",
       "      <td>23073</td>\n",
       "    </tr>\n",
       "    <tr>\n",
       "      <th>4</th>\n",
       "      <td>18-10-1995</td>\n",
       "      <td>4:39 PM</td>\n",
       "      <td>Delhi</td>\n",
       "      <td>432000.0</td>\n",
       "      <td>7.45</td>\n",
       "      <td>58.0</td>\n",
       "      <td>Rainy</td>\n",
       "      <td>DC1D8CD9</td>\n",
       "      <td>32.0</td>\n",
       "      <td>27</td>\n",
       "      <td>Fe-500</td>\n",
       "      <td>9011</td>\n",
       "      <td>704</td>\n",
       "      <td>11</td>\n",
       "      <td>6</td>\n",
       "      <td>7532</td>\n",
       "      <td>19986</td>\n",
       "    </tr>\n",
       "  </tbody>\n",
       "</table>\n",
       "</div>"
      ],
      "text/plain": [
       "         Date      Time   Location  Sales in Rs/T  Sales volume in Tonnes  \\\n",
       "0  14-10-1995  11:08 AM       Pune       424440.0                    7.07   \n",
       "1  15-10-1995  10:07 AM  Hyderabad       426000.0                    8.35   \n",
       "2  16-10-1995   5:25 PM    Kolkata       429360.0                    6.82   \n",
       "3  17-10-1995  10:00 AM  Bengaluru       432000.0                    6.86   \n",
       "4  18-10-1995   4:39 PM      Delhi       432000.0                    7.45   \n",
       "\n",
       "   Price/ kg Climate Customer ID  Diameter  Length    Grade  Current stock  \\\n",
       "0       60.0   Rainy    C9D3791C      32.0      13   Fe-500          10770   \n",
       "1       51.0   Rainy    F515841D      12.0       7   Fe-415           8039   \n",
       "2       63.0   Rainy    B387F82E      12.0       9  Fe-500D           7328   \n",
       "3       63.0   Rainy    A8EBB29A       8.0      25   Fe-550           3040   \n",
       "4       58.0   Rainy    DC1D8CD9      32.0      27   Fe-500           9011   \n",
       "\n",
       "   Re-order  Lead time  Production time  Units Produced   Production cost  \n",
       "0       618          7                3            14828            18734  \n",
       "1      1195          2                3            12795            21294  \n",
       "2      1372         14                6            13576            19759  \n",
       "3       688         14                2             8060            23073  \n",
       "4       704         11                6             7532            19986  "
      ]
     },
     "execution_count": 5,
     "metadata": {},
     "output_type": "execute_result"
    }
   ],
   "source": [
    "df.head() #it showing top five rows of the dataset\n",
    "#import statsmodels.api as sm\n",
    "#sm.graphics.tsa.plot_acf(df_num.Sales_volume_in_Tonnes.squeeze(), lags=12)\n",
    "#sm.graphics.tsa.plot_pacf(df_num.Sales_volume_in_Tonnes.squeeze(), lags=12)"
   ]
  },
  {
   "cell_type": "code",
   "execution_count": null,
   "id": "64142479",
   "metadata": {},
   "outputs": [],
   "source": []
  },
  {
   "cell_type": "code",
   "execution_count": 6,
   "id": "ae4b04bb",
   "metadata": {},
   "outputs": [
    {
     "data": {
      "text/plain": [
       "Date                       0\n",
       "Time                      11\n",
       "Location                   6\n",
       "Sales in Rs/T              8\n",
       "Sales volume in Tonnes     8\n",
       "Price/ kg                  5\n",
       "Climate                    9\n",
       "Customer ID                0\n",
       "Diameter                   2\n",
       "Length                     0\n",
       "Grade                      5\n",
       "Current stock              0\n",
       "Re-order                   0\n",
       "Lead time                  0\n",
       "Production time            0\n",
       "Units Produced             0\n",
       "Production cost            0\n",
       "dtype: int64"
      ]
     },
     "execution_count": 6,
     "metadata": {},
     "output_type": "execute_result"
    }
   ],
   "source": [
    "df.isnull().sum() #checking null values"
   ]
  },
  {
   "cell_type": "code",
   "execution_count": null,
   "id": "c5a99843",
   "metadata": {},
   "outputs": [],
   "source": []
  },
  {
   "cell_type": "code",
   "execution_count": 43,
   "id": "ab2a5453",
   "metadata": {},
   "outputs": [
    {
     "name": "stdout",
     "output_type": "stream",
     "text": [
      "<class 'pandas.core.frame.DataFrame'>\n",
      "RangeIndex: 10000 entries, 0 to 9999\n",
      "Data columns (total 17 columns):\n",
      " #   Column                  Non-Null Count  Dtype  \n",
      "---  ------                  --------------  -----  \n",
      " 0   Date                    10000 non-null  object \n",
      " 1   Time                    9989 non-null   object \n",
      " 2   Location                9994 non-null   object \n",
      " 3   Sales in Rs/T           9992 non-null   float64\n",
      " 4   Sales volume in Tonnes  9992 non-null   float64\n",
      " 5   Price/ kg               9995 non-null   float64\n",
      " 6   Climate                 9991 non-null   object \n",
      " 7   Customer ID             10000 non-null  object \n",
      " 8   Diameter                9998 non-null   float64\n",
      " 9   Length                  10000 non-null  int64  \n",
      " 10  Grade                   9995 non-null   object \n",
      " 11  Current stock           10000 non-null  int64  \n",
      " 12  Re-order                10000 non-null  int64  \n",
      " 13  Lead time               10000 non-null  int64  \n",
      " 14  Production time         10000 non-null  int64  \n",
      " 15  Units Produced          10000 non-null  int64  \n",
      " 16  Production cost         10000 non-null  int64  \n",
      "dtypes: float64(4), int64(7), object(6)\n",
      "memory usage: 1.3+ MB\n"
     ]
    }
   ],
   "source": [
    "df.info() #it showing type of the data and count of non null values"
   ]
  },
  {
   "cell_type": "code",
   "execution_count": 44,
   "id": "57f11370",
   "metadata": {},
   "outputs": [],
   "source": [
    "df['Date']=pd.to_datetime(df['Date'])\n",
    "# set the Date column be the index of our dataset\n",
    "df= df.set_index('Date')\n",
    "# now check the data shape\n"
   ]
  },
  {
   "cell_type": "code",
   "execution_count": 45,
   "id": "b603e95a",
   "metadata": {},
   "outputs": [
    {
     "data": {
      "text/html": [
       "<div>\n",
       "<style scoped>\n",
       "    .dataframe tbody tr th:only-of-type {\n",
       "        vertical-align: middle;\n",
       "    }\n",
       "\n",
       "    .dataframe tbody tr th {\n",
       "        vertical-align: top;\n",
       "    }\n",
       "\n",
       "    .dataframe thead th {\n",
       "        text-align: right;\n",
       "    }\n",
       "</style>\n",
       "<table border=\"1\" class=\"dataframe\">\n",
       "  <thead>\n",
       "    <tr style=\"text-align: right;\">\n",
       "      <th></th>\n",
       "      <th>Time</th>\n",
       "      <th>Location</th>\n",
       "      <th>Sales in Rs/T</th>\n",
       "      <th>Sales volume in Tonnes</th>\n",
       "      <th>Price/ kg</th>\n",
       "      <th>Climate</th>\n",
       "      <th>Customer ID</th>\n",
       "      <th>Diameter</th>\n",
       "      <th>Length</th>\n",
       "      <th>Grade</th>\n",
       "      <th>Current stock</th>\n",
       "      <th>Re-order</th>\n",
       "      <th>Lead time</th>\n",
       "      <th>Production time</th>\n",
       "      <th>Units Produced</th>\n",
       "      <th>Production cost</th>\n",
       "    </tr>\n",
       "    <tr>\n",
       "      <th>Date</th>\n",
       "      <th></th>\n",
       "      <th></th>\n",
       "      <th></th>\n",
       "      <th></th>\n",
       "      <th></th>\n",
       "      <th></th>\n",
       "      <th></th>\n",
       "      <th></th>\n",
       "      <th></th>\n",
       "      <th></th>\n",
       "      <th></th>\n",
       "      <th></th>\n",
       "      <th></th>\n",
       "      <th></th>\n",
       "      <th></th>\n",
       "      <th></th>\n",
       "    </tr>\n",
       "  </thead>\n",
       "  <tbody>\n",
       "    <tr>\n",
       "      <th>1995-10-14</th>\n",
       "      <td>11:08 AM</td>\n",
       "      <td>Pune</td>\n",
       "      <td>424440.0</td>\n",
       "      <td>7.07</td>\n",
       "      <td>60.0</td>\n",
       "      <td>Rainy</td>\n",
       "      <td>C9D3791C</td>\n",
       "      <td>32.0</td>\n",
       "      <td>13</td>\n",
       "      <td>Fe-500</td>\n",
       "      <td>10770</td>\n",
       "      <td>618</td>\n",
       "      <td>7</td>\n",
       "      <td>3</td>\n",
       "      <td>14828</td>\n",
       "      <td>18734</td>\n",
       "    </tr>\n",
       "    <tr>\n",
       "      <th>1995-10-15</th>\n",
       "      <td>10:07 AM</td>\n",
       "      <td>Hyderabad</td>\n",
       "      <td>426000.0</td>\n",
       "      <td>8.35</td>\n",
       "      <td>51.0</td>\n",
       "      <td>Rainy</td>\n",
       "      <td>F515841D</td>\n",
       "      <td>12.0</td>\n",
       "      <td>7</td>\n",
       "      <td>Fe-415</td>\n",
       "      <td>8039</td>\n",
       "      <td>1195</td>\n",
       "      <td>2</td>\n",
       "      <td>3</td>\n",
       "      <td>12795</td>\n",
       "      <td>21294</td>\n",
       "    </tr>\n",
       "    <tr>\n",
       "      <th>1995-10-16</th>\n",
       "      <td>5:25 PM</td>\n",
       "      <td>Kolkata</td>\n",
       "      <td>429360.0</td>\n",
       "      <td>6.82</td>\n",
       "      <td>63.0</td>\n",
       "      <td>Rainy</td>\n",
       "      <td>B387F82E</td>\n",
       "      <td>12.0</td>\n",
       "      <td>9</td>\n",
       "      <td>Fe-500D</td>\n",
       "      <td>7328</td>\n",
       "      <td>1372</td>\n",
       "      <td>14</td>\n",
       "      <td>6</td>\n",
       "      <td>13576</td>\n",
       "      <td>19759</td>\n",
       "    </tr>\n",
       "    <tr>\n",
       "      <th>1995-10-17</th>\n",
       "      <td>10:00 AM</td>\n",
       "      <td>Bengaluru</td>\n",
       "      <td>432000.0</td>\n",
       "      <td>6.86</td>\n",
       "      <td>63.0</td>\n",
       "      <td>Rainy</td>\n",
       "      <td>A8EBB29A</td>\n",
       "      <td>8.0</td>\n",
       "      <td>25</td>\n",
       "      <td>Fe-550</td>\n",
       "      <td>3040</td>\n",
       "      <td>688</td>\n",
       "      <td>14</td>\n",
       "      <td>2</td>\n",
       "      <td>8060</td>\n",
       "      <td>23073</td>\n",
       "    </tr>\n",
       "    <tr>\n",
       "      <th>1995-10-18</th>\n",
       "      <td>4:39 PM</td>\n",
       "      <td>Delhi</td>\n",
       "      <td>432000.0</td>\n",
       "      <td>7.45</td>\n",
       "      <td>58.0</td>\n",
       "      <td>Rainy</td>\n",
       "      <td>DC1D8CD9</td>\n",
       "      <td>32.0</td>\n",
       "      <td>27</td>\n",
       "      <td>Fe-500</td>\n",
       "      <td>9011</td>\n",
       "      <td>704</td>\n",
       "      <td>11</td>\n",
       "      <td>6</td>\n",
       "      <td>7532</td>\n",
       "      <td>19986</td>\n",
       "    </tr>\n",
       "    <tr>\n",
       "      <th>...</th>\n",
       "      <td>...</td>\n",
       "      <td>...</td>\n",
       "      <td>...</td>\n",
       "      <td>...</td>\n",
       "      <td>...</td>\n",
       "      <td>...</td>\n",
       "      <td>...</td>\n",
       "      <td>...</td>\n",
       "      <td>...</td>\n",
       "      <td>...</td>\n",
       "      <td>...</td>\n",
       "      <td>...</td>\n",
       "      <td>...</td>\n",
       "      <td>...</td>\n",
       "      <td>...</td>\n",
       "      <td>...</td>\n",
       "    </tr>\n",
       "    <tr>\n",
       "      <th>2023-02-24</th>\n",
       "      <td>12:51 PM</td>\n",
       "      <td>Pune</td>\n",
       "      <td>509579.0</td>\n",
       "      <td>9.13</td>\n",
       "      <td>52.0</td>\n",
       "      <td>Winter</td>\n",
       "      <td>94CE748E</td>\n",
       "      <td>9.0</td>\n",
       "      <td>19</td>\n",
       "      <td>Fe-500D</td>\n",
       "      <td>3695</td>\n",
       "      <td>1206</td>\n",
       "      <td>14</td>\n",
       "      <td>6</td>\n",
       "      <td>7434</td>\n",
       "      <td>17790</td>\n",
       "    </tr>\n",
       "    <tr>\n",
       "      <th>2023-02-25</th>\n",
       "      <td>11:08 AM</td>\n",
       "      <td>Delhi</td>\n",
       "      <td>612511.0</td>\n",
       "      <td>9.99</td>\n",
       "      <td>53.0</td>\n",
       "      <td>Winter</td>\n",
       "      <td>EE75A871</td>\n",
       "      <td>16.0</td>\n",
       "      <td>27</td>\n",
       "      <td>Fe-600D</td>\n",
       "      <td>7225</td>\n",
       "      <td>1492</td>\n",
       "      <td>8</td>\n",
       "      <td>4</td>\n",
       "      <td>10847</td>\n",
       "      <td>22642</td>\n",
       "    </tr>\n",
       "    <tr>\n",
       "      <th>2023-02-26</th>\n",
       "      <td>5:19 PM</td>\n",
       "      <td>Kolkata</td>\n",
       "      <td>672718.0</td>\n",
       "      <td>8.84</td>\n",
       "      <td>70.0</td>\n",
       "      <td>Sunny</td>\n",
       "      <td>D3B1B31D</td>\n",
       "      <td>19.0</td>\n",
       "      <td>18</td>\n",
       "      <td>Fe-550D</td>\n",
       "      <td>12102</td>\n",
       "      <td>609</td>\n",
       "      <td>8</td>\n",
       "      <td>1</td>\n",
       "      <td>12405</td>\n",
       "      <td>23116</td>\n",
       "    </tr>\n",
       "    <tr>\n",
       "      <th>2023-02-27</th>\n",
       "      <td>3:32 PM</td>\n",
       "      <td>Kolkata</td>\n",
       "      <td>480401.0</td>\n",
       "      <td>7.64</td>\n",
       "      <td>66.0</td>\n",
       "      <td>Winter</td>\n",
       "      <td>1A6708FC</td>\n",
       "      <td>26.0</td>\n",
       "      <td>20</td>\n",
       "      <td>NaN</td>\n",
       "      <td>13109</td>\n",
       "      <td>805</td>\n",
       "      <td>5</td>\n",
       "      <td>7</td>\n",
       "      <td>13980</td>\n",
       "      <td>19983</td>\n",
       "    </tr>\n",
       "    <tr>\n",
       "      <th>2023-02-28</th>\n",
       "      <td>3:46 PM</td>\n",
       "      <td>Kolkata</td>\n",
       "      <td>714667.0</td>\n",
       "      <td>10.61</td>\n",
       "      <td>NaN</td>\n",
       "      <td>Sunny</td>\n",
       "      <td>E6D78E95</td>\n",
       "      <td>26.0</td>\n",
       "      <td>29</td>\n",
       "      <td>Fe-600D</td>\n",
       "      <td>14028</td>\n",
       "      <td>737</td>\n",
       "      <td>3</td>\n",
       "      <td>2</td>\n",
       "      <td>9064</td>\n",
       "      <td>16895</td>\n",
       "    </tr>\n",
       "  </tbody>\n",
       "</table>\n",
       "<p>10000 rows × 16 columns</p>\n",
       "</div>"
      ],
      "text/plain": [
       "                Time   Location  Sales in Rs/T  Sales volume in Tonnes  \\\n",
       "Date                                                                     \n",
       "1995-10-14  11:08 AM       Pune       424440.0                    7.07   \n",
       "1995-10-15  10:07 AM  Hyderabad       426000.0                    8.35   \n",
       "1995-10-16   5:25 PM    Kolkata       429360.0                    6.82   \n",
       "1995-10-17  10:00 AM  Bengaluru       432000.0                    6.86   \n",
       "1995-10-18   4:39 PM      Delhi       432000.0                    7.45   \n",
       "...              ...        ...            ...                     ...   \n",
       "2023-02-24  12:51 PM       Pune       509579.0                    9.13   \n",
       "2023-02-25  11:08 AM      Delhi       612511.0                    9.99   \n",
       "2023-02-26   5:19 PM    Kolkata       672718.0                    8.84   \n",
       "2023-02-27   3:32 PM    Kolkata       480401.0                    7.64   \n",
       "2023-02-28   3:46 PM    Kolkata       714667.0                   10.61   \n",
       "\n",
       "            Price/ kg Climate Customer ID  Diameter  Length    Grade  \\\n",
       "Date                                                                   \n",
       "1995-10-14       60.0   Rainy    C9D3791C      32.0      13   Fe-500   \n",
       "1995-10-15       51.0   Rainy    F515841D      12.0       7   Fe-415   \n",
       "1995-10-16       63.0   Rainy    B387F82E      12.0       9  Fe-500D   \n",
       "1995-10-17       63.0   Rainy    A8EBB29A       8.0      25   Fe-550   \n",
       "1995-10-18       58.0   Rainy    DC1D8CD9      32.0      27   Fe-500   \n",
       "...               ...     ...         ...       ...     ...      ...   \n",
       "2023-02-24       52.0  Winter    94CE748E       9.0      19  Fe-500D   \n",
       "2023-02-25       53.0  Winter    EE75A871      16.0      27  Fe-600D   \n",
       "2023-02-26       70.0   Sunny    D3B1B31D      19.0      18  Fe-550D   \n",
       "2023-02-27       66.0  Winter    1A6708FC      26.0      20      NaN   \n",
       "2023-02-28        NaN   Sunny    E6D78E95      26.0      29  Fe-600D   \n",
       "\n",
       "            Current stock  Re-order  Lead time  Production time  \\\n",
       "Date                                                              \n",
       "1995-10-14          10770       618          7                3   \n",
       "1995-10-15           8039      1195          2                3   \n",
       "1995-10-16           7328      1372         14                6   \n",
       "1995-10-17           3040       688         14                2   \n",
       "1995-10-18           9011       704         11                6   \n",
       "...                   ...       ...        ...              ...   \n",
       "2023-02-24           3695      1206         14                6   \n",
       "2023-02-25           7225      1492          8                4   \n",
       "2023-02-26          12102       609          8                1   \n",
       "2023-02-27          13109       805          5                7   \n",
       "2023-02-28          14028       737          3                2   \n",
       "\n",
       "            Units Produced   Production cost  \n",
       "Date                                          \n",
       "1995-10-14            14828            18734  \n",
       "1995-10-15            12795            21294  \n",
       "1995-10-16            13576            19759  \n",
       "1995-10-17             8060            23073  \n",
       "1995-10-18             7532            19986  \n",
       "...                     ...              ...  \n",
       "2023-02-24             7434            17790  \n",
       "2023-02-25            10847            22642  \n",
       "2023-02-26            12405            23116  \n",
       "2023-02-27            13980            19983  \n",
       "2023-02-28             9064            16895  \n",
       "\n",
       "[10000 rows x 16 columns]"
      ]
     },
     "execution_count": 45,
     "metadata": {},
     "output_type": "execute_result"
    }
   ],
   "source": [
    "df"
   ]
  },
  {
   "cell_type": "code",
   "execution_count": 46,
   "id": "d9f33365",
   "metadata": {},
   "outputs": [
    {
     "data": {
      "text/html": [
       "<div>\n",
       "<style scoped>\n",
       "    .dataframe tbody tr th:only-of-type {\n",
       "        vertical-align: middle;\n",
       "    }\n",
       "\n",
       "    .dataframe tbody tr th {\n",
       "        vertical-align: top;\n",
       "    }\n",
       "\n",
       "    .dataframe thead th {\n",
       "        text-align: right;\n",
       "    }\n",
       "</style>\n",
       "<table border=\"1\" class=\"dataframe\">\n",
       "  <thead>\n",
       "    <tr style=\"text-align: right;\">\n",
       "      <th></th>\n",
       "      <th>Sales in Rs/T</th>\n",
       "      <th>Sales volume in Tonnes</th>\n",
       "      <th>Price/ kg</th>\n",
       "      <th>Diameter</th>\n",
       "      <th>Length</th>\n",
       "      <th>Current stock</th>\n",
       "      <th>Re-order</th>\n",
       "      <th>Lead time</th>\n",
       "      <th>Production time</th>\n",
       "      <th>Units Produced</th>\n",
       "      <th>Production cost</th>\n",
       "    </tr>\n",
       "  </thead>\n",
       "  <tbody>\n",
       "    <tr>\n",
       "      <th>count</th>\n",
       "      <td>9992.000000</td>\n",
       "      <td>9992.000000</td>\n",
       "      <td>9995.000000</td>\n",
       "      <td>9998.000000</td>\n",
       "      <td>10000.000000</td>\n",
       "      <td>10000.000000</td>\n",
       "      <td>10000.000000</td>\n",
       "      <td>10000.000000</td>\n",
       "      <td>10000.000000</td>\n",
       "      <td>10000.000000</td>\n",
       "      <td>10000.000000</td>\n",
       "    </tr>\n",
       "    <tr>\n",
       "      <th>mean</th>\n",
       "      <td>541320.140112</td>\n",
       "      <td>8.546244</td>\n",
       "      <td>62.958179</td>\n",
       "      <td>16.974995</td>\n",
       "      <td>17.930300</td>\n",
       "      <td>8991.488900</td>\n",
       "      <td>999.154800</td>\n",
       "      <td>8.011000</td>\n",
       "      <td>4.035200</td>\n",
       "      <td>10921.567000</td>\n",
       "      <td>20079.277400</td>\n",
       "    </tr>\n",
       "    <tr>\n",
       "      <th>std</th>\n",
       "      <td>75223.368004</td>\n",
       "      <td>1.531126</td>\n",
       "      <td>6.472928</td>\n",
       "      <td>6.467049</td>\n",
       "      <td>8.123869</td>\n",
       "      <td>3420.646321</td>\n",
       "      <td>285.957747</td>\n",
       "      <td>4.049953</td>\n",
       "      <td>1.783726</td>\n",
       "      <td>2288.349041</td>\n",
       "      <td>2854.058653</td>\n",
       "    </tr>\n",
       "    <tr>\n",
       "      <th>min</th>\n",
       "      <td>4158.000000</td>\n",
       "      <td>4.100000</td>\n",
       "      <td>50.000000</td>\n",
       "      <td>8.000000</td>\n",
       "      <td>4.000000</td>\n",
       "      <td>3003.000000</td>\n",
       "      <td>502.000000</td>\n",
       "      <td>1.000000</td>\n",
       "      <td>1.000000</td>\n",
       "      <td>6017.000000</td>\n",
       "      <td>15004.000000</td>\n",
       "    </tr>\n",
       "    <tr>\n",
       "      <th>25%</th>\n",
       "      <td>481218.000000</td>\n",
       "      <td>7.380000</td>\n",
       "      <td>58.000000</td>\n",
       "      <td>12.000000</td>\n",
       "      <td>11.000000</td>\n",
       "      <td>6045.750000</td>\n",
       "      <td>753.000000</td>\n",
       "      <td>5.000000</td>\n",
       "      <td>3.000000</td>\n",
       "      <td>8957.750000</td>\n",
       "      <td>17670.750000</td>\n",
       "    </tr>\n",
       "    <tr>\n",
       "      <th>50%</th>\n",
       "      <td>536157.000000</td>\n",
       "      <td>8.430000</td>\n",
       "      <td>63.000000</td>\n",
       "      <td>16.000000</td>\n",
       "      <td>18.000000</td>\n",
       "      <td>9080.000000</td>\n",
       "      <td>999.000000</td>\n",
       "      <td>8.000000</td>\n",
       "      <td>4.000000</td>\n",
       "      <td>10886.500000</td>\n",
       "      <td>20150.500000</td>\n",
       "    </tr>\n",
       "    <tr>\n",
       "      <th>75%</th>\n",
       "      <td>594403.750000</td>\n",
       "      <td>9.570000</td>\n",
       "      <td>68.000000</td>\n",
       "      <td>21.000000</td>\n",
       "      <td>25.000000</td>\n",
       "      <td>11919.500000</td>\n",
       "      <td>1245.000000</td>\n",
       "      <td>11.000000</td>\n",
       "      <td>6.000000</td>\n",
       "      <td>12883.000000</td>\n",
       "      <td>22524.000000</td>\n",
       "    </tr>\n",
       "    <tr>\n",
       "      <th>max</th>\n",
       "      <td>717230.000000</td>\n",
       "      <td>15.600000</td>\n",
       "      <td>74.000000</td>\n",
       "      <td>32.000000</td>\n",
       "      <td>32.000000</td>\n",
       "      <td>14989.000000</td>\n",
       "      <td>1500.000000</td>\n",
       "      <td>15.000000</td>\n",
       "      <td>7.000000</td>\n",
       "      <td>15800.000000</td>\n",
       "      <td>25000.000000</td>\n",
       "    </tr>\n",
       "  </tbody>\n",
       "</table>\n",
       "</div>"
      ],
      "text/plain": [
       "       Sales in Rs/T  Sales volume in Tonnes    Price/ kg     Diameter  \\\n",
       "count    9992.000000             9992.000000  9995.000000  9998.000000   \n",
       "mean   541320.140112                8.546244    62.958179    16.974995   \n",
       "std     75223.368004                1.531126     6.472928     6.467049   \n",
       "min      4158.000000                4.100000    50.000000     8.000000   \n",
       "25%    481218.000000                7.380000    58.000000    12.000000   \n",
       "50%    536157.000000                8.430000    63.000000    16.000000   \n",
       "75%    594403.750000                9.570000    68.000000    21.000000   \n",
       "max    717230.000000               15.600000    74.000000    32.000000   \n",
       "\n",
       "             Length  Current stock      Re-order     Lead time  \\\n",
       "count  10000.000000   10000.000000  10000.000000  10000.000000   \n",
       "mean      17.930300    8991.488900    999.154800      8.011000   \n",
       "std        8.123869    3420.646321    285.957747      4.049953   \n",
       "min        4.000000    3003.000000    502.000000      1.000000   \n",
       "25%       11.000000    6045.750000    753.000000      5.000000   \n",
       "50%       18.000000    9080.000000    999.000000      8.000000   \n",
       "75%       25.000000   11919.500000   1245.000000     11.000000   \n",
       "max       32.000000   14989.000000   1500.000000     15.000000   \n",
       "\n",
       "       Production time  Units Produced   Production cost  \n",
       "count     10000.000000     10000.000000     10000.000000  \n",
       "mean          4.035200     10921.567000     20079.277400  \n",
       "std           1.783726      2288.349041      2854.058653  \n",
       "min           1.000000      6017.000000     15004.000000  \n",
       "25%           3.000000      8957.750000     17670.750000  \n",
       "50%           4.000000     10886.500000     20150.500000  \n",
       "75%           6.000000     12883.000000     22524.000000  \n",
       "max           7.000000     15800.000000     25000.000000  "
      ]
     },
     "execution_count": 46,
     "metadata": {},
     "output_type": "execute_result"
    }
   ],
   "source": [
    "df.describe() #getting statstical insights "
   ]
  },
  {
   "cell_type": "code",
   "execution_count": 47,
   "id": "5afc7a80",
   "metadata": {},
   "outputs": [
    {
     "name": "stderr",
     "output_type": "stream",
     "text": [
      "C:\\Users\\sidda\\AppData\\Local\\Temp/ipykernel_21608/1568254755.py:1: FutureWarning: Dropping of nuisance columns in DataFrame reductions (with 'numeric_only=None') is deprecated; in a future version this will raise TypeError.  Select only valid columns before calling the reduction.\n",
      "  df.var()\n"
     ]
    },
    {
     "data": {
      "text/plain": [
       "Sales in Rs/T             5.658555e+09\n",
       "Sales volume in Tonnes    2.344348e+00\n",
       "Price/ kg                 4.189879e+01\n",
       "Diameter                  4.182272e+01\n",
       "Length                    6.599724e+01\n",
       "Current stock             1.170082e+07\n",
       "Re-order                  8.177183e+04\n",
       "Lead time                 1.640212e+01\n",
       "Production time           3.181679e+00\n",
       "Units Produced            5.236541e+06\n",
       "Production cost           8.145651e+06\n",
       "dtype: float64"
      ]
     },
     "execution_count": 47,
     "metadata": {},
     "output_type": "execute_result"
    }
   ],
   "source": [
    "df.var()"
   ]
  },
  {
   "cell_type": "code",
   "execution_count": null,
   "id": "b0d01672",
   "metadata": {},
   "outputs": [],
   "source": []
  },
  {
   "cell_type": "markdown",
   "id": "19593d51",
   "metadata": {},
   "source": [
    "# Auto EDA\n"
   ]
  },
  {
   "cell_type": "code",
   "execution_count": 48,
   "id": "dbb4028c",
   "metadata": {},
   "outputs": [],
   "source": [
    "from ydata_profiling import ProfileReport   # auto EDA for getting visual insights from the given dataset"
   ]
  },
  {
   "cell_type": "code",
   "execution_count": null,
   "id": "6db9c211",
   "metadata": {},
   "outputs": [],
   "source": [
    "ProfileReport(df)    #using pandas_profile"
   ]
  },
  {
   "cell_type": "markdown",
   "id": "a958c0c5",
   "metadata": {},
   "source": [
    "# EDA"
   ]
  },
  {
   "cell_type": "code",
   "execution_count": null,
   "id": "a2b01e80",
   "metadata": {},
   "outputs": [],
   "source": []
  },
  {
   "cell_type": "code",
   "execution_count": 49,
   "id": "327a1151",
   "metadata": {},
   "outputs": [
    {
     "name": "stdout",
     "output_type": "stream",
     "text": [
      "Sales in Rs/T             541320.140112\n",
      "Sales volume in Tonnes         8.546244\n",
      "Price/ kg                     62.958179\n",
      "Diameter                      16.974995\n",
      "Length                        17.930300\n",
      "Current stock               8991.488900\n",
      "Re-order                     999.154800\n",
      "Lead time                      8.011000\n",
      "Production time                4.035200\n",
      "Units Produced             10921.567000\n",
      "Production cost            20079.277400\n",
      "dtype: float64\n"
     ]
    },
    {
     "name": "stderr",
     "output_type": "stream",
     "text": [
      "C:\\Users\\sidda\\AppData\\Local\\Temp/ipykernel_21608/2807316344.py:1: FutureWarning: Dropping of nuisance columns in DataFrame reductions (with 'numeric_only=None') is deprecated; in a future version this will raise TypeError.  Select only valid columns before calling the reduction.\n",
      "  print(df.mean())\n"
     ]
    }
   ],
   "source": [
    "print(df.mean())"
   ]
  },
  {
   "cell_type": "code",
   "execution_count": 50,
   "id": "0535d550",
   "metadata": {},
   "outputs": [
    {
     "name": "stdout",
     "output_type": "stream",
     "text": [
      "Sales in Rs/T             536157.00\n",
      "Sales volume in Tonnes         8.43\n",
      "Price/ kg                     63.00\n",
      "Diameter                      16.00\n",
      "Length                        18.00\n",
      "Current stock               9080.00\n",
      "Re-order                     999.00\n",
      "Lead time                      8.00\n",
      "Production time                4.00\n",
      "Units Produced             10886.50\n",
      "Production cost            20150.50\n",
      "dtype: float64\n"
     ]
    },
    {
     "name": "stderr",
     "output_type": "stream",
     "text": [
      "C:\\Users\\sidda\\AppData\\Local\\Temp/ipykernel_21608/4259369830.py:1: FutureWarning: Dropping of nuisance columns in DataFrame reductions (with 'numeric_only=None') is deprecated; in a future version this will raise TypeError.  Select only valid columns before calling the reduction.\n",
      "  print(df.median())\n"
     ]
    }
   ],
   "source": [
    "print(df.median())"
   ]
  },
  {
   "cell_type": "code",
   "execution_count": null,
   "id": "b909b039",
   "metadata": {},
   "outputs": [],
   "source": []
  },
  {
   "cell_type": "code",
   "execution_count": 51,
   "id": "2415fb16",
   "metadata": {},
   "outputs": [
    {
     "name": "stderr",
     "output_type": "stream",
     "text": [
      "C:\\Users\\sidda\\AppData\\Local\\Temp/ipykernel_21608/1665899112.py:1: FutureWarning: Dropping of nuisance columns in DataFrame reductions (with 'numeric_only=None') is deprecated; in a future version this will raise TypeError.  Select only valid columns before calling the reduction.\n",
      "  df.skew()\n"
     ]
    },
    {
     "data": {
      "text/plain": [
       "Sales in Rs/T             0.086901\n",
       "Sales volume in Tonnes    0.468308\n",
       "Price/ kg                -0.159762\n",
       "Diameter                  0.589913\n",
       "Length                    0.015827\n",
       "Current stock            -0.015762\n",
       "Re-order                  0.005727\n",
       "Lead time                 0.002804\n",
       "Production time          -0.037894\n",
       "Units Produced            0.031534\n",
       "Production cost          -0.042865\n",
       "dtype: float64"
      ]
     },
     "execution_count": 51,
     "metadata": {},
     "output_type": "execute_result"
    }
   ],
   "source": [
    "df.skew()"
   ]
  },
  {
   "cell_type": "code",
   "execution_count": 52,
   "id": "aff3f823",
   "metadata": {
    "scrolled": true
   },
   "outputs": [
    {
     "name": "stderr",
     "output_type": "stream",
     "text": [
      "C:\\Users\\sidda\\AppData\\Local\\Temp/ipykernel_21608/1257127604.py:1: FutureWarning: Dropping of nuisance columns in DataFrame reductions (with 'numeric_only=None') is deprecated; in a future version this will raise TypeError.  Select only valid columns before calling the reduction.\n",
      "  df.kurt()\n"
     ]
    },
    {
     "data": {
      "text/plain": [
       "Sales in Rs/T             0.547886\n",
       "Sales volume in Tonnes   -0.086608\n",
       "Price/ kg                -1.006872\n",
       "Diameter                 -0.605864\n",
       "Length                   -1.201782\n",
       "Current stock            -1.184977\n",
       "Re-order                 -1.173889\n",
       "Lead time                -1.159690\n",
       "Production time          -1.091210\n",
       "Units Produced           -1.180364\n",
       "Production cost          -1.173977\n",
       "dtype: float64"
      ]
     },
     "execution_count": 52,
     "metadata": {},
     "output_type": "execute_result"
    }
   ],
   "source": [
    "df.kurt()"
   ]
  },
  {
   "cell_type": "code",
   "execution_count": 53,
   "id": "47f562d5",
   "metadata": {},
   "outputs": [],
   "source": [
    "%matplotlib inline\n",
    "import matplotlib.pyplot as plt"
   ]
  },
  {
   "cell_type": "code",
   "execution_count": null,
   "id": "0afdd24b",
   "metadata": {},
   "outputs": [],
   "source": []
  },
  {
   "cell_type": "code",
   "execution_count": 54,
   "id": "75e0210b",
   "metadata": {},
   "outputs": [
    {
     "data": {
      "text/plain": [
       "<AxesSubplot:xlabel='Date'>"
      ]
     },
     "execution_count": 54,
     "metadata": {},
     "output_type": "execute_result"
    },
    {
     "data": {
      "image/png": "[encoded data removed]",
      "text/plain": [
       "<Figure size 432x288 with 1 Axes>"
      ]
     },
     "metadata": {
      "needs_background": "light"
     },
     "output_type": "display_data"
    }
   ],
   "source": [
    "df.plot()"
   ]
  },
  {
   "cell_type": "code",
   "execution_count": null,
   "id": "e060b46f",
   "metadata": {},
   "outputs": [],
   "source": []
  },
  {
   "cell_type": "code",
   "execution_count": 55,
   "id": "7d1e5a4e",
   "metadata": {},
   "outputs": [
    {
     "data": {
      "text/plain": [
       "<AxesSubplot:xlabel='Climate', ylabel='count'>"
      ]
     },
     "execution_count": 55,
     "metadata": {},
     "output_type": "execute_result"
    },
    {
     "data": {
      "image/png": "[encoded data removed]",
      "text/plain": [
       "<Figure size 432x288 with 1 Axes>"
      ]
     },
     "metadata": {
      "needs_background": "light"
     },
     "output_type": "display_data"
    }
   ],
   "source": [
    "sns.countplot(x='Climate',data=df)"
   ]
  },
  {
   "cell_type": "code",
   "execution_count": 56,
   "id": "6dcf0ae8",
   "metadata": {},
   "outputs": [
    {
     "data": {
      "text/plain": [
       "<AxesSubplot:xlabel='Location', ylabel='Sales volume in Tonnes'>"
      ]
     },
     "execution_count": 56,
     "metadata": {},
     "output_type": "execute_result"
    },
    {
     "data": {
      "image/png": "[encoded data removed]",
      "text/plain": [
       "<Figure size 432x288 with 1 Axes>"
      ]
     },
     "metadata": {
      "needs_background": "light"
     },
     "output_type": "display_data"
    }
   ],
   "source": [
    "sns.barplot(x='Location',y='Sales volume in Tonnes',data=df)"
   ]
  },
  {
   "cell_type": "code",
   "execution_count": 57,
   "id": "ceb2f2e9",
   "metadata": {},
   "outputs": [
    {
     "data": {
      "text/plain": [
       "<AxesSubplot:>"
      ]
     },
     "execution_count": 57,
     "metadata": {},
     "output_type": "execute_result"
    },
    {
     "data": {
      "image/png": "[encoded data removed]",
      "text/plain": [
       "<Figure size 432x288 with 2 Axes>"
      ]
     },
     "metadata": {
      "needs_background": "light"
     },
     "output_type": "display_data"
    }
   ],
   "source": [
    "sns.heatmap(df.corr(), annot=True)"
   ]
  },
  {
   "cell_type": "code",
   "execution_count": 58,
   "id": "6fe785e1",
   "metadata": {},
   "outputs": [
    {
     "data": {
      "text/html": [
       "<div>\n",
       "<style scoped>\n",
       "    .dataframe tbody tr th:only-of-type {\n",
       "        vertical-align: middle;\n",
       "    }\n",
       "\n",
       "    .dataframe tbody tr th {\n",
       "        vertical-align: top;\n",
       "    }\n",
       "\n",
       "    .dataframe thead th {\n",
       "        text-align: right;\n",
       "    }\n",
       "</style>\n",
       "<table border=\"1\" class=\"dataframe\">\n",
       "  <thead>\n",
       "    <tr style=\"text-align: right;\">\n",
       "      <th></th>\n",
       "      <th>Sales in Rs/T</th>\n",
       "      <th>Sales volume in Tonnes</th>\n",
       "      <th>Price/ kg</th>\n",
       "      <th>Diameter</th>\n",
       "      <th>Length</th>\n",
       "      <th>Current stock</th>\n",
       "      <th>Re-order</th>\n",
       "      <th>Lead time</th>\n",
       "      <th>Production time</th>\n",
       "      <th>Units Produced</th>\n",
       "      <th>Production cost</th>\n",
       "    </tr>\n",
       "  </thead>\n",
       "  <tbody>\n",
       "    <tr>\n",
       "      <th>Sales in Rs/T</th>\n",
       "      <td>1.000000</td>\n",
       "      <td>0.754005</td>\n",
       "      <td>-0.022801</td>\n",
       "      <td>0.018143</td>\n",
       "      <td>-0.000227</td>\n",
       "      <td>0.020280</td>\n",
       "      <td>-0.012087</td>\n",
       "      <td>-0.051034</td>\n",
       "      <td>-0.015288</td>\n",
       "      <td>0.034298</td>\n",
       "      <td>-0.062014</td>\n",
       "    </tr>\n",
       "    <tr>\n",
       "      <th>Sales volume in Tonnes</th>\n",
       "      <td>0.754005</td>\n",
       "      <td>1.000000</td>\n",
       "      <td>-0.550968</td>\n",
       "      <td>-0.023646</td>\n",
       "      <td>0.005684</td>\n",
       "      <td>-0.020504</td>\n",
       "      <td>-0.017205</td>\n",
       "      <td>-0.049048</td>\n",
       "      <td>-0.014521</td>\n",
       "      <td>0.036505</td>\n",
       "      <td>-0.095957</td>\n",
       "    </tr>\n",
       "    <tr>\n",
       "      <th>Price/ kg</th>\n",
       "      <td>-0.022801</td>\n",
       "      <td>-0.550968</td>\n",
       "      <td>1.000000</td>\n",
       "      <td>0.073187</td>\n",
       "      <td>-0.002847</td>\n",
       "      <td>0.030911</td>\n",
       "      <td>-0.003612</td>\n",
       "      <td>-0.000919</td>\n",
       "      <td>-0.007403</td>\n",
       "      <td>-0.040791</td>\n",
       "      <td>0.066806</td>\n",
       "    </tr>\n",
       "    <tr>\n",
       "      <th>Diameter</th>\n",
       "      <td>0.018143</td>\n",
       "      <td>-0.023646</td>\n",
       "      <td>0.073187</td>\n",
       "      <td>1.000000</td>\n",
       "      <td>0.051788</td>\n",
       "      <td>0.050492</td>\n",
       "      <td>-0.037509</td>\n",
       "      <td>-0.018732</td>\n",
       "      <td>0.004932</td>\n",
       "      <td>-0.010057</td>\n",
       "      <td>0.038447</td>\n",
       "    </tr>\n",
       "    <tr>\n",
       "      <th>Length</th>\n",
       "      <td>-0.000227</td>\n",
       "      <td>0.005684</td>\n",
       "      <td>-0.002847</td>\n",
       "      <td>0.051788</td>\n",
       "      <td>1.000000</td>\n",
       "      <td>0.036285</td>\n",
       "      <td>-0.039516</td>\n",
       "      <td>0.005914</td>\n",
       "      <td>-0.020480</td>\n",
       "      <td>0.021417</td>\n",
       "      <td>-0.023918</td>\n",
       "    </tr>\n",
       "    <tr>\n",
       "      <th>Current stock</th>\n",
       "      <td>0.020280</td>\n",
       "      <td>-0.020504</td>\n",
       "      <td>0.030911</td>\n",
       "      <td>0.050492</td>\n",
       "      <td>0.036285</td>\n",
       "      <td>1.000000</td>\n",
       "      <td>0.058809</td>\n",
       "      <td>0.043882</td>\n",
       "      <td>0.034917</td>\n",
       "      <td>-0.020435</td>\n",
       "      <td>0.020588</td>\n",
       "    </tr>\n",
       "    <tr>\n",
       "      <th>Re-order</th>\n",
       "      <td>-0.012087</td>\n",
       "      <td>-0.017205</td>\n",
       "      <td>-0.003612</td>\n",
       "      <td>-0.037509</td>\n",
       "      <td>-0.039516</td>\n",
       "      <td>0.058809</td>\n",
       "      <td>1.000000</td>\n",
       "      <td>0.067411</td>\n",
       "      <td>-0.012063</td>\n",
       "      <td>0.003640</td>\n",
       "      <td>-0.011682</td>\n",
       "    </tr>\n",
       "    <tr>\n",
       "      <th>Lead time</th>\n",
       "      <td>-0.051034</td>\n",
       "      <td>-0.049048</td>\n",
       "      <td>-0.000919</td>\n",
       "      <td>-0.018732</td>\n",
       "      <td>0.005914</td>\n",
       "      <td>0.043882</td>\n",
       "      <td>0.067411</td>\n",
       "      <td>1.000000</td>\n",
       "      <td>-0.023644</td>\n",
       "      <td>-0.057345</td>\n",
       "      <td>0.008517</td>\n",
       "    </tr>\n",
       "    <tr>\n",
       "      <th>Production time</th>\n",
       "      <td>-0.015288</td>\n",
       "      <td>-0.014521</td>\n",
       "      <td>-0.007403</td>\n",
       "      <td>0.004932</td>\n",
       "      <td>-0.020480</td>\n",
       "      <td>0.034917</td>\n",
       "      <td>-0.012063</td>\n",
       "      <td>-0.023644</td>\n",
       "      <td>1.000000</td>\n",
       "      <td>-0.005528</td>\n",
       "      <td>0.006544</td>\n",
       "    </tr>\n",
       "    <tr>\n",
       "      <th>Units Produced</th>\n",
       "      <td>0.034298</td>\n",
       "      <td>0.036505</td>\n",
       "      <td>-0.040791</td>\n",
       "      <td>-0.010057</td>\n",
       "      <td>0.021417</td>\n",
       "      <td>-0.020435</td>\n",
       "      <td>0.003640</td>\n",
       "      <td>-0.057345</td>\n",
       "      <td>-0.005528</td>\n",
       "      <td>1.000000</td>\n",
       "      <td>0.029643</td>\n",
       "    </tr>\n",
       "    <tr>\n",
       "      <th>Production cost</th>\n",
       "      <td>-0.062014</td>\n",
       "      <td>-0.095957</td>\n",
       "      <td>0.066806</td>\n",
       "      <td>0.038447</td>\n",
       "      <td>-0.023918</td>\n",
       "      <td>0.020588</td>\n",
       "      <td>-0.011682</td>\n",
       "      <td>0.008517</td>\n",
       "      <td>0.006544</td>\n",
       "      <td>0.029643</td>\n",
       "      <td>1.000000</td>\n",
       "    </tr>\n",
       "  </tbody>\n",
       "</table>\n",
       "</div>"
      ],
      "text/plain": [
       "                        Sales in Rs/T  Sales volume in Tonnes  Price/ kg  \\\n",
       "Sales in Rs/T                1.000000                0.754005  -0.022801   \n",
       "Sales volume in Tonnes       0.754005                1.000000  -0.550968   \n",
       "Price/ kg                   -0.022801               -0.550968   1.000000   \n",
       "Diameter                     0.018143               -0.023646   0.073187   \n",
       "Length                      -0.000227                0.005684  -0.002847   \n",
       "Current stock                0.020280               -0.020504   0.030911   \n",
       "Re-order                    -0.012087               -0.017205  -0.003612   \n",
       "Lead time                   -0.051034               -0.049048  -0.000919   \n",
       "Production time             -0.015288               -0.014521  -0.007403   \n",
       "Units Produced               0.034298                0.036505  -0.040791   \n",
       "Production cost             -0.062014               -0.095957   0.066806   \n",
       "\n",
       "                        Diameter    Length  Current stock  Re-order  \\\n",
       "Sales in Rs/T           0.018143 -0.000227       0.020280 -0.012087   \n",
       "Sales volume in Tonnes -0.023646  0.005684      -0.020504 -0.017205   \n",
       "Price/ kg               0.073187 -0.002847       0.030911 -0.003612   \n",
       "Diameter                1.000000  0.051788       0.050492 -0.037509   \n",
       "Length                  0.051788  1.000000       0.036285 -0.039516   \n",
       "Current stock           0.050492  0.036285       1.000000  0.058809   \n",
       "Re-order               -0.037509 -0.039516       0.058809  1.000000   \n",
       "Lead time              -0.018732  0.005914       0.043882  0.067411   \n",
       "Production time         0.004932 -0.020480       0.034917 -0.012063   \n",
       "Units Produced         -0.010057  0.021417      -0.020435  0.003640   \n",
       "Production cost         0.038447 -0.023918       0.020588 -0.011682   \n",
       "\n",
       "                        Lead time  Production time  Units Produced   \\\n",
       "Sales in Rs/T           -0.051034        -0.015288         0.034298   \n",
       "Sales volume in Tonnes  -0.049048        -0.014521         0.036505   \n",
       "Price/ kg               -0.000919        -0.007403        -0.040791   \n",
       "Diameter                -0.018732         0.004932        -0.010057   \n",
       "Length                   0.005914        -0.020480         0.021417   \n",
       "Current stock            0.043882         0.034917        -0.020435   \n",
       "Re-order                 0.067411        -0.012063         0.003640   \n",
       "Lead time                1.000000        -0.023644        -0.057345   \n",
       "Production time         -0.023644         1.000000        -0.005528   \n",
       "Units Produced          -0.057345        -0.005528         1.000000   \n",
       "Production cost          0.008517         0.006544         0.029643   \n",
       "\n",
       "                        Production cost  \n",
       "Sales in Rs/T                 -0.062014  \n",
       "Sales volume in Tonnes        -0.095957  \n",
       "Price/ kg                      0.066806  \n",
       "Diameter                       0.038447  \n",
       "Length                        -0.023918  \n",
       "Current stock                  0.020588  \n",
       "Re-order                      -0.011682  \n",
       "Lead time                      0.008517  \n",
       "Production time                0.006544  \n",
       "Units Produced                 0.029643  \n",
       "Production cost                1.000000  "
      ]
     },
     "execution_count": 58,
     "metadata": {},
     "output_type": "execute_result"
    }
   ],
   "source": [
    "df.corr()"
   ]
  },
  {
   "cell_type": "code",
   "execution_count": 114,
   "id": "9e2fe9c6",
   "metadata": {
    "scrolled": true
   },
   "outputs": [
    {
     "data": {
      "image/png": "[encoded data removed]",
      "text/plain": [
       "<Figure size 1296x288 with 1 Axes>"
      ]
     },
     "metadata": {
      "needs_background": "light"
     },
     "output_type": "display_data"
    }
   ],
   "source": [
    "sns.barplot(x=df['Location'],y=df['Sales volume in Tonnes'])\n",
    "plt.show()\n"
   ]
  },
  {
   "cell_type": "code",
   "execution_count": null,
   "id": "b55461b4",
   "metadata": {},
   "outputs": [],
   "source": []
  },
  {
   "cell_type": "code",
   "execution_count": null,
   "id": "9db04384",
   "metadata": {},
   "outputs": [],
   "source": []
  },
  {
   "cell_type": "code",
   "execution_count": null,
   "id": "7f96c2bd",
   "metadata": {},
   "outputs": [],
   "source": [
    "df.head()"
   ]
  },
  {
   "cell_type": "code",
   "execution_count": null,
   "id": "c9c5773b",
   "metadata": {},
   "outputs": [],
   "source": [
    "df.head()\n",
    "df.shape"
   ]
  },
  {
   "cell_type": "markdown",
   "id": "7bf69346",
   "metadata": {},
   "source": [
    "# data Preprocessing"
   ]
  },
  {
   "cell_type": "code",
   "execution_count": null,
   "id": "57c51f54",
   "metadata": {},
   "outputs": [],
   "source": [
    "##remove unwanted coloumns"
   ]
  },
  {
   "cell_type": "code",
   "execution_count": 60,
   "id": "ca69ea5f",
   "metadata": {},
   "outputs": [],
   "source": [
    "df1=df.drop(['Time','Customer ID'],axis=True)"
   ]
  },
  {
   "cell_type": "code",
   "execution_count": 61,
   "id": "90aacc83",
   "metadata": {},
   "outputs": [
    {
     "name": "stdout",
     "output_type": "stream",
     "text": [
      "<class 'pandas.core.frame.DataFrame'>\n",
      "DatetimeIndex: 10000 entries, 1995-10-14 to 2023-02-28\n",
      "Data columns (total 14 columns):\n",
      " #   Column                  Non-Null Count  Dtype  \n",
      "---  ------                  --------------  -----  \n",
      " 0   Location                9994 non-null   object \n",
      " 1   Sales in Rs/T           9992 non-null   float64\n",
      " 2   Sales volume in Tonnes  9992 non-null   float64\n",
      " 3   Price/ kg               9995 non-null   float64\n",
      " 4   Climate                 9991 non-null   object \n",
      " 5   Diameter                9998 non-null   float64\n",
      " 6   Length                  10000 non-null  int64  \n",
      " 7   Grade                   9995 non-null   object \n",
      " 8   Current stock           10000 non-null  int64  \n",
      " 9   Re-order                10000 non-null  int64  \n",
      " 10  Lead time               10000 non-null  int64  \n",
      " 11  Production time         10000 non-null  int64  \n",
      " 12  Units Produced          10000 non-null  int64  \n",
      " 13  Production cost         10000 non-null  int64  \n",
      "dtypes: float64(4), int64(7), object(3)\n",
      "memory usage: 1.1+ MB\n"
     ]
    }
   ],
   "source": [
    "df1.info()"
   ]
  },
  {
   "cell_type": "code",
   "execution_count": 185,
   "id": "483740a5",
   "metadata": {},
   "outputs": [
    {
     "data": {
      "text/html": [
       "<div>\n",
       "<style scoped>\n",
       "    .dataframe tbody tr th:only-of-type {\n",
       "        vertical-align: middle;\n",
       "    }\n",
       "\n",
       "    .dataframe tbody tr th {\n",
       "        vertical-align: top;\n",
       "    }\n",
       "\n",
       "    .dataframe thead th {\n",
       "        text-align: right;\n",
       "    }\n",
       "</style>\n",
       "<table border=\"1\" class=\"dataframe\">\n",
       "  <thead>\n",
       "    <tr style=\"text-align: right;\">\n",
       "      <th></th>\n",
       "      <th>Sales in Rs/T</th>\n",
       "      <th>Sales volume in Tonnes</th>\n",
       "      <th>Price/ kg</th>\n",
       "      <th>Diameter</th>\n",
       "      <th>Length</th>\n",
       "      <th>Current stock</th>\n",
       "      <th>Re-order</th>\n",
       "      <th>Lead time</th>\n",
       "      <th>Production time</th>\n",
       "      <th>Units Produced</th>\n",
       "      <th>Production cost</th>\n",
       "    </tr>\n",
       "    <tr>\n",
       "      <th>Date</th>\n",
       "      <th></th>\n",
       "      <th></th>\n",
       "      <th></th>\n",
       "      <th></th>\n",
       "      <th></th>\n",
       "      <th></th>\n",
       "      <th></th>\n",
       "      <th></th>\n",
       "      <th></th>\n",
       "      <th></th>\n",
       "      <th></th>\n",
       "    </tr>\n",
       "  </thead>\n",
       "  <tbody>\n",
       "    <tr>\n",
       "      <th>1995-10-14</th>\n",
       "      <td>424440.0</td>\n",
       "      <td>7.07</td>\n",
       "      <td>60.0</td>\n",
       "      <td>32.0</td>\n",
       "      <td>13</td>\n",
       "      <td>10770</td>\n",
       "      <td>618</td>\n",
       "      <td>7</td>\n",
       "      <td>3</td>\n",
       "      <td>14828</td>\n",
       "      <td>18734</td>\n",
       "    </tr>\n",
       "    <tr>\n",
       "      <th>1995-10-15</th>\n",
       "      <td>426000.0</td>\n",
       "      <td>8.35</td>\n",
       "      <td>51.0</td>\n",
       "      <td>12.0</td>\n",
       "      <td>7</td>\n",
       "      <td>8039</td>\n",
       "      <td>1195</td>\n",
       "      <td>2</td>\n",
       "      <td>3</td>\n",
       "      <td>12795</td>\n",
       "      <td>21294</td>\n",
       "    </tr>\n",
       "    <tr>\n",
       "      <th>1995-10-16</th>\n",
       "      <td>429360.0</td>\n",
       "      <td>6.82</td>\n",
       "      <td>63.0</td>\n",
       "      <td>12.0</td>\n",
       "      <td>9</td>\n",
       "      <td>7328</td>\n",
       "      <td>1372</td>\n",
       "      <td>14</td>\n",
       "      <td>6</td>\n",
       "      <td>13576</td>\n",
       "      <td>19759</td>\n",
       "    </tr>\n",
       "    <tr>\n",
       "      <th>1995-10-17</th>\n",
       "      <td>432000.0</td>\n",
       "      <td>6.86</td>\n",
       "      <td>63.0</td>\n",
       "      <td>8.0</td>\n",
       "      <td>25</td>\n",
       "      <td>3040</td>\n",
       "      <td>688</td>\n",
       "      <td>14</td>\n",
       "      <td>2</td>\n",
       "      <td>8060</td>\n",
       "      <td>23073</td>\n",
       "    </tr>\n",
       "    <tr>\n",
       "      <th>1995-10-18</th>\n",
       "      <td>432000.0</td>\n",
       "      <td>7.45</td>\n",
       "      <td>58.0</td>\n",
       "      <td>32.0</td>\n",
       "      <td>27</td>\n",
       "      <td>9011</td>\n",
       "      <td>704</td>\n",
       "      <td>11</td>\n",
       "      <td>6</td>\n",
       "      <td>7532</td>\n",
       "      <td>19986</td>\n",
       "    </tr>\n",
       "    <tr>\n",
       "      <th>...</th>\n",
       "      <td>...</td>\n",
       "      <td>...</td>\n",
       "      <td>...</td>\n",
       "      <td>...</td>\n",
       "      <td>...</td>\n",
       "      <td>...</td>\n",
       "      <td>...</td>\n",
       "      <td>...</td>\n",
       "      <td>...</td>\n",
       "      <td>...</td>\n",
       "      <td>...</td>\n",
       "    </tr>\n",
       "    <tr>\n",
       "      <th>2023-02-24</th>\n",
       "      <td>509579.0</td>\n",
       "      <td>9.13</td>\n",
       "      <td>52.0</td>\n",
       "      <td>9.0</td>\n",
       "      <td>19</td>\n",
       "      <td>3695</td>\n",
       "      <td>1206</td>\n",
       "      <td>14</td>\n",
       "      <td>6</td>\n",
       "      <td>7434</td>\n",
       "      <td>17790</td>\n",
       "    </tr>\n",
       "    <tr>\n",
       "      <th>2023-02-25</th>\n",
       "      <td>612511.0</td>\n",
       "      <td>9.99</td>\n",
       "      <td>53.0</td>\n",
       "      <td>16.0</td>\n",
       "      <td>27</td>\n",
       "      <td>7225</td>\n",
       "      <td>1492</td>\n",
       "      <td>8</td>\n",
       "      <td>4</td>\n",
       "      <td>10847</td>\n",
       "      <td>22642</td>\n",
       "    </tr>\n",
       "    <tr>\n",
       "      <th>2023-02-26</th>\n",
       "      <td>672718.0</td>\n",
       "      <td>8.84</td>\n",
       "      <td>70.0</td>\n",
       "      <td>19.0</td>\n",
       "      <td>18</td>\n",
       "      <td>12102</td>\n",
       "      <td>609</td>\n",
       "      <td>8</td>\n",
       "      <td>1</td>\n",
       "      <td>12405</td>\n",
       "      <td>23116</td>\n",
       "    </tr>\n",
       "    <tr>\n",
       "      <th>2023-02-27</th>\n",
       "      <td>480401.0</td>\n",
       "      <td>7.64</td>\n",
       "      <td>66.0</td>\n",
       "      <td>26.0</td>\n",
       "      <td>20</td>\n",
       "      <td>13109</td>\n",
       "      <td>805</td>\n",
       "      <td>5</td>\n",
       "      <td>7</td>\n",
       "      <td>13980</td>\n",
       "      <td>19983</td>\n",
       "    </tr>\n",
       "    <tr>\n",
       "      <th>2023-02-28</th>\n",
       "      <td>714667.0</td>\n",
       "      <td>10.61</td>\n",
       "      <td>NaN</td>\n",
       "      <td>26.0</td>\n",
       "      <td>29</td>\n",
       "      <td>14028</td>\n",
       "      <td>737</td>\n",
       "      <td>3</td>\n",
       "      <td>2</td>\n",
       "      <td>9064</td>\n",
       "      <td>16895</td>\n",
       "    </tr>\n",
       "  </tbody>\n",
       "</table>\n",
       "<p>10000 rows × 11 columns</p>\n",
       "</div>"
      ],
      "text/plain": [
       "            Sales in Rs/T  Sales volume in Tonnes  Price/ kg  Diameter  \\\n",
       "Date                                                                     \n",
       "1995-10-14       424440.0                    7.07       60.0      32.0   \n",
       "1995-10-15       426000.0                    8.35       51.0      12.0   \n",
       "1995-10-16       429360.0                    6.82       63.0      12.0   \n",
       "1995-10-17       432000.0                    6.86       63.0       8.0   \n",
       "1995-10-18       432000.0                    7.45       58.0      32.0   \n",
       "...                   ...                     ...        ...       ...   \n",
       "2023-02-24       509579.0                    9.13       52.0       9.0   \n",
       "2023-02-25       612511.0                    9.99       53.0      16.0   \n",
       "2023-02-26       672718.0                    8.84       70.0      19.0   \n",
       "2023-02-27       480401.0                    7.64       66.0      26.0   \n",
       "2023-02-28       714667.0                   10.61        NaN      26.0   \n",
       "\n",
       "            Length  Current stock  Re-order  Lead time  Production time  \\\n",
       "Date                                                                      \n",
       "1995-10-14      13          10770       618          7                3   \n",
       "1995-10-15       7           8039      1195          2                3   \n",
       "1995-10-16       9           7328      1372         14                6   \n",
       "1995-10-17      25           3040       688         14                2   \n",
       "1995-10-18      27           9011       704         11                6   \n",
       "...            ...            ...       ...        ...              ...   \n",
       "2023-02-24      19           3695      1206         14                6   \n",
       "2023-02-25      27           7225      1492          8                4   \n",
       "2023-02-26      18          12102       609          8                1   \n",
       "2023-02-27      20          13109       805          5                7   \n",
       "2023-02-28      29          14028       737          3                2   \n",
       "\n",
       "            Units Produced   Production cost  \n",
       "Date                                          \n",
       "1995-10-14            14828            18734  \n",
       "1995-10-15            12795            21294  \n",
       "1995-10-16            13576            19759  \n",
       "1995-10-17             8060            23073  \n",
       "1995-10-18             7532            19986  \n",
       "...                     ...              ...  \n",
       "2023-02-24             7434            17790  \n",
       "2023-02-25            10847            22642  \n",
       "2023-02-26            12405            23116  \n",
       "2023-02-27            13980            19983  \n",
       "2023-02-28             9064            16895  \n",
       "\n",
       "[10000 rows x 11 columns]"
      ]
     },
     "execution_count": 185,
     "metadata": {},
     "output_type": "execute_result"
    }
   ],
   "source": [
    "df_num = df1.select_dtypes(exclude='object') #selecting numeric type coloumns\n",
    "df_num"
   ]
  },
  {
   "cell_type": "code",
   "execution_count": 63,
   "id": "be915c67",
   "metadata": {},
   "outputs": [],
   "source": [
    "df_cat = df1.select_dtypes(include='object') # selecting object type coloumns"
   ]
  },
  {
   "cell_type": "code",
   "execution_count": 64,
   "id": "4eb55e4c",
   "metadata": {},
   "outputs": [
    {
     "data": {
      "text/html": [
       "<div>\n",
       "<style scoped>\n",
       "    .dataframe tbody tr th:only-of-type {\n",
       "        vertical-align: middle;\n",
       "    }\n",
       "\n",
       "    .dataframe tbody tr th {\n",
       "        vertical-align: top;\n",
       "    }\n",
       "\n",
       "    .dataframe thead th {\n",
       "        text-align: right;\n",
       "    }\n",
       "</style>\n",
       "<table border=\"1\" class=\"dataframe\">\n",
       "  <thead>\n",
       "    <tr style=\"text-align: right;\">\n",
       "      <th></th>\n",
       "      <th>Location</th>\n",
       "      <th>Climate</th>\n",
       "      <th>Grade</th>\n",
       "    </tr>\n",
       "    <tr>\n",
       "      <th>Date</th>\n",
       "      <th></th>\n",
       "      <th></th>\n",
       "      <th></th>\n",
       "    </tr>\n",
       "  </thead>\n",
       "  <tbody>\n",
       "    <tr>\n",
       "      <th>1995-10-14</th>\n",
       "      <td>Pune</td>\n",
       "      <td>Rainy</td>\n",
       "      <td>Fe-500</td>\n",
       "    </tr>\n",
       "    <tr>\n",
       "      <th>1995-10-15</th>\n",
       "      <td>Hyderabad</td>\n",
       "      <td>Rainy</td>\n",
       "      <td>Fe-415</td>\n",
       "    </tr>\n",
       "    <tr>\n",
       "      <th>1995-10-16</th>\n",
       "      <td>Kolkata</td>\n",
       "      <td>Rainy</td>\n",
       "      <td>Fe-500D</td>\n",
       "    </tr>\n",
       "    <tr>\n",
       "      <th>1995-10-17</th>\n",
       "      <td>Bengaluru</td>\n",
       "      <td>Rainy</td>\n",
       "      <td>Fe-550</td>\n",
       "    </tr>\n",
       "    <tr>\n",
       "      <th>1995-10-18</th>\n",
       "      <td>Delhi</td>\n",
       "      <td>Rainy</td>\n",
       "      <td>Fe-500</td>\n",
       "    </tr>\n",
       "    <tr>\n",
       "      <th>...</th>\n",
       "      <td>...</td>\n",
       "      <td>...</td>\n",
       "      <td>...</td>\n",
       "    </tr>\n",
       "    <tr>\n",
       "      <th>2023-02-24</th>\n",
       "      <td>Pune</td>\n",
       "      <td>Winter</td>\n",
       "      <td>Fe-500D</td>\n",
       "    </tr>\n",
       "    <tr>\n",
       "      <th>2023-02-25</th>\n",
       "      <td>Delhi</td>\n",
       "      <td>Winter</td>\n",
       "      <td>Fe-600D</td>\n",
       "    </tr>\n",
       "    <tr>\n",
       "      <th>2023-02-26</th>\n",
       "      <td>Kolkata</td>\n",
       "      <td>Sunny</td>\n",
       "      <td>Fe-550D</td>\n",
       "    </tr>\n",
       "    <tr>\n",
       "      <th>2023-02-27</th>\n",
       "      <td>Kolkata</td>\n",
       "      <td>Winter</td>\n",
       "      <td>NaN</td>\n",
       "    </tr>\n",
       "    <tr>\n",
       "      <th>2023-02-28</th>\n",
       "      <td>Kolkata</td>\n",
       "      <td>Sunny</td>\n",
       "      <td>Fe-600D</td>\n",
       "    </tr>\n",
       "  </tbody>\n",
       "</table>\n",
       "<p>10000 rows × 3 columns</p>\n",
       "</div>"
      ],
      "text/plain": [
       "             Location Climate    Grade\n",
       "Date                                  \n",
       "1995-10-14       Pune   Rainy   Fe-500\n",
       "1995-10-15  Hyderabad   Rainy   Fe-415\n",
       "1995-10-16    Kolkata   Rainy  Fe-500D\n",
       "1995-10-17  Bengaluru   Rainy   Fe-550\n",
       "1995-10-18      Delhi   Rainy   Fe-500\n",
       "...               ...     ...      ...\n",
       "2023-02-24       Pune  Winter  Fe-500D\n",
       "2023-02-25      Delhi  Winter  Fe-600D\n",
       "2023-02-26    Kolkata   Sunny  Fe-550D\n",
       "2023-02-27    Kolkata  Winter      NaN\n",
       "2023-02-28    Kolkata   Sunny  Fe-600D\n",
       "\n",
       "[10000 rows x 3 columns]"
      ]
     },
     "execution_count": 64,
     "metadata": {},
     "output_type": "execute_result"
    }
   ],
   "source": [
    "df_cat"
   ]
  },
  {
   "cell_type": "code",
   "execution_count": 65,
   "id": "24527710",
   "metadata": {},
   "outputs": [
    {
     "name": "stderr",
     "output_type": "stream",
     "text": [
      "C:\\Users\\sidda\\AppData\\Local\\Temp/ipykernel_21608/2795479545.py:1: SettingWithCopyWarning: \n",
      "A value is trying to be set on a copy of a slice from a DataFrame.\n",
      "Try using .loc[row_indexer,col_indexer] = value instead\n",
      "\n",
      "See the caveats in the documentation: https://pandas.pydata.org/pandas-docs/stable/user_guide/indexing.html#returning-a-view-versus-a-copy\n",
      "  df_num['Diameter']=df_num['Diameter'].replace(np.nan,df_num['Diameter'].mean())  #first i did typecasting but nan values are not converting to int so i impute the mNan values in\n"
     ]
    }
   ],
   "source": [
    "df_num['Diameter']=df_num['Diameter'].replace(np.nan,df_num['Diameter'].mean())  #first i did typecasting but nan values are not converting to int so i impute the mNan values in "
   ]
  },
  {
   "cell_type": "code",
   "execution_count": 66,
   "id": "d13682e2",
   "metadata": {},
   "outputs": [],
   "source": [
    "#type casting to the float to int"
   ]
  },
  {
   "cell_type": "code",
   "execution_count": 67,
   "id": "a9760054",
   "metadata": {},
   "outputs": [
    {
     "name": "stderr",
     "output_type": "stream",
     "text": [
      "C:\\Users\\sidda\\AppData\\Local\\Temp/ipykernel_21608/648609139.py:1: SettingWithCopyWarning: \n",
      "A value is trying to be set on a copy of a slice from a DataFrame.\n",
      "Try using .loc[row_indexer,col_indexer] = value instead\n",
      "\n",
      "See the caveats in the documentation: https://pandas.pydata.org/pandas-docs/stable/user_guide/indexing.html#returning-a-view-versus-a-copy\n",
      "  df_num[\"Diameter\"]=df_num[\"Diameter\"].astype('int64')\n"
     ]
    }
   ],
   "source": [
    "df_num[\"Diameter\"]=df_num[\"Diameter\"].astype('int64')\n"
   ]
  },
  {
   "cell_type": "code",
   "execution_count": null,
   "id": "3388e981",
   "metadata": {},
   "outputs": [],
   "source": []
  },
  {
   "cell_type": "code",
   "execution_count": 186,
   "id": "80f85396",
   "metadata": {},
   "outputs": [],
   "source": [
    "df_num = df_num.rename({'Sales in Rs/T': 'Sales_in_rs_per_ton', 'Sales volume in Tonnes': 'Sales_volume_in_Tonnes','Price/ kg':\"Price_per_kg\",'Re-order':'Re_order','Lead time':'Lead_time','Production time':'Production_time','Units Produced':'Units_Produce','Production cost':'Production_cost'}, axis=1)"
   ]
  },
  {
   "cell_type": "markdown",
   "id": "d6a6fb63",
   "metadata": {},
   "source": [
    "# missing values"
   ]
  },
  {
   "cell_type": "code",
   "execution_count": 187,
   "id": "a6ef4796",
   "metadata": {},
   "outputs": [
    {
     "data": {
      "image/png": "[encoded data removed]",
      "text/plain": [
       "<Figure size 1296x288 with 1 Axes>"
      ]
     },
     "metadata": {
      "needs_background": "light"
     },
     "output_type": "display_data"
    }
   ],
   "source": [
    "# setting the plot size\n",
    "plt.rcParams['figure.figsize']=(18,4)\n",
    "# on our data, impute the missing values using rolling window method\n",
    "df_num['Sales_volume_in_Tonnes']= df_num['Sales_volume_in_Tonnes'].interpolate(method='linear')\n",
    "# plot the complete dataset\n",
    "plt.plot(df_num['Sales_volume_in_Tonnes'], color='green')\n",
    "# add the tittle of our plot as Linear interpolation\n",
    "plt.title('Linear interpolatoin')\n",
    "# print the plot\n",
    "plt.show()"
   ]
  },
  {
   "cell_type": "markdown",
   "id": "2169847f",
   "metadata": {},
   "source": [
    "# using simple imputer"
   ]
  },
  {
   "cell_type": "code",
   "execution_count": 188,
   "id": "5cca4142",
   "metadata": {},
   "outputs": [],
   "source": [
    "from sklearn.impute import SimpleImputer"
   ]
  },
  {
   "cell_type": "code",
   "execution_count": 69,
   "id": "ee896999",
   "metadata": {},
   "outputs": [],
   "source": [
    "median_imp = SimpleImputer(missing_values=np.nan, strategy='median')"
   ]
  },
  {
   "cell_type": "code",
   "execution_count": 70,
   "id": "90b72ae5",
   "metadata": {},
   "outputs": [],
   "source": [
    "mean_imp = SimpleImputer(missing_values=np.nan, strategy='mean')"
   ]
  },
  {
   "cell_type": "markdown",
   "id": "30326652",
   "metadata": {},
   "source": []
  },
  {
   "cell_type": "code",
   "execution_count": 71,
   "id": "6c0e6887",
   "metadata": {},
   "outputs": [
    {
     "name": "stdout",
     "output_type": "stream",
     "text": [
      "<class 'pandas.core.frame.DataFrame'>\n",
      "DatetimeIndex: 10000 entries, 1995-10-14 to 2023-02-28\n",
      "Data columns (total 11 columns):\n",
      " #   Column                  Non-Null Count  Dtype  \n",
      "---  ------                  --------------  -----  \n",
      " 0   Sales in Rs/T           9992 non-null   float64\n",
      " 1   Sales volume in Tonnes  9992 non-null   float64\n",
      " 2   Price/ kg               9995 non-null   float64\n",
      " 3   Diameter                10000 non-null  int64  \n",
      " 4   Length                  10000 non-null  int64  \n",
      " 5   Current stock           10000 non-null  int64  \n",
      " 6   Re-order                10000 non-null  int64  \n",
      " 7   Lead time               10000 non-null  int64  \n",
      " 8   Production time         10000 non-null  int64  \n",
      " 9   Units Produced          10000 non-null  int64  \n",
      " 10  Production cost         10000 non-null  int64  \n",
      "dtypes: float64(3), int64(8)\n",
      "memory usage: 937.5 KB\n"
     ]
    }
   ],
   "source": [
    "df_num.info()"
   ]
  },
  {
   "cell_type": "code",
   "execution_count": 189,
   "id": "fbddc166",
   "metadata": {},
   "outputs": [],
   "source": [
    "df_num['Sales_in_rs_per_ton']= df_num['Sales_in_rs_per_ton'].interpolate(method='linear')"
   ]
  },
  {
   "cell_type": "code",
   "execution_count": 190,
   "id": "b3fe596a",
   "metadata": {},
   "outputs": [],
   "source": [
    "df_num['Sales_volume_in_Tonnes']= df_num['Sales_volume_in_Tonnes'].interpolate(method='linear')\n"
   ]
  },
  {
   "cell_type": "code",
   "execution_count": 191,
   "id": "c9e920ed",
   "metadata": {},
   "outputs": [],
   "source": [
    "df_num['Price_per_kg']= df_num['Price_per_kg'].interpolate(method='linear')"
   ]
  },
  {
   "cell_type": "code",
   "execution_count": 192,
   "id": "876c1bf1",
   "metadata": {},
   "outputs": [],
   "source": [
    "df_num['Diameter']= df_num['Diameter'].interpolate(method='linear')"
   ]
  },
  {
   "cell_type": "code",
   "execution_count": 193,
   "id": "b132cb5c",
   "metadata": {},
   "outputs": [
    {
     "data": {
      "text/plain": [
       "Sales_in_rs_per_ton       0\n",
       "Sales_volume_in_Tonnes    0\n",
       "Price_per_kg              0\n",
       "Diameter                  0\n",
       "Length                    0\n",
       "Current stock             0\n",
       "Re_order                  0\n",
       "Lead_time                 0\n",
       "Production_time           0\n",
       "Units Produced            0\n",
       "Production_cost           0\n",
       "dtype: int64"
      ]
     },
     "execution_count": 193,
     "metadata": {},
     "output_type": "execute_result"
    }
   ],
   "source": [
    "df_num.isnull().sum()"
   ]
  },
  {
   "cell_type": "markdown",
   "id": "30456433",
   "metadata": {},
   "source": []
  },
  {
   "cell_type": "code",
   "execution_count": 194,
   "id": "397b1ca8",
   "metadata": {},
   "outputs": [],
   "source": [
    "#df_num.info()"
   ]
  },
  {
   "cell_type": "code",
   "execution_count": 195,
   "id": "74cc268a",
   "metadata": {},
   "outputs": [
    {
     "data": {
      "text/html": [
       "<div>\n",
       "<style scoped>\n",
       "    .dataframe tbody tr th:only-of-type {\n",
       "        vertical-align: middle;\n",
       "    }\n",
       "\n",
       "    .dataframe tbody tr th {\n",
       "        vertical-align: top;\n",
       "    }\n",
       "\n",
       "    .dataframe thead th {\n",
       "        text-align: right;\n",
       "    }\n",
       "</style>\n",
       "<table border=\"1\" class=\"dataframe\">\n",
       "  <thead>\n",
       "    <tr style=\"text-align: right;\">\n",
       "      <th></th>\n",
       "      <th>Sales_in_rs_per_ton</th>\n",
       "      <th>Sales_volume_in_Tonnes</th>\n",
       "      <th>Price_per_kg</th>\n",
       "      <th>Diameter</th>\n",
       "      <th>Length</th>\n",
       "      <th>Current stock</th>\n",
       "      <th>Re_order</th>\n",
       "      <th>Lead_time</th>\n",
       "      <th>Production_time</th>\n",
       "      <th>Units Produced</th>\n",
       "      <th>Production_cost</th>\n",
       "    </tr>\n",
       "    <tr>\n",
       "      <th>Date</th>\n",
       "      <th></th>\n",
       "      <th></th>\n",
       "      <th></th>\n",
       "      <th></th>\n",
       "      <th></th>\n",
       "      <th></th>\n",
       "      <th></th>\n",
       "      <th></th>\n",
       "      <th></th>\n",
       "      <th></th>\n",
       "      <th></th>\n",
       "    </tr>\n",
       "  </thead>\n",
       "  <tbody>\n",
       "    <tr>\n",
       "      <th>1995-10-14</th>\n",
       "      <td>424440.0</td>\n",
       "      <td>7.07</td>\n",
       "      <td>60.0</td>\n",
       "      <td>32.0</td>\n",
       "      <td>13</td>\n",
       "      <td>10770</td>\n",
       "      <td>618</td>\n",
       "      <td>7</td>\n",
       "      <td>3</td>\n",
       "      <td>14828</td>\n",
       "      <td>18734</td>\n",
       "    </tr>\n",
       "    <tr>\n",
       "      <th>1995-10-15</th>\n",
       "      <td>426000.0</td>\n",
       "      <td>8.35</td>\n",
       "      <td>51.0</td>\n",
       "      <td>12.0</td>\n",
       "      <td>7</td>\n",
       "      <td>8039</td>\n",
       "      <td>1195</td>\n",
       "      <td>2</td>\n",
       "      <td>3</td>\n",
       "      <td>12795</td>\n",
       "      <td>21294</td>\n",
       "    </tr>\n",
       "    <tr>\n",
       "      <th>1995-10-16</th>\n",
       "      <td>429360.0</td>\n",
       "      <td>6.82</td>\n",
       "      <td>63.0</td>\n",
       "      <td>12.0</td>\n",
       "      <td>9</td>\n",
       "      <td>7328</td>\n",
       "      <td>1372</td>\n",
       "      <td>14</td>\n",
       "      <td>6</td>\n",
       "      <td>13576</td>\n",
       "      <td>19759</td>\n",
       "    </tr>\n",
       "    <tr>\n",
       "      <th>1995-10-17</th>\n",
       "      <td>432000.0</td>\n",
       "      <td>6.86</td>\n",
       "      <td>63.0</td>\n",
       "      <td>8.0</td>\n",
       "      <td>25</td>\n",
       "      <td>3040</td>\n",
       "      <td>688</td>\n",
       "      <td>14</td>\n",
       "      <td>2</td>\n",
       "      <td>8060</td>\n",
       "      <td>23073</td>\n",
       "    </tr>\n",
       "    <tr>\n",
       "      <th>1995-10-18</th>\n",
       "      <td>432000.0</td>\n",
       "      <td>7.45</td>\n",
       "      <td>58.0</td>\n",
       "      <td>32.0</td>\n",
       "      <td>27</td>\n",
       "      <td>9011</td>\n",
       "      <td>704</td>\n",
       "      <td>11</td>\n",
       "      <td>6</td>\n",
       "      <td>7532</td>\n",
       "      <td>19986</td>\n",
       "    </tr>\n",
       "    <tr>\n",
       "      <th>...</th>\n",
       "      <td>...</td>\n",
       "      <td>...</td>\n",
       "      <td>...</td>\n",
       "      <td>...</td>\n",
       "      <td>...</td>\n",
       "      <td>...</td>\n",
       "      <td>...</td>\n",
       "      <td>...</td>\n",
       "      <td>...</td>\n",
       "      <td>...</td>\n",
       "      <td>...</td>\n",
       "    </tr>\n",
       "    <tr>\n",
       "      <th>2023-02-24</th>\n",
       "      <td>509579.0</td>\n",
       "      <td>9.13</td>\n",
       "      <td>52.0</td>\n",
       "      <td>9.0</td>\n",
       "      <td>19</td>\n",
       "      <td>3695</td>\n",
       "      <td>1206</td>\n",
       "      <td>14</td>\n",
       "      <td>6</td>\n",
       "      <td>7434</td>\n",
       "      <td>17790</td>\n",
       "    </tr>\n",
       "    <tr>\n",
       "      <th>2023-02-25</th>\n",
       "      <td>612511.0</td>\n",
       "      <td>9.99</td>\n",
       "      <td>53.0</td>\n",
       "      <td>16.0</td>\n",
       "      <td>27</td>\n",
       "      <td>7225</td>\n",
       "      <td>1492</td>\n",
       "      <td>8</td>\n",
       "      <td>4</td>\n",
       "      <td>10847</td>\n",
       "      <td>22642</td>\n",
       "    </tr>\n",
       "    <tr>\n",
       "      <th>2023-02-26</th>\n",
       "      <td>672718.0</td>\n",
       "      <td>8.84</td>\n",
       "      <td>70.0</td>\n",
       "      <td>19.0</td>\n",
       "      <td>18</td>\n",
       "      <td>12102</td>\n",
       "      <td>609</td>\n",
       "      <td>8</td>\n",
       "      <td>1</td>\n",
       "      <td>12405</td>\n",
       "      <td>23116</td>\n",
       "    </tr>\n",
       "    <tr>\n",
       "      <th>2023-02-27</th>\n",
       "      <td>480401.0</td>\n",
       "      <td>7.64</td>\n",
       "      <td>66.0</td>\n",
       "      <td>26.0</td>\n",
       "      <td>20</td>\n",
       "      <td>13109</td>\n",
       "      <td>805</td>\n",
       "      <td>5</td>\n",
       "      <td>7</td>\n",
       "      <td>13980</td>\n",
       "      <td>19983</td>\n",
       "    </tr>\n",
       "    <tr>\n",
       "      <th>2023-02-28</th>\n",
       "      <td>714667.0</td>\n",
       "      <td>10.61</td>\n",
       "      <td>66.0</td>\n",
       "      <td>26.0</td>\n",
       "      <td>29</td>\n",
       "      <td>14028</td>\n",
       "      <td>737</td>\n",
       "      <td>3</td>\n",
       "      <td>2</td>\n",
       "      <td>9064</td>\n",
       "      <td>16895</td>\n",
       "    </tr>\n",
       "  </tbody>\n",
       "</table>\n",
       "<p>10000 rows × 11 columns</p>\n",
       "</div>"
      ],
      "text/plain": [
       "            Sales_in_rs_per_ton  Sales_volume_in_Tonnes  Price_per_kg  \\\n",
       "Date                                                                    \n",
       "1995-10-14             424440.0                    7.07          60.0   \n",
       "1995-10-15             426000.0                    8.35          51.0   \n",
       "1995-10-16             429360.0                    6.82          63.0   \n",
       "1995-10-17             432000.0                    6.86          63.0   \n",
       "1995-10-18             432000.0                    7.45          58.0   \n",
       "...                         ...                     ...           ...   \n",
       "2023-02-24             509579.0                    9.13          52.0   \n",
       "2023-02-25             612511.0                    9.99          53.0   \n",
       "2023-02-26             672718.0                    8.84          70.0   \n",
       "2023-02-27             480401.0                    7.64          66.0   \n",
       "2023-02-28             714667.0                   10.61          66.0   \n",
       "\n",
       "            Diameter  Length  Current stock  Re_order  Lead_time  \\\n",
       "Date                                                               \n",
       "1995-10-14      32.0      13          10770       618          7   \n",
       "1995-10-15      12.0       7           8039      1195          2   \n",
       "1995-10-16      12.0       9           7328      1372         14   \n",
       "1995-10-17       8.0      25           3040       688         14   \n",
       "1995-10-18      32.0      27           9011       704         11   \n",
       "...              ...     ...            ...       ...        ...   \n",
       "2023-02-24       9.0      19           3695      1206         14   \n",
       "2023-02-25      16.0      27           7225      1492          8   \n",
       "2023-02-26      19.0      18          12102       609          8   \n",
       "2023-02-27      26.0      20          13109       805          5   \n",
       "2023-02-28      26.0      29          14028       737          3   \n",
       "\n",
       "            Production_time  Units Produced   Production_cost  \n",
       "Date                                                           \n",
       "1995-10-14                3            14828            18734  \n",
       "1995-10-15                3            12795            21294  \n",
       "1995-10-16                6            13576            19759  \n",
       "1995-10-17                2             8060            23073  \n",
       "1995-10-18                6             7532            19986  \n",
       "...                     ...              ...              ...  \n",
       "2023-02-24                6             7434            17790  \n",
       "2023-02-25                4            10847            22642  \n",
       "2023-02-26                1            12405            23116  \n",
       "2023-02-27                7            13980            19983  \n",
       "2023-02-28                2             9064            16895  \n",
       "\n",
       "[10000 rows x 11 columns]"
      ]
     },
     "execution_count": 195,
     "metadata": {},
     "output_type": "execute_result"
    }
   ],
   "source": [
    "#df_num[\"Diameter\"]=df_num[\"Diameter\"].astype('int64')\n",
    "df_num"
   ]
  },
  {
   "cell_type": "code",
   "execution_count": null,
   "id": "f67d9407",
   "metadata": {},
   "outputs": [],
   "source": [
    "#df_num[\"Sales_in_rs_per_ton\"]=df_num[\"Sales_in_rs_per_ton\"].astype('int64')\n",
    "df_cat"
   ]
  },
  {
   "cell_type": "code",
   "execution_count": null,
   "id": "4ad0cc82",
   "metadata": {},
   "outputs": [],
   "source": [
    "df_cat.isnull().sum()"
   ]
  },
  {
   "cell_type": "code",
   "execution_count": 391,
   "id": "5643f81b",
   "metadata": {},
   "outputs": [],
   "source": [
    "mode_imp = SimpleImputer(missing_values=np.nan, strategy='most_frequent')"
   ]
  },
  {
   "cell_type": "code",
   "execution_count": 392,
   "id": "5ccec213",
   "metadata": {},
   "outputs": [],
   "source": [
    "df_cat = pd.DataFrame(mode_imp.fit_transform(df_cat))"
   ]
  },
  {
   "cell_type": "code",
   "execution_count": null,
   "id": "0272f0a2",
   "metadata": {},
   "outputs": [],
   "source": [
    "#df_cat['Location'] = df_cat['Location'].fillna(df_cat['Location'].mode()[0])"
   ]
  },
  {
   "cell_type": "code",
   "execution_count": null,
   "id": "92fe22ae",
   "metadata": {},
   "outputs": [],
   "source": [
    "#df_cat['Climate'] = df_cat['Climate'].fillna(df_cat['Climate'].mode()[0])"
   ]
  },
  {
   "cell_type": "code",
   "execution_count": 393,
   "id": "93f9b555",
   "metadata": {},
   "outputs": [
    {
     "data": {
      "text/plain": [
       "0    0\n",
       "1    0\n",
       "2    0\n",
       "dtype: int64"
      ]
     },
     "execution_count": 393,
     "metadata": {},
     "output_type": "execute_result"
    }
   ],
   "source": [
    "df_cat.isnull().sum()"
   ]
  },
  {
   "cell_type": "code",
   "execution_count": 394,
   "id": "afb14113",
   "metadata": {},
   "outputs": [
    {
     "name": "stderr",
     "output_type": "stream",
     "text": [
      "C:\\Users\\sidda\\anaconda3\\lib\\site-packages\\statsmodels\\graphics\\tsaplots.py:348: FutureWarning: The default method 'yw' can produce PACF values outside of the [-1,1] interval. After 0.13, the default will change tounadjusted Yule-Walker ('ywm'). You can use this method now by setting method='ywm'.\n",
      "  warnings.warn(\n"
     ]
    },
    {
     "data": {
      "image/png": "[encoded data removed]",
      "text/plain": [
       "<Figure size 1296x288 with 1 Axes>"
      ]
     },
     "execution_count": 394,
     "metadata": {},
     "output_type": "execute_result"
    },
    {
     "data": {
      "image/png": "[encoded data removed]",
      "text/plain": [
       "<Figure size 1296x288 with 1 Axes>"
      ]
     },
     "metadata": {
      "needs_background": "light"
     },
     "output_type": "display_data"
    },
    {
     "data": {
      "image/png": "[encoded data removed]",
      "text/plain": [
       "<Figure size 1296x288 with 1 Axes>"
      ]
     },
     "metadata": {
      "needs_background": "light"
     },
     "output_type": "display_data"
    }
   ],
   "source": [
    "import statsmodels.api as sm\n",
    "sm.graphics.tsa.plot_acf(df_num.Sales_volume_in_Tonnes.squeeze(), lags=365)\n",
    "sm.graphics.tsa.plot_pacf(df_num.Sales_volume_in_Tonnes.squeeze(), lags=4)"
   ]
  },
  {
   "cell_type": "code",
   "execution_count": 395,
   "id": "9f6dc73b",
   "metadata": {},
   "outputs": [
    {
     "name": "stdout",
     "output_type": "stream",
     "text": [
      "p value:0.0 , Series is Stationary\n"
     ]
    }
   ],
   "source": [
    "#Calculate ad fuller statistic\n",
    "adf = adfuller(df_num['Sales_volume_in_Tonnes'])[1]\n",
    "print(f\"p value:{adf.round(4)}\", \", Series is Stationary\" if adf <0.05 else \", Series is Non-Stationary\")"
   ]
  },
  {
   "cell_type": "code",
   "execution_count": 198,
   "id": "d8ec4f5d",
   "metadata": {},
   "outputs": [
    {
     "name": "stderr",
     "output_type": "stream",
     "text": [
      "C:\\Users\\sidda\\anaconda3\\lib\\site-packages\\statsmodels\\graphics\\tsaplots.py:348: FutureWarning: The default method 'yw' can produce PACF values outside of the [-1,1] interval. After 0.13, the default will change tounadjusted Yule-Walker ('ywm'). You can use this method now by setting method='ywm'.\n",
      "  warnings.warn(\n"
     ]
    },
    {
     "data": {
      "image/png": "[encoded data removed]",
      "text/plain": [
       "<Figure size 1296x288 with 1 Axes>"
      ]
     },
     "metadata": {
      "needs_background": "light"
     },
     "output_type": "display_data"
    },
    {
     "data": {
      "image/png": "[encoded data removed]",
      "text/plain": [
       "<Figure size 1296x288 with 1 Axes>"
      ]
     },
     "metadata": {
      "needs_background": "light"
     },
     "output_type": "display_data"
    }
   ],
   "source": [
    "plot_acf(df_num['Sales_volume_in_Tonnes']);\n",
    "from statsmodels.graphics.tsaplots import plot_pacf\n",
    "plot_pacf(df_num['Sales_volume_in_Tonnes']);"
   ]
  },
  {
   "cell_type": "code",
   "execution_count": 396,
   "id": "45aac0c6",
   "metadata": {},
   "outputs": [],
   "source": [
    "df_t=pd.DataFrame(df_num['Sales_volume_in_Tonnes'])"
   ]
  },
  {
   "cell_type": "code",
   "execution_count": null,
   "id": "743aed10",
   "metadata": {},
   "outputs": [],
   "source": []
  },
  {
   "cell_type": "markdown",
   "id": "e1513bbf",
   "metadata": {},
   "source": [
    "# duplicate values"
   ]
  },
  {
   "cell_type": "code",
   "execution_count": 397,
   "id": "a679846e",
   "metadata": {},
   "outputs": [
    {
     "data": {
      "text/plain": [
       "9880"
      ]
     },
     "execution_count": 397,
     "metadata": {},
     "output_type": "execute_result"
    }
   ],
   "source": [
    "df_cat.duplicated().sum()"
   ]
  },
  {
   "cell_type": "code",
   "execution_count": 398,
   "id": "50698664",
   "metadata": {},
   "outputs": [
    {
     "data": {
      "text/plain": [
       "0"
      ]
     },
     "execution_count": 398,
     "metadata": {},
     "output_type": "execute_result"
    }
   ],
   "source": [
    "df_num.duplicated().sum()"
   ]
  },
  {
   "cell_type": "code",
   "execution_count": 399,
   "id": "9ef94a77",
   "metadata": {},
   "outputs": [
    {
     "data": {
      "text/plain": [
       "Sales_in_rs_per_ton       False\n",
       "Sales_volume_in_Tonnes    False\n",
       "Price_per_kg              False\n",
       "Diameter                  False\n",
       "Length                    False\n",
       "Current stock             False\n",
       "Re_order                  False\n",
       "Lead_time                 False\n",
       "Production_time           False\n",
       "Units Produced            False\n",
       "Production_cost           False\n",
       "dtype: bool"
      ]
     },
     "execution_count": 399,
     "metadata": {},
     "output_type": "execute_result"
    }
   ],
   "source": [
    "#df_num.var() # variance of numeric variables\n",
    "#df_num.var() == 0\n",
    "df_num.var(axis = 0) == 0"
   ]
  },
  {
   "cell_type": "code",
   "execution_count": null,
   "id": "cb5fd429",
   "metadata": {},
   "outputs": [],
   "source": []
  },
  {
   "cell_type": "code",
   "execution_count": null,
   "id": "c4045309",
   "metadata": {},
   "outputs": [],
   "source": []
  },
  {
   "cell_type": "markdown",
   "id": "21278e6e",
   "metadata": {},
   "source": [
    "# #  outlier analysis"
   ]
  },
  {
   "cell_type": "code",
   "execution_count": 400,
   "id": "b7a23de7",
   "metadata": {},
   "outputs": [
    {
     "data": {
      "text/plain": [
       "<AxesSubplot:>"
      ]
     },
     "execution_count": 400,
     "metadata": {},
     "output_type": "execute_result"
    },
    {
     "data": {
      "image/png": "[encoded data removed]",
      "text/plain": [
       "<Figure size 1296x288 with 1 Axes>"
      ]
     },
     "metadata": {
      "needs_background": "light"
     },
     "output_type": "display_data"
    }
   ],
   "source": [
    "#sns.boxplot(data=df_num['Sales_volume_in_Tonnes'])\n",
    "sns.boxplot(data=df_num['Sales_in_rs_per_ton'])"
   ]
  },
  {
   "cell_type": "code",
   "execution_count": 401,
   "id": "c29e2ed5",
   "metadata": {},
   "outputs": [
    {
     "data": {
      "image/png": "[encoded data removed]",
      "text/plain": [
       "<Figure size 1296x288 with 1 Axes>"
      ]
     },
     "metadata": {
      "needs_background": "light"
     },
     "output_type": "display_data"
    },
    {
     "data": {
      "image/png": "[encoded data removed]",
      "text/plain": [
       "<Figure size 1296x288 with 1 Axes>"
      ]
     },
     "metadata": {
      "needs_background": "light"
     },
     "output_type": "display_data"
    },
    {
     "data": {
      "image/png": "[encoded data removed]",
      "text/plain": [
       "<Figure size 1296x288 with 1 Axes>"
      ]
     },
     "metadata": {
      "needs_background": "light"
     },
     "output_type": "display_data"
    },
    {
     "data": {
      "image/png": "[encoded data removed]",
      "text/plain": [
       "<Figure size 1296x288 with 1 Axes>"
      ]
     },
     "metadata": {
      "needs_background": "light"
     },
     "output_type": "display_data"
    },
    {
     "data": {
      "image/png": "[encoded data removed]",
      "text/plain": [
       "<Figure size 1296x288 with 1 Axes>"
      ]
     },
     "metadata": {
      "needs_background": "light"
     },
     "output_type": "display_data"
    },
    {
     "data": {
      "image/png": "[encoded data removed]",
      "text/plain": [
       "<Figure size 1296x288 with 1 Axes>"
      ]
     },
     "metadata": {
      "needs_background": "light"
     },
     "output_type": "display_data"
    },
    {
     "data": {
      "image/png": "[encoded data removed]",
      "text/plain": [
       "<Figure size 1296x288 with 1 Axes>"
      ]
     },
     "metadata": {
      "needs_background": "light"
     },
     "output_type": "display_data"
    },
    {
     "data": {
      "image/png": "[encoded data removed]",
      "text/plain": [
       "<Figure size 1296x288 with 1 Axes>"
      ]
     },
     "metadata": {
      "needs_background": "light"
     },
     "output_type": "display_data"
    },
    {
     "data": {
      "image/png": "[encoded data removed]",
      "text/plain": [
       "<Figure size 1296x288 with 1 Axes>"
      ]
     },
     "metadata": {
      "needs_background": "light"
     },
     "output_type": "display_data"
    },
    {
     "data": {
      "image/png": "[encoded data removed]",
      "text/plain": [
       "<Figure size 1296x288 with 1 Axes>"
      ]
     },
     "metadata": {
      "needs_background": "light"
     },
     "output_type": "display_data"
    },
    {
     "data": {
      "image/png": "[encoded data removed]",
      "text/plain": [
       "<Figure size 1296x288 with 1 Axes>"
      ]
     },
     "metadata": {
      "needs_background": "light"
     },
     "output_type": "display_data"
    }
   ],
   "source": [
    "for i in df_num.columns:\n",
    "    df_num[[i]].boxplot()\n",
    "    plt.show()\n"
   ]
  },
  {
   "cell_type": "code",
   "execution_count": 402,
   "id": "9e73f462",
   "metadata": {},
   "outputs": [
    {
     "name": "stdout",
     "output_type": "stream",
     "text": [
      "(array([   5,   46,  131,  177,  257, 9547], dtype=int64),)\n"
     ]
    }
   ],
   "source": [
    "print(np.where(df_num['Sales_in_rs_per_ton']<100000))#outliers are present. is extremly low values"
   ]
  },
  {
   "cell_type": "code",
   "execution_count": 403,
   "id": "c260b791",
   "metadata": {},
   "outputs": [
    {
     "name": "stdout",
     "output_type": "stream",
     "text": [
      "(array([  11,   47,  161,  342,  396,  462,  469,  479,  486,  489,  491,\n",
      "        497,  501, 1256, 2077, 2109, 2704, 3392, 3417, 3582, 3585, 4276,\n",
      "       4600, 4623, 5176, 5375, 5445, 5571, 5759, 6070, 6226, 6331, 8013,\n",
      "       8040, 8608, 8716, 8746, 9520, 9884, 9946, 9977], dtype=int64),)\n"
     ]
    }
   ],
   "source": [
    "print(np.where(df_num['Sales_volume_in_Tonnes']>13))# there are some outliers present in the data but those are not outliers"
   ]
  },
  {
   "cell_type": "code",
   "execution_count": 404,
   "id": "fa57eafc",
   "metadata": {},
   "outputs": [
    {
     "data": {
      "text/plain": [
       "15.6"
      ]
     },
     "execution_count": 404,
     "metadata": {},
     "output_type": "execute_result"
    }
   ],
   "source": [
    "df_num['Sales_volume_in_Tonnes'].max()"
   ]
  },
  {
   "cell_type": "code",
   "execution_count": 405,
   "id": "839f5116",
   "metadata": {},
   "outputs": [
    {
     "data": {
      "text/plain": [
       "0"
      ]
     },
     "execution_count": 405,
     "metadata": {},
     "output_type": "execute_result"
    }
   ],
   "source": [
    "(df_num['Sales_volume_in_Tonnes']>15.6).sum()"
   ]
  },
  {
   "cell_type": "code",
   "execution_count": 406,
   "id": "9892c0bf",
   "metadata": {},
   "outputs": [],
   "source": [
    "IQR = df_num.quantile(0.75) - df_num.quantile(0.25) # IQR - Inter quartile range IQR = Q3-Q1\n",
    "lower_limit = df_num.quantile(0.25) - (IQR * 1.5) # Q1 - 1.5 * IQR\n",
    "upper_limit = df_num.quantile(0.75) + (IQR * 1.5) # Q3 + 1.5 * IQR"
   ]
  },
  {
   "cell_type": "code",
   "execution_count": 407,
   "id": "31ac4a59",
   "metadata": {},
   "outputs": [],
   "source": [
    "IQR = df_num['Sales_volume_in_Tonnes'].quantile(0.75) - df_num['Sales_volume_in_Tonnes'].quantile(0.25) # IQR - Inter quartile range IQR = Q3-Q1\n",
    "lower_limit = df_num['Sales_volume_in_Tonnes'].quantile(0.25) - (IQR * 1.5) # Q1 - 1.5 * IQR\n",
    "upper_limit =df_num['Sales_volume_in_Tonnes'].quantile(0.75) + (IQR * 1.5)"
   ]
  },
  {
   "cell_type": "code",
   "execution_count": 408,
   "id": "90bdd417",
   "metadata": {},
   "outputs": [
    {
     "data": {
      "text/plain": [
       "((10000, 11), (9949, 11))"
      ]
     },
     "execution_count": 408,
     "metadata": {},
     "output_type": "execute_result"
    }
   ],
   "source": [
    "\n",
    "outliers_df = np.where(df_num.Sales_volume_in_Tonnes > upper_limit, True, np.where(df_num.Sales_volume_in_Tonnes < lower_limit, True, False))\n",
    "df_trimmed = df_num.loc[~(outliers_df),]\n",
    "df_num.shape, df_trimmed.shape"
   ]
  },
  {
   "cell_type": "code",
   "execution_count": 409,
   "id": "38891f68",
   "metadata": {},
   "outputs": [
    {
     "data": {
      "text/html": [
       "<div>\n",
       "<style scoped>\n",
       "    .dataframe tbody tr th:only-of-type {\n",
       "        vertical-align: middle;\n",
       "    }\n",
       "\n",
       "    .dataframe tbody tr th {\n",
       "        vertical-align: top;\n",
       "    }\n",
       "\n",
       "    .dataframe thead th {\n",
       "        text-align: right;\n",
       "    }\n",
       "</style>\n",
       "<table border=\"1\" class=\"dataframe\">\n",
       "  <thead>\n",
       "    <tr style=\"text-align: right;\">\n",
       "      <th></th>\n",
       "      <th>Sales_in_rs_per_ton</th>\n",
       "      <th>Sales_volume_in_Tonnes</th>\n",
       "      <th>Price_per_kg</th>\n",
       "      <th>Diameter</th>\n",
       "      <th>Length</th>\n",
       "      <th>Current stock</th>\n",
       "      <th>Re_order</th>\n",
       "      <th>Lead_time</th>\n",
       "      <th>Production_time</th>\n",
       "      <th>Units Produced</th>\n",
       "      <th>Production_cost</th>\n",
       "    </tr>\n",
       "    <tr>\n",
       "      <th>Date</th>\n",
       "      <th></th>\n",
       "      <th></th>\n",
       "      <th></th>\n",
       "      <th></th>\n",
       "      <th></th>\n",
       "      <th></th>\n",
       "      <th></th>\n",
       "      <th></th>\n",
       "      <th></th>\n",
       "      <th></th>\n",
       "      <th></th>\n",
       "    </tr>\n",
       "  </thead>\n",
       "  <tbody>\n",
       "    <tr>\n",
       "      <th>1995-10-14</th>\n",
       "      <td>424440.0</td>\n",
       "      <td>7.07</td>\n",
       "      <td>60.0</td>\n",
       "      <td>32.0</td>\n",
       "      <td>13</td>\n",
       "      <td>10770</td>\n",
       "      <td>618</td>\n",
       "      <td>7</td>\n",
       "      <td>3</td>\n",
       "      <td>14828</td>\n",
       "      <td>18734</td>\n",
       "    </tr>\n",
       "    <tr>\n",
       "      <th>1995-10-15</th>\n",
       "      <td>426000.0</td>\n",
       "      <td>8.35</td>\n",
       "      <td>51.0</td>\n",
       "      <td>12.0</td>\n",
       "      <td>7</td>\n",
       "      <td>8039</td>\n",
       "      <td>1195</td>\n",
       "      <td>2</td>\n",
       "      <td>3</td>\n",
       "      <td>12795</td>\n",
       "      <td>21294</td>\n",
       "    </tr>\n",
       "    <tr>\n",
       "      <th>1995-10-16</th>\n",
       "      <td>429360.0</td>\n",
       "      <td>6.82</td>\n",
       "      <td>63.0</td>\n",
       "      <td>12.0</td>\n",
       "      <td>9</td>\n",
       "      <td>7328</td>\n",
       "      <td>1372</td>\n",
       "      <td>14</td>\n",
       "      <td>6</td>\n",
       "      <td>13576</td>\n",
       "      <td>19759</td>\n",
       "    </tr>\n",
       "    <tr>\n",
       "      <th>1995-10-17</th>\n",
       "      <td>432000.0</td>\n",
       "      <td>6.86</td>\n",
       "      <td>63.0</td>\n",
       "      <td>8.0</td>\n",
       "      <td>25</td>\n",
       "      <td>3040</td>\n",
       "      <td>688</td>\n",
       "      <td>14</td>\n",
       "      <td>2</td>\n",
       "      <td>8060</td>\n",
       "      <td>23073</td>\n",
       "    </tr>\n",
       "    <tr>\n",
       "      <th>1995-10-18</th>\n",
       "      <td>432000.0</td>\n",
       "      <td>7.45</td>\n",
       "      <td>58.0</td>\n",
       "      <td>32.0</td>\n",
       "      <td>27</td>\n",
       "      <td>9011</td>\n",
       "      <td>704</td>\n",
       "      <td>11</td>\n",
       "      <td>6</td>\n",
       "      <td>7532</td>\n",
       "      <td>19986</td>\n",
       "    </tr>\n",
       "    <tr>\n",
       "      <th>...</th>\n",
       "      <td>...</td>\n",
       "      <td>...</td>\n",
       "      <td>...</td>\n",
       "      <td>...</td>\n",
       "      <td>...</td>\n",
       "      <td>...</td>\n",
       "      <td>...</td>\n",
       "      <td>...</td>\n",
       "      <td>...</td>\n",
       "      <td>...</td>\n",
       "      <td>...</td>\n",
       "    </tr>\n",
       "    <tr>\n",
       "      <th>2023-02-24</th>\n",
       "      <td>509579.0</td>\n",
       "      <td>9.13</td>\n",
       "      <td>52.0</td>\n",
       "      <td>9.0</td>\n",
       "      <td>19</td>\n",
       "      <td>3695</td>\n",
       "      <td>1206</td>\n",
       "      <td>14</td>\n",
       "      <td>6</td>\n",
       "      <td>7434</td>\n",
       "      <td>17790</td>\n",
       "    </tr>\n",
       "    <tr>\n",
       "      <th>2023-02-25</th>\n",
       "      <td>612511.0</td>\n",
       "      <td>9.99</td>\n",
       "      <td>53.0</td>\n",
       "      <td>16.0</td>\n",
       "      <td>27</td>\n",
       "      <td>7225</td>\n",
       "      <td>1492</td>\n",
       "      <td>8</td>\n",
       "      <td>4</td>\n",
       "      <td>10847</td>\n",
       "      <td>22642</td>\n",
       "    </tr>\n",
       "    <tr>\n",
       "      <th>2023-02-26</th>\n",
       "      <td>672718.0</td>\n",
       "      <td>8.84</td>\n",
       "      <td>70.0</td>\n",
       "      <td>19.0</td>\n",
       "      <td>18</td>\n",
       "      <td>12102</td>\n",
       "      <td>609</td>\n",
       "      <td>8</td>\n",
       "      <td>1</td>\n",
       "      <td>12405</td>\n",
       "      <td>23116</td>\n",
       "    </tr>\n",
       "    <tr>\n",
       "      <th>2023-02-27</th>\n",
       "      <td>480401.0</td>\n",
       "      <td>7.64</td>\n",
       "      <td>66.0</td>\n",
       "      <td>26.0</td>\n",
       "      <td>20</td>\n",
       "      <td>13109</td>\n",
       "      <td>805</td>\n",
       "      <td>5</td>\n",
       "      <td>7</td>\n",
       "      <td>13980</td>\n",
       "      <td>19983</td>\n",
       "    </tr>\n",
       "    <tr>\n",
       "      <th>2023-02-28</th>\n",
       "      <td>714667.0</td>\n",
       "      <td>10.61</td>\n",
       "      <td>66.0</td>\n",
       "      <td>26.0</td>\n",
       "      <td>29</td>\n",
       "      <td>14028</td>\n",
       "      <td>737</td>\n",
       "      <td>3</td>\n",
       "      <td>2</td>\n",
       "      <td>9064</td>\n",
       "      <td>16895</td>\n",
       "    </tr>\n",
       "  </tbody>\n",
       "</table>\n",
       "<p>10000 rows × 11 columns</p>\n",
       "</div>"
      ],
      "text/plain": [
       "            Sales_in_rs_per_ton  Sales_volume_in_Tonnes  Price_per_kg  \\\n",
       "Date                                                                    \n",
       "1995-10-14             424440.0                    7.07          60.0   \n",
       "1995-10-15             426000.0                    8.35          51.0   \n",
       "1995-10-16             429360.0                    6.82          63.0   \n",
       "1995-10-17             432000.0                    6.86          63.0   \n",
       "1995-10-18             432000.0                    7.45          58.0   \n",
       "...                         ...                     ...           ...   \n",
       "2023-02-24             509579.0                    9.13          52.0   \n",
       "2023-02-25             612511.0                    9.99          53.0   \n",
       "2023-02-26             672718.0                    8.84          70.0   \n",
       "2023-02-27             480401.0                    7.64          66.0   \n",
       "2023-02-28             714667.0                   10.61          66.0   \n",
       "\n",
       "            Diameter  Length  Current stock  Re_order  Lead_time  \\\n",
       "Date                                                               \n",
       "1995-10-14      32.0      13          10770       618          7   \n",
       "1995-10-15      12.0       7           8039      1195          2   \n",
       "1995-10-16      12.0       9           7328      1372         14   \n",
       "1995-10-17       8.0      25           3040       688         14   \n",
       "1995-10-18      32.0      27           9011       704         11   \n",
       "...              ...     ...            ...       ...        ...   \n",
       "2023-02-24       9.0      19           3695      1206         14   \n",
       "2023-02-25      16.0      27           7225      1492          8   \n",
       "2023-02-26      19.0      18          12102       609          8   \n",
       "2023-02-27      26.0      20          13109       805          5   \n",
       "2023-02-28      26.0      29          14028       737          3   \n",
       "\n",
       "            Production_time  Units Produced   Production_cost  \n",
       "Date                                                           \n",
       "1995-10-14                3            14828            18734  \n",
       "1995-10-15                3            12795            21294  \n",
       "1995-10-16                6            13576            19759  \n",
       "1995-10-17                2             8060            23073  \n",
       "1995-10-18                6             7532            19986  \n",
       "...                     ...              ...              ...  \n",
       "2023-02-24                6             7434            17790  \n",
       "2023-02-25                4            10847            22642  \n",
       "2023-02-26                1            12405            23116  \n",
       "2023-02-27                7            13980            19983  \n",
       "2023-02-28                2             9064            16895  \n",
       "\n",
       "[10000 rows x 11 columns]"
      ]
     },
     "execution_count": 409,
     "metadata": {},
     "output_type": "execute_result"
    }
   ],
   "source": [
    "df_num"
   ]
  },
  {
   "cell_type": "code",
   "execution_count": null,
   "id": "42b0b1b7",
   "metadata": {},
   "outputs": [],
   "source": []
  },
  {
   "cell_type": "code",
   "execution_count": null,
   "id": "b9274a15",
   "metadata": {},
   "outputs": [],
   "source": []
  },
  {
   "cell_type": "code",
   "execution_count": 410,
   "id": "54810ece",
   "metadata": {},
   "outputs": [
    {
     "name": "stdout",
     "output_type": "stream",
     "text": [
      "Requirement already satisfied: feature_engine in c:\\users\\sidda\\anaconda3\\lib\\site-packages (1.5.2)\n",
      "Requirement already satisfied: numpy>=1.18.2 in c:\\users\\sidda\\anaconda3\\lib\\site-packages (from feature_engine) (1.21.6)\n",
      "Requirement already satisfied: pandas>=1.0.3 in c:\\users\\sidda\\anaconda3\\lib\\site-packages (from feature_engine) (1.3.5)\n",
      "Requirement already satisfied: scipy>=1.4.1 in c:\\users\\sidda\\anaconda3\\lib\\site-packages (from feature_engine) (1.7.3)\n",
      "Requirement already satisfied: statsmodels>=0.11.1 in c:\\users\\sidda\\anaconda3\\lib\\site-packages (from feature_engine) (0.13.5)\n",
      "Requirement already satisfied: scikit-learn>=1.0.0 in c:\\users\\sidda\\anaconda3\\lib\\site-packages (from feature_engine) (1.2.2)\n",
      "Requirement already satisfied: pytz>=2017.3 in c:\\users\\sidda\\anaconda3\\lib\\site-packages (from pandas>=1.0.3->feature_engine) (2021.3)\n",
      "Requirement already satisfied: python-dateutil>=2.7.3 in c:\\users\\sidda\\anaconda3\\lib\\site-packages (from pandas>=1.0.3->feature_engine) (2.8.2)\n",
      "Requirement already satisfied: threadpoolctl>=2.0.0 in c:\\users\\sidda\\anaconda3\\lib\\site-packages (from scikit-learn>=1.0.0->feature_engine) (2.2.0)\n",
      "Requirement already satisfied: joblib>=1.1.1 in c:\\users\\sidda\\anaconda3\\lib\\site-packages (from scikit-learn>=1.0.0->feature_engine) (1.2.0)\n",
      "Requirement already satisfied: packaging>=21.3 in c:\\users\\sidda\\anaconda3\\lib\\site-packages (from statsmodels>=0.11.1->feature_engine) (23.0)\n",
      "Requirement already satisfied: patsy>=0.5.2 in c:\\users\\sidda\\anaconda3\\lib\\site-packages (from statsmodels>=0.11.1->feature_engine) (0.5.2)\n",
      "Requirement already satisfied: six in c:\\users\\sidda\\anaconda3\\lib\\site-packages (from patsy>=0.5.2->statsmodels>=0.11.1->feature_engine) (1.16.0)"
     ]
    },
    {
     "name": "stderr",
     "output_type": "stream",
     "text": [
      "WARNING: Ignoring invalid distribution -cipy (c:\\users\\sidda\\anaconda3\\lib\\site-packages)\n",
      "WARNING: Ignoring invalid distribution -andas (c:\\users\\sidda\\anaconda3\\lib\\site-packages)\n",
      "WARNING: Ignoring invalid distribution -cipy (c:\\users\\sidda\\anaconda3\\lib\\site-packages)\n",
      "WARNING: Ignoring invalid distribution -andas (c:\\users\\sidda\\anaconda3\\lib\\site-packages)\n",
      "WARNING: Ignoring invalid distribution -cipy (c:\\users\\sidda\\anaconda3\\lib\\site-packages)\n",
      "WARNING: Ignoring invalid distribution -andas (c:\\users\\sidda\\anaconda3\\lib\\site-packages)"
     ]
    },
    {
     "name": "stdout",
     "output_type": "stream",
     "text": [
      "\n"
     ]
    },
    {
     "name": "stderr",
     "output_type": "stream",
     "text": [
      "\n",
      "WARNING: Ignoring invalid distribution -cipy (c:\\users\\sidda\\anaconda3\\lib\\site-packages)\n",
      "WARNING: Ignoring invalid distribution -andas (c:\\users\\sidda\\anaconda3\\lib\\site-packages)\n",
      "WARNING: Ignoring invalid distribution -cipy (c:\\users\\sidda\\anaconda3\\lib\\site-packages)\n",
      "WARNING: Ignoring invalid distribution -andas (c:\\users\\sidda\\anaconda3\\lib\\site-packages)\n",
      "WARNING: Ignoring invalid distribution -cipy (c:\\users\\sidda\\anaconda3\\lib\\site-packages)\n",
      "WARNING: Ignoring invalid distribution -andas (c:\\users\\sidda\\anaconda3\\lib\\site-packages)\n"
     ]
    }
   ],
   "source": [
    "#i dont want to remove outliers because it loss the some information dataset\n",
    "#modify the distubtion with removing by outliers\n",
    "#pip install feature_engine"
   ]
  },
  {
   "cell_type": "code",
   "execution_count": 411,
   "id": "cc9b9ec3",
   "metadata": {},
   "outputs": [],
   "source": [
    "import feature_engine.outliers.winsorizer"
   ]
  },
  {
   "cell_type": "code",
   "execution_count": 416,
   "id": "44003e1c",
   "metadata": {},
   "outputs": [],
   "source": [
    "from feature_engine.outliers.winsorizer import Winsorizer"
   ]
  },
  {
   "cell_type": "code",
   "execution_count": 417,
   "id": "92329852",
   "metadata": {},
   "outputs": [],
   "source": [
    "winsorizer = Winsorizer(capping_method ='iqr', # choose skewed for IQR rule boundaries or gaussian for mean and std\n",
    "                          tail='both', # cap left, right or both tails \n",
    "                          fold=1.5, # 1.5 times of iqr\n",
    "                          variables=['Sales_volume_in_Tonnes'])"
   ]
  },
  {
   "cell_type": "code",
   "execution_count": 418,
   "id": "9d67cea7",
   "metadata": {},
   "outputs": [],
   "source": [
    "df_num['Sales_volume_in_Tonnes'] = winsorizer.fit_transform(df_num[['Sales_volume_in_Tonnes']])"
   ]
  },
  {
   "cell_type": "code",
   "execution_count": 419,
   "id": "fbadb1f0",
   "metadata": {},
   "outputs": [
    {
     "data": {
      "text/plain": [
       "<AxesSubplot:>"
      ]
     },
     "execution_count": 419,
     "metadata": {},
     "output_type": "execute_result"
    },
    {
     "data": {
      "image/png": "[encoded data removed]",
      "text/plain": [
       "<Figure size 1296x288 with 1 Axes>"
      ]
     },
     "metadata": {
      "needs_background": "light"
     },
     "output_type": "display_data"
    }
   ],
   "source": [
    "df_num.boxplot()"
   ]
  },
  {
   "cell_type": "markdown",
   "id": "61da04cb",
   "metadata": {},
   "source": [
    "# descritization"
   ]
  },
  {
   "cell_type": "code",
   "execution_count": null,
   "id": "0856736a",
   "metadata": {},
   "outputs": [],
   "source": [
    "# if need will do"
   ]
  },
  {
   "cell_type": "markdown",
   "id": "ef68cf49",
   "metadata": {},
   "source": [
    "# dummy variablecom"
   ]
  },
  {
   "cell_type": "code",
   "execution_count": 420,
   "id": "2d978d34",
   "metadata": {},
   "outputs": [
    {
     "name": "stdout",
     "output_type": "stream",
     "text": [
      "<class 'pandas.core.frame.DataFrame'>\n",
      "RangeIndex: 10000 entries, 0 to 9999\n",
      "Data columns (total 3 columns):\n",
      " #   Column  Non-Null Count  Dtype \n",
      "---  ------  --------------  ----- \n",
      " 0   0       10000 non-null  object\n",
      " 1   1       10000 non-null  object\n",
      " 2   2       10000 non-null  object\n",
      "dtypes: object(3)\n",
      "memory usage: 234.5+ KB\n"
     ]
    }
   ],
   "source": [
    "df_cat.info()"
   ]
  },
  {
   "cell_type": "code",
   "execution_count": 421,
   "id": "846c7947",
   "metadata": {},
   "outputs": [],
   "source": [
    "from sklearn.preprocessing import LabelEncoder"
   ]
  },
  {
   "cell_type": "code",
   "execution_count": 422,
   "id": "3678ba64",
   "metadata": {},
   "outputs": [],
   "source": [
    "# Creating instance of labelencoder\n",
    "labelencoder = LabelEncoder()"
   ]
  },
  {
   "cell_type": "code",
   "execution_count": null,
   "id": "7150fb97",
   "metadata": {},
   "outputs": [],
   "source": []
  },
  {
   "cell_type": "code",
   "execution_count": 423,
   "id": "a17cf73c",
   "metadata": {},
   "outputs": [],
   "source": [
    "#df_cat['Climate'] = labelencoder.fit_transform(df_cat['Climate'] )"
   ]
  },
  {
   "cell_type": "code",
   "execution_count": null,
   "id": "1d54c7cf",
   "metadata": {},
   "outputs": [],
   "source": []
  },
  {
   "cell_type": "code",
   "execution_count": 424,
   "id": "02827515",
   "metadata": {},
   "outputs": [],
   "source": [
    "df_cat1=df_cat"
   ]
  },
  {
   "cell_type": "code",
   "execution_count": 425,
   "id": "91695886",
   "metadata": {},
   "outputs": [
    {
     "data": {
      "text/html": [
       "<div>\n",
       "<style scoped>\n",
       "    .dataframe tbody tr th:only-of-type {\n",
       "        vertical-align: middle;\n",
       "    }\n",
       "\n",
       "    .dataframe tbody tr th {\n",
       "        vertical-align: top;\n",
       "    }\n",
       "\n",
       "    .dataframe thead th {\n",
       "        text-align: right;\n",
       "    }\n",
       "</style>\n",
       "<table border=\"1\" class=\"dataframe\">\n",
       "  <thead>\n",
       "    <tr style=\"text-align: right;\">\n",
       "      <th></th>\n",
       "      <th>0</th>\n",
       "      <th>1</th>\n",
       "      <th>2</th>\n",
       "    </tr>\n",
       "  </thead>\n",
       "  <tbody>\n",
       "    <tr>\n",
       "      <th>0</th>\n",
       "      <td>Pune</td>\n",
       "      <td>Rainy</td>\n",
       "      <td>Fe-500</td>\n",
       "    </tr>\n",
       "    <tr>\n",
       "      <th>1</th>\n",
       "      <td>Hyderabad</td>\n",
       "      <td>Rainy</td>\n",
       "      <td>Fe-415</td>\n",
       "    </tr>\n",
       "    <tr>\n",
       "      <th>2</th>\n",
       "      <td>Kolkata</td>\n",
       "      <td>Rainy</td>\n",
       "      <td>Fe-500D</td>\n",
       "    </tr>\n",
       "    <tr>\n",
       "      <th>3</th>\n",
       "      <td>Bengaluru</td>\n",
       "      <td>Rainy</td>\n",
       "      <td>Fe-550</td>\n",
       "    </tr>\n",
       "    <tr>\n",
       "      <th>4</th>\n",
       "      <td>Delhi</td>\n",
       "      <td>Rainy</td>\n",
       "      <td>Fe-500</td>\n",
       "    </tr>\n",
       "    <tr>\n",
       "      <th>...</th>\n",
       "      <td>...</td>\n",
       "      <td>...</td>\n",
       "      <td>...</td>\n",
       "    </tr>\n",
       "    <tr>\n",
       "      <th>9995</th>\n",
       "      <td>Pune</td>\n",
       "      <td>Winter</td>\n",
       "      <td>Fe-500D</td>\n",
       "    </tr>\n",
       "    <tr>\n",
       "      <th>9996</th>\n",
       "      <td>Delhi</td>\n",
       "      <td>Winter</td>\n",
       "      <td>Fe-600D</td>\n",
       "    </tr>\n",
       "    <tr>\n",
       "      <th>9997</th>\n",
       "      <td>Kolkata</td>\n",
       "      <td>Sunny</td>\n",
       "      <td>Fe-550D</td>\n",
       "    </tr>\n",
       "    <tr>\n",
       "      <th>9998</th>\n",
       "      <td>Kolkata</td>\n",
       "      <td>Winter</td>\n",
       "      <td>Fe-600</td>\n",
       "    </tr>\n",
       "    <tr>\n",
       "      <th>9999</th>\n",
       "      <td>Kolkata</td>\n",
       "      <td>Sunny</td>\n",
       "      <td>Fe-600D</td>\n",
       "    </tr>\n",
       "  </tbody>\n",
       "</table>\n",
       "<p>10000 rows × 3 columns</p>\n",
       "</div>"
      ],
      "text/plain": [
       "              0       1        2\n",
       "0          Pune   Rainy   Fe-500\n",
       "1     Hyderabad   Rainy   Fe-415\n",
       "2       Kolkata   Rainy  Fe-500D\n",
       "3     Bengaluru   Rainy   Fe-550\n",
       "4         Delhi   Rainy   Fe-500\n",
       "...         ...     ...      ...\n",
       "9995       Pune  Winter  Fe-500D\n",
       "9996      Delhi  Winter  Fe-600D\n",
       "9997    Kolkata   Sunny  Fe-550D\n",
       "9998    Kolkata  Winter   Fe-600\n",
       "9999    Kolkata   Sunny  Fe-600D\n",
       "\n",
       "[10000 rows x 3 columns]"
      ]
     },
     "execution_count": 425,
     "metadata": {},
     "output_type": "execute_result"
    }
   ],
   "source": [
    "df_cat1"
   ]
  },
  {
   "cell_type": "markdown",
   "id": "d5494268",
   "metadata": {},
   "source": [
    "# transormation"
   ]
  },
  {
   "cell_type": "code",
   "execution_count": null,
   "id": "994b9d98",
   "metadata": {},
   "outputs": [],
   "source": [
    "df_num.info()"
   ]
  },
  {
   "cell_type": "code",
   "execution_count": null,
   "id": "e7beead3",
   "metadata": {},
   "outputs": [],
   "source": [
    "stats.probplot(df_num.Sales_in_rs_per_ton, dist = \"norm\", plot = pylab)"
   ]
  },
  {
   "cell_type": "code",
   "execution_count": null,
   "id": "28b9a784",
   "metadata": {},
   "outputs": [],
   "source": [
    "stats.probplot(df_num.Sales_volume_in_Tonnes, dist = \"norm\", plot = pylab)\n",
    "\n",
    "stats.probplot(df_num.Diameter, dist = \"norm\", plot = pylab)\n",
    "\n",
    "\n",
    "\n"
   ]
  },
  {
   "cell_type": "code",
   "execution_count": null,
   "id": "186a7519",
   "metadata": {},
   "outputs": [],
   "source": [
    "stats.probplot(df_num.Price_per_kg, dist = \"norm\", plot = pylab)\n",
    "stats.probplot(df_num.Length, dist = \"norm\", plot = pylab)"
   ]
  },
  {
   "cell_type": "code",
   "execution_count": null,
   "id": "e4884347",
   "metadata": {},
   "outputs": [],
   "source": [
    "stats.probplot(df_num.Re_order, dist = \"norm\", plot = pylab)\n"
   ]
  },
  {
   "cell_type": "code",
   "execution_count": null,
   "id": "4db5a24a",
   "metadata": {},
   "outputs": [],
   "source": [
    "stats.probplot(df_num.Lead_time, dist = \"norm\", plot = pylab)\n",
    "stats.probplot(df_num.Production_time, dist = \"norm\", plot = pylab)"
   ]
  },
  {
   "cell_type": "code",
   "execution_count": null,
   "id": "8cbaa28b",
   "metadata": {},
   "outputs": [],
   "source": [
    "\n",
    "stats.probplot(df_num.Production_cost, dist = \"norm\", plot = pylab)"
   ]
  },
  {
   "cell_type": "code",
   "execution_count": null,
   "id": "a49cdc62",
   "metadata": {},
   "outputs": [],
   "source": [
    "#there is no need to transformation because data we hve mostly near to the mean.mean = 0 and std=3"
   ]
  },
  {
   "cell_type": "markdown",
   "id": "ef5bc699",
   "metadata": {},
   "source": [
    "#  ARIMA without normilizing and outlier analysis "
   ]
  },
  {
   "cell_type": "code",
   "execution_count": 426,
   "id": "5897d2aa",
   "metadata": {},
   "outputs": [
    {
     "name": "stderr",
     "output_type": "stream",
     "text": [
      "C:\\Users\\sidda\\anaconda3\\lib\\site-packages\\statsmodels\\graphics\\tsaplots.py:348: FutureWarning: The default method 'yw' can produce PACF values outside of the [-1,1] interval. After 0.13, the default will change tounadjusted Yule-Walker ('ywm'). You can use this method now by setting method='ywm'.\n",
      "  warnings.warn(\n"
     ]
    },
    {
     "data": {
      "image/png": "[encoded data removed]",
      "text/plain": [
       "<Figure size 1296x288 with 1 Axes>"
      ]
     },
     "execution_count": 426,
     "metadata": {},
     "output_type": "execute_result"
    },
    {
     "data": {
      "text/plain": [
       "<Figure size 8064x576 with 0 Axes>"
      ]
     },
     "metadata": {},
     "output_type": "display_data"
    },
    {
     "data": {
      "image/png": "[encoded data removed]",
      "text/plain": [
       "<Figure size 1296x288 with 1 Axes>"
      ]
     },
     "metadata": {
      "needs_background": "light"
     },
     "output_type": "display_data"
    },
    {
     "data": {
      "image/png": "[encoded data removed]",
      "text/plain": [
       "<Figure size 1296x288 with 1 Axes>"
      ]
     },
     "metadata": {
      "needs_background": "light"
     },
     "output_type": "display_data"
    }
   ],
   "source": [
    "plt.figure(figsize=(112,8))\n",
    "tsa_plots.plot_acf(df_t.Sales_volume_in_Tonnes, lags = 12)\n",
    "tsa_plots.plot_pacf(df_t.Sales_volume_in_Tonnes, lags = 4)"
   ]
  },
  {
   "cell_type": "code",
   "execution_count": 427,
   "id": "3507028d",
   "metadata": {},
   "outputs": [
    {
     "name": "stdout",
     "output_type": "stream",
     "text": [
      "p value:0.0 , Series is Stationary\n"
     ]
    }
   ],
   "source": [
    "#Calculate ad fuller statistic\n",
    "adf = adfuller(df_t['Sales_volume_in_Tonnes'])[1]\n",
    "print(f\"p value:{adf.round(4)}\", \", Series is Stationary\" if adf <0.05 else \", Series is Non-Stationary\")"
   ]
  },
  {
   "cell_type": "code",
   "execution_count": 428,
   "id": "265d0f63",
   "metadata": {},
   "outputs": [],
   "source": [
    "# Data Partition\n",
    "Train = pd.DataFrame(df_t['Sales_volume_in_Tonnes'].head(8000))\n",
    "Test = pd.DataFrame(df_t['Sales_volume_in_Tonnes'].tail(2000))"
   ]
  },
  {
   "cell_type": "code",
   "execution_count": 429,
   "id": "94889020",
   "metadata": {},
   "outputs": [
    {
     "name": "stderr",
     "output_type": "stream",
     "text": [
      "C:\\Users\\sidda\\anaconda3\\lib\\site-packages\\statsmodels\\tsa\\base\\tsa_model.py:471: ValueWarning: A date index has been provided, but it has no associated frequency information and so will be ignored when e.g. forecasting.\n",
      "  self._init_dates(dates, freq)\n",
      "C:\\Users\\sidda\\anaconda3\\lib\\site-packages\\statsmodels\\tsa\\base\\tsa_model.py:471: ValueWarning: A date index has been provided, but it is not monotonic and so will be ignored when e.g. forecasting.\n",
      "  self._init_dates(dates, freq)\n",
      "C:\\Users\\sidda\\anaconda3\\lib\\site-packages\\statsmodels\\tsa\\base\\tsa_model.py:471: ValueWarning: A date index has been provided, but it has no associated frequency information and so will be ignored when e.g. forecasting.\n",
      "  self._init_dates(dates, freq)\n",
      "C:\\Users\\sidda\\anaconda3\\lib\\site-packages\\statsmodels\\tsa\\base\\tsa_model.py:471: ValueWarning: A date index has been provided, but it is not monotonic and so will be ignored when e.g. forecasting.\n",
      "  self._init_dates(dates, freq)\n",
      "C:\\Users\\sidda\\anaconda3\\lib\\site-packages\\statsmodels\\tsa\\base\\tsa_model.py:471: ValueWarning: A date index has been provided, but it has no associated frequency information and so will be ignored when e.g. forecasting.\n",
      "  self._init_dates(dates, freq)\n",
      "C:\\Users\\sidda\\anaconda3\\lib\\site-packages\\statsmodels\\tsa\\base\\tsa_model.py:471: ValueWarning: A date index has been provided, but it is not monotonic and so will be ignored when e.g. forecasting.\n",
      "  self._init_dates(dates, freq)\n"
     ]
    },
    {
     "name": "stdout",
     "output_type": "stream",
     "text": [
      "                                 SARIMAX Results                                  \n",
      "==================================================================================\n",
      "Dep. Variable:     Sales_volume_in_Tonnes   No. Observations:                10000\n",
      "Model:                     ARIMA(1, 0, 2)   Log Likelihood              -18256.274\n",
      "Date:                    Fri, 31 Mar 2023   AIC                          36522.549\n",
      "Time:                            19:10:36   BIC                          36558.600\n",
      "Sample:                                 0   HQIC                         36534.752\n",
      "                                  - 10000                                         \n",
      "Covariance Type:                      opg                                         \n",
      "==============================================================================\n",
      "                 coef    std err          z      P>|z|      [0.025      0.975]\n",
      "------------------------------------------------------------------------------\n",
      "const          8.5373      0.065    130.796      0.000       8.409       8.665\n",
      "ar.L1          0.9916      0.002    422.925      0.000       0.987       0.996\n",
      "ma.L1         -0.9748      0.010    -95.293      0.000      -0.995      -0.955\n",
      "ma.L2          0.0096      0.010      0.962      0.336      -0.010       0.029\n",
      "sigma2         2.2554      0.034     65.685      0.000       2.188       2.323\n",
      "===================================================================================\n",
      "Ljung-Box (L1) (Q):                   0.00   Jarque-Bera (JB):               355.03\n",
      "Prob(Q):                              0.99   Prob(JB):                         0.00\n",
      "Heteroskedasticity (H):               1.11   Skew:                             0.46\n",
      "Prob(H) (two-sided):                  0.00   Kurtosis:                         2.97\n",
      "===================================================================================\n",
      "\n",
      "Warnings:\n",
      "[1] Covariance matrix calculated using the outer product of gradients (complex-step).\n"
     ]
    }
   ],
   "source": [
    "from statsmodels.tsa.arima.model import ARIMA\n",
    "from sklearn.metrics import mean_squared_error\n",
    "# ARIMA with AR = 4, MA = 6\n",
    "model1 = ARIMA(df_t, order = (1, 0, 2))\n",
    "res = model1.fit()\n",
    "print(res.summary())"
   ]
  },
  {
   "cell_type": "code",
   "execution_count": 434,
   "id": "a2164942",
   "metadata": {},
   "outputs": [
    {
     "name": "stdout",
     "output_type": "stream",
     "text": [
      "Date\n",
      "2017-08-09    8.639791\n",
      "2017-09-09    8.646008\n",
      "2017-10-09    8.630671\n",
      "2017-11-09    8.621170\n",
      "2017-12-09    8.647687\n",
      "                ...   \n",
      "2023-02-24    8.743588\n",
      "2023-02-25    8.754717\n",
      "2023-02-26    8.777316\n",
      "2023-02-27    8.788233\n",
      "2023-02-28    8.767470\n",
      "Name: predicted_mean, Length: 2000, dtype: float64\n"
     ]
    }
   ],
   "source": [
    "start_index = len(Train)\n",
    "start_index\n",
    "end_index = start_index + 1999\n",
    "forecast_test = res.predict(start = start_index, end = end_index)\n",
    "print(forecast_test)"
   ]
  },
  {
   "cell_type": "code",
   "execution_count": 435,
   "id": "1c5023fa",
   "metadata": {},
   "outputs": [
    {
     "data": {
      "text/plain": [
       "<AxesSubplot:xlabel='Date'>"
      ]
     },
     "execution_count": 435,
     "metadata": {},
     "output_type": "execute_result"
    },
    {
     "data": {
      "image/png": "[encoded data removed]",
      "text/plain": [
       "<Figure size 1296x288 with 1 Axes>"
      ]
     },
     "metadata": {
      "needs_background": "light"
     },
     "output_type": "display_data"
    }
   ],
   "source": [
    "\n",
    "#df_t.plot(figsize=(8,8))\n",
    "forecast_test.plot()"
   ]
  },
  {
   "cell_type": "code",
   "execution_count": 436,
   "id": "02462b4a",
   "metadata": {},
   "outputs": [
    {
     "data": {
      "text/plain": [
       "1.53129102717555"
      ]
     },
     "execution_count": 436,
     "metadata": {},
     "output_type": "execute_result"
    }
   ],
   "source": [
    "rmse_test_without = sqrt(mean_squared_error(Test.Sales_volume_in_Tonnes, forecast_test))\n",
    "\n",
    "rmse_test_without"
   ]
  },
  {
   "cell_type": "code",
   "execution_count": 437,
   "id": "26a119f3",
   "metadata": {},
   "outputs": [
    {
     "data": {
      "text/plain": [
       "2.344852209908351"
      ]
     },
     "execution_count": 437,
     "metadata": {},
     "output_type": "execute_result"
    }
   ],
   "source": [
    "mse_without=mean_squared_error(Test.Sales_volume_in_Tonnes, forecast_test)\n",
    "mse_without"
   ]
  },
  {
   "cell_type": "code",
   "execution_count": 438,
   "id": "fd2470ef",
   "metadata": {},
   "outputs": [
    {
     "data": {
      "text/plain": [
       "DatetimeIndex(['2023-02-28', '2023-03-01', '2023-03-02', '2023-03-03',\n",
       "               '2023-03-04', '2023-03-05', '2023-03-06', '2023-03-07',\n",
       "               '2023-03-08', '2023-03-09',\n",
       "               ...\n",
       "               '2024-02-19', '2024-02-20', '2024-02-21', '2024-02-22',\n",
       "               '2024-02-23', '2024-02-24', '2024-02-25', '2024-02-26',\n",
       "               '2024-02-27', '2024-02-28'],\n",
       "              dtype='datetime64[ns]', length=366, freq='D')"
      ]
     },
     "execution_count": 438,
     "metadata": {},
     "output_type": "execute_result"
    }
   ],
   "source": [
    "inde_f=pd.date_range(start = '2023-02-28', end='2024-02-28')\n",
    "inde_f"
   ]
  },
  {
   "cell_type": "code",
   "execution_count": null,
   "id": "6bbe5ac8",
   "metadata": {},
   "outputs": [],
   "source": []
  },
  {
   "cell_type": "code",
   "execution_count": 439,
   "id": "e7f3c609",
   "metadata": {},
   "outputs": [],
   "source": [
    "pre_without=res.predict(start=len(Test['Sales_volume_in_Tonnes']), end=len(Test['Sales_volume_in_Tonnes'])+365, dynamic=True)\n",
    "pre_without.index=inde_f"
   ]
  },
  {
   "cell_type": "code",
   "execution_count": 440,
   "id": "da76d246",
   "metadata": {},
   "outputs": [
    {
     "data": {
      "text/plain": [
       "<AxesSubplot:>"
      ]
     },
     "execution_count": 440,
     "metadata": {},
     "output_type": "execute_result"
    },
    {
     "data": {
      "image/png": "[encoded data removed]",
      "text/plain": [
       "<Figure size 1296x288 with 1 Axes>"
      ]
     },
     "metadata": {
      "needs_background": "light"
     },
     "output_type": "display_data"
    }
   ],
   "source": [
    "pre_without.plot()"
   ]
  },
  {
   "cell_type": "markdown",
   "id": "1c5d8b88",
   "metadata": {},
   "source": [
    "# r&d"
   ]
  },
  {
   "cell_type": "code",
   "execution_count": 324,
   "id": "2869d050",
   "metadata": {},
   "outputs": [
    {
     "name": "stderr",
     "output_type": "stream",
     "text": [
      "C:\\Users\\sidda\\anaconda3\\lib\\site-packages\\statsmodels\\tsa\\base\\tsa_model.py:471: ValueWarning: A date index has been provided, but it has no associated frequency information and so will be ignored when e.g. forecasting.\n",
      "  self._init_dates(dates, freq)\n",
      "C:\\Users\\sidda\\anaconda3\\lib\\site-packages\\statsmodels\\tsa\\base\\tsa_model.py:471: ValueWarning: A date index has been provided, but it is not monotonic and so will be ignored when e.g. forecasting.\n",
      "  self._init_dates(dates, freq)\n",
      "C:\\Users\\sidda\\anaconda3\\lib\\site-packages\\statsmodels\\tsa\\base\\tsa_model.py:471: ValueWarning: A date index has been provided, but it has no associated frequency information and so will be ignored when e.g. forecasting.\n",
      "  self._init_dates(dates, freq)\n",
      "C:\\Users\\sidda\\anaconda3\\lib\\site-packages\\statsmodels\\tsa\\base\\tsa_model.py:471: ValueWarning: A date index has been provided, but it is not monotonic and so will be ignored when e.g. forecasting.\n",
      "  self._init_dates(dates, freq)\n",
      "C:\\Users\\sidda\\anaconda3\\lib\\site-packages\\statsmodels\\tsa\\base\\tsa_model.py:471: ValueWarning: A date index has been provided, but it has no associated frequency information and so will be ignored when e.g. forecasting.\n",
      "  self._init_dates(dates, freq)\n",
      "C:\\Users\\sidda\\anaconda3\\lib\\site-packages\\statsmodels\\tsa\\base\\tsa_model.py:471: ValueWarning: A date index has been provided, but it is not monotonic and so will be ignored when e.g. forecasting.\n",
      "  self._init_dates(dates, freq)\n"
     ]
    },
    {
     "name": "stdout",
     "output_type": "stream",
     "text": [
      "                                 SARIMAX Results                                  \n",
      "==================================================================================\n",
      "Dep. Variable:     Sales_volume_in_Tonnes   No. Observations:                10000\n",
      "Model:                     ARIMA(1, 0, 1)   Log Likelihood              -18256.742\n",
      "Date:                    Fri, 31 Mar 2023   AIC                          36521.483\n",
      "Time:                            16:27:12   BIC                          36550.325\n",
      "Sample:                                 0   HQIC                         36531.246\n",
      "                                  - 10000                                         \n",
      "Covariance Type:                      opg                                         \n",
      "==============================================================================\n",
      "                 coef    std err          z      P>|z|      [0.025      0.975]\n",
      "------------------------------------------------------------------------------\n",
      "const          8.5369      0.066    129.385      0.000       8.408       8.666\n",
      "ar.L1          0.9918      0.002    432.859      0.000       0.987       0.996\n",
      "ma.L1         -0.9659      0.005   -210.823      0.000      -0.975      -0.957\n",
      "sigma2         2.2556      0.034     65.710      0.000       2.188       2.323\n",
      "===================================================================================\n",
      "Ljung-Box (L1) (Q):                   0.89   Jarque-Bera (JB):               355.84\n",
      "Prob(Q):                              0.35   Prob(JB):                         0.00\n",
      "Heteroskedasticity (H):               1.11   Skew:                             0.46\n",
      "Prob(H) (two-sided):                  0.00   Kurtosis:                         2.97\n",
      "===================================================================================\n",
      "\n",
      "Warnings:\n",
      "[1] Covariance matrix calculated using the outer product of gradients (complex-step).\n"
     ]
    }
   ],
   "source": [
    "model1 = ARIMA(df_t, order = (1, 0, 1))\n",
    "res = model1.fit()\n",
    "print(res.summary())"
   ]
  },
  {
   "cell_type": "code",
   "execution_count": 325,
   "id": "b3d31a4b",
   "metadata": {},
   "outputs": [
    {
     "data": {
      "text/plain": [
       "DatetimeIndex(['2023-02-28', '2023-03-01', '2023-03-02', '2023-03-03',\n",
       "               '2023-03-04', '2023-03-05', '2023-03-06', '2023-03-07',\n",
       "               '2023-03-08', '2023-03-09',\n",
       "               ...\n",
       "               '2024-02-19', '2024-02-20', '2024-02-21', '2024-02-22',\n",
       "               '2024-02-23', '2024-02-24', '2024-02-25', '2024-02-26',\n",
       "               '2024-02-27', '2024-02-28'],\n",
       "              dtype='datetime64[ns]', length=366, freq='D')"
      ]
     },
     "execution_count": 325,
     "metadata": {},
     "output_type": "execute_result"
    }
   ],
   "source": [
    "inde_f=pd.date_range(start = '2023-02-28', end='2024-02-28')\n",
    "inde_f"
   ]
  },
  {
   "cell_type": "code",
   "execution_count": null,
   "id": "b3f31a7f",
   "metadata": {},
   "outputs": [],
   "source": []
  },
  {
   "cell_type": "code",
   "execution_count": null,
   "id": "65b26f1e",
   "metadata": {},
   "outputs": [],
   "source": []
  },
  {
   "cell_type": "code",
   "execution_count": null,
   "id": "680a5881",
   "metadata": {},
   "outputs": [],
   "source": []
  },
  {
   "cell_type": "code",
   "execution_count": 326,
   "id": "4a026d37",
   "metadata": {},
   "outputs": [],
   "source": [
    "Train1=df_t.head(8000)\n",
    "Test2=df_t.tail(2000)"
   ]
  },
  {
   "cell_type": "code",
   "execution_count": 328,
   "id": "3dd98444",
   "metadata": {},
   "outputs": [
    {
     "name": "stdout",
     "output_type": "stream",
     "text": [
      "2023-02-28    8.798012\n",
      "2023-03-01    8.795882\n",
      "2023-03-02    8.793770\n",
      "2023-03-03    8.791675\n",
      "2023-03-04    8.789597\n",
      "                ...   \n",
      "2024-02-24    8.550476\n",
      "2024-02-25    8.550365\n",
      "2024-02-26    8.550255\n",
      "2024-02-27    8.550146\n",
      "2024-02-28    8.550038\n",
      "Freq: D, Name: predicted_mean, Length: 366, dtype: float64\n"
     ]
    },
    {
     "name": "stderr",
     "output_type": "stream",
     "text": [
      "C:\\Users\\sidda\\anaconda3\\lib\\site-packages\\statsmodels\\tsa\\base\\tsa_model.py:834: ValueWarning: No supported index is available. Prediction results will be given with an integer index beginning at `start`.\n",
      "  return get_prediction_index(\n"
     ]
    }
   ],
   "source": [
    "\n",
    "start_index = len(df_t)\n",
    "start_index\n",
    "end_index = start_index + 365\n",
    "forecast_test = res.predict(start = start_index, end = end_index)\n",
    "forecast_test.index=inde_f\n",
    "print(forecast_test)"
   ]
  },
  {
   "cell_type": "code",
   "execution_count": null,
   "id": "7e0cdc66",
   "metadata": {},
   "outputs": [],
   "source": []
  },
  {
   "cell_type": "code",
   "execution_count": 307,
   "id": "dfb81702",
   "metadata": {},
   "outputs": [
    {
     "name": "stderr",
     "output_type": "stream",
     "text": [
      "C:\\Users\\sidda\\anaconda3\\lib\\site-packages\\statsmodels\\tsa\\base\\tsa_model.py:834: ValueWarning: No supported index is available. Prediction results will be given with an integer index beginning at `start`.\n",
      "  return get_prediction_index(\n"
     ]
    },
    {
     "ename": "ValueError",
     "evalue": "Index data must be 1-dimensional",
     "output_type": "error",
     "traceback": [
      "\u001b[1;31m---------------------------------------------------------------------------\u001b[0m",
      "\u001b[1;31mValueError\u001b[0m                                Traceback (most recent call last)",
      "\u001b[1;32m~\\AppData\\Local\\Temp/ipykernel_21608/2128863616.py\u001b[0m in \u001b[0;36m<module>\u001b[1;34m\u001b[0m\n\u001b[0;32m      1\u001b[0m \u001b[0mforecas\u001b[0m\u001b[1;33m=\u001b[0m\u001b[1;33m(\u001b[0m\u001b[0mres\u001b[0m\u001b[1;33m.\u001b[0m\u001b[0mpredict\u001b[0m\u001b[1;33m(\u001b[0m\u001b[0mstart\u001b[0m \u001b[1;33m=\u001b[0m \u001b[0mindex1\u001b[0m\u001b[1;33m,\u001b[0m\u001b[0mend\u001b[0m\u001b[1;33m=\u001b[0m\u001b[0mindex2\u001b[0m\u001b[1;33m,\u001b[0m\u001b[0mdynamic\u001b[0m\u001b[1;33m=\u001b[0m\u001b[1;32mTrue\u001b[0m\u001b[1;33m)\u001b[0m\u001b[1;33m)\u001b[0m\u001b[1;33m\u001b[0m\u001b[1;33m\u001b[0m\u001b[0m\n\u001b[1;32m----> 2\u001b[1;33m \u001b[0mforecas\u001b[0m\u001b[1;33m.\u001b[0m\u001b[0mindex\u001b[0m\u001b[1;33m=\u001b[0m\u001b[0mfuture_df\u001b[0m\u001b[1;33m\u001b[0m\u001b[1;33m\u001b[0m\u001b[0m\n\u001b[0m",
      "\u001b[1;32m~\\anaconda3\\lib\\site-packages\\pandas\\core\\generic.py\u001b[0m in \u001b[0;36m__setattr__\u001b[1;34m(self, name, value)\u001b[0m\n\u001b[0;32m   5498\u001b[0m         \u001b[1;32mtry\u001b[0m\u001b[1;33m:\u001b[0m\u001b[1;33m\u001b[0m\u001b[1;33m\u001b[0m\u001b[0m\n\u001b[0;32m   5499\u001b[0m             \u001b[0mobject\u001b[0m\u001b[1;33m.\u001b[0m\u001b[0m__getattribute__\u001b[0m\u001b[1;33m(\u001b[0m\u001b[0mself\u001b[0m\u001b[1;33m,\u001b[0m \u001b[0mname\u001b[0m\u001b[1;33m)\u001b[0m\u001b[1;33m\u001b[0m\u001b[1;33m\u001b[0m\u001b[0m\n\u001b[1;32m-> 5500\u001b[1;33m             \u001b[1;32mreturn\u001b[0m \u001b[0mobject\u001b[0m\u001b[1;33m.\u001b[0m\u001b[0m__setattr__\u001b[0m\u001b[1;33m(\u001b[0m\u001b[0mself\u001b[0m\u001b[1;33m,\u001b[0m \u001b[0mname\u001b[0m\u001b[1;33m,\u001b[0m \u001b[0mvalue\u001b[0m\u001b[1;33m)\u001b[0m\u001b[1;33m\u001b[0m\u001b[1;33m\u001b[0m\u001b[0m\n\u001b[0m\u001b[0;32m   5501\u001b[0m         \u001b[1;32mexcept\u001b[0m \u001b[0mAttributeError\u001b[0m\u001b[1;33m:\u001b[0m\u001b[1;33m\u001b[0m\u001b[1;33m\u001b[0m\u001b[0m\n\u001b[0;32m   5502\u001b[0m             \u001b[1;32mpass\u001b[0m\u001b[1;33m\u001b[0m\u001b[1;33m\u001b[0m\u001b[0m\n",
      "\u001b[1;32m~\\anaconda3\\lib\\site-packages\\pandas\\_libs\\properties.pyx\u001b[0m in \u001b[0;36mpandas._libs.properties.AxisProperty.__set__\u001b[1;34m()\u001b[0m\n",
      "\u001b[1;32m~\\anaconda3\\lib\\site-packages\\pandas\\core\\series.py\u001b[0m in \u001b[0;36m_set_axis\u001b[1;34m(self, axis, labels, fastpath)\u001b[0m\n\u001b[0;32m    534\u001b[0m         \"\"\"\n\u001b[0;32m    535\u001b[0m         \u001b[1;32mif\u001b[0m \u001b[1;32mnot\u001b[0m \u001b[0mfastpath\u001b[0m\u001b[1;33m:\u001b[0m\u001b[1;33m\u001b[0m\u001b[1;33m\u001b[0m\u001b[0m\n\u001b[1;32m--> 536\u001b[1;33m             \u001b[0mlabels\u001b[0m \u001b[1;33m=\u001b[0m \u001b[0mensure_index\u001b[0m\u001b[1;33m(\u001b[0m\u001b[0mlabels\u001b[0m\u001b[1;33m)\u001b[0m\u001b[1;33m\u001b[0m\u001b[1;33m\u001b[0m\u001b[0m\n\u001b[0m\u001b[0;32m    537\u001b[0m \u001b[1;33m\u001b[0m\u001b[0m\n\u001b[0;32m    538\u001b[0m         \u001b[1;32mif\u001b[0m \u001b[0mlabels\u001b[0m\u001b[1;33m.\u001b[0m\u001b[0m_is_all_dates\u001b[0m\u001b[1;33m:\u001b[0m\u001b[1;33m\u001b[0m\u001b[1;33m\u001b[0m\u001b[0m\n",
      "\u001b[1;32m~\\anaconda3\\lib\\site-packages\\pandas\\core\\indexes\\base.py\u001b[0m in \u001b[0;36mensure_index\u001b[1;34m(index_like, copy)\u001b[0m\n\u001b[0;32m   6334\u001b[0m     \u001b[1;32melse\u001b[0m\u001b[1;33m:\u001b[0m\u001b[1;33m\u001b[0m\u001b[1;33m\u001b[0m\u001b[0m\n\u001b[0;32m   6335\u001b[0m \u001b[1;33m\u001b[0m\u001b[0m\n\u001b[1;32m-> 6336\u001b[1;33m         \u001b[1;32mreturn\u001b[0m \u001b[0mIndex\u001b[0m\u001b[1;33m(\u001b[0m\u001b[0mindex_like\u001b[0m\u001b[1;33m,\u001b[0m \u001b[0mcopy\u001b[0m\u001b[1;33m=\u001b[0m\u001b[0mcopy\u001b[0m\u001b[1;33m)\u001b[0m\u001b[1;33m\u001b[0m\u001b[1;33m\u001b[0m\u001b[0m\n\u001b[0m\u001b[0;32m   6337\u001b[0m \u001b[1;33m\u001b[0m\u001b[0m\n\u001b[0;32m   6338\u001b[0m \u001b[1;33m\u001b[0m\u001b[0m\n",
      "\u001b[1;32m~\\anaconda3\\lib\\site-packages\\pandas\\core\\indexes\\base.py\u001b[0m in \u001b[0;36m__new__\u001b[1;34m(cls, data, dtype, copy, name, tupleize_cols, **kwargs)\u001b[0m\n\u001b[0;32m    474\u001b[0m             \u001b[1;32mraise\u001b[0m \u001b[0mcls\u001b[0m\u001b[1;33m.\u001b[0m\u001b[0m_scalar_data_error\u001b[0m\u001b[1;33m(\u001b[0m\u001b[0mdata\u001b[0m\u001b[1;33m)\u001b[0m\u001b[1;33m\u001b[0m\u001b[1;33m\u001b[0m\u001b[0m\n\u001b[0;32m    475\u001b[0m         \u001b[1;32melif\u001b[0m \u001b[0mhasattr\u001b[0m\u001b[1;33m(\u001b[0m\u001b[0mdata\u001b[0m\u001b[1;33m,\u001b[0m \u001b[1;34m\"__array__\"\u001b[0m\u001b[1;33m)\u001b[0m\u001b[1;33m:\u001b[0m\u001b[1;33m\u001b[0m\u001b[1;33m\u001b[0m\u001b[0m\n\u001b[1;32m--> 476\u001b[1;33m             \u001b[1;32mreturn\u001b[0m \u001b[0mIndex\u001b[0m\u001b[1;33m(\u001b[0m\u001b[0mnp\u001b[0m\u001b[1;33m.\u001b[0m\u001b[0masarray\u001b[0m\u001b[1;33m(\u001b[0m\u001b[0mdata\u001b[0m\u001b[1;33m)\u001b[0m\u001b[1;33m,\u001b[0m \u001b[0mdtype\u001b[0m\u001b[1;33m=\u001b[0m\u001b[0mdtype\u001b[0m\u001b[1;33m,\u001b[0m \u001b[0mcopy\u001b[0m\u001b[1;33m=\u001b[0m\u001b[0mcopy\u001b[0m\u001b[1;33m,\u001b[0m \u001b[0mname\u001b[0m\u001b[1;33m=\u001b[0m\u001b[0mname\u001b[0m\u001b[1;33m,\u001b[0m \u001b[1;33m**\u001b[0m\u001b[0mkwargs\u001b[0m\u001b[1;33m)\u001b[0m\u001b[1;33m\u001b[0m\u001b[1;33m\u001b[0m\u001b[0m\n\u001b[0m\u001b[0;32m    477\u001b[0m         \u001b[1;32melse\u001b[0m\u001b[1;33m:\u001b[0m\u001b[1;33m\u001b[0m\u001b[1;33m\u001b[0m\u001b[0m\n\u001b[0;32m    478\u001b[0m \u001b[1;33m\u001b[0m\u001b[0m\n",
      "\u001b[1;32m~\\anaconda3\\lib\\site-packages\\pandas\\core\\indexes\\base.py\u001b[0m in \u001b[0;36m__new__\u001b[1;34m(cls, data, dtype, copy, name, tupleize_cols, **kwargs)\u001b[0m\n\u001b[0;32m    467\u001b[0m \u001b[1;33m\u001b[0m\u001b[0m\n\u001b[0;32m    468\u001b[0m             \u001b[0mklass\u001b[0m \u001b[1;33m=\u001b[0m \u001b[0mcls\u001b[0m\u001b[1;33m.\u001b[0m\u001b[0m_dtype_to_subclass\u001b[0m\u001b[1;33m(\u001b[0m\u001b[0marr\u001b[0m\u001b[1;33m.\u001b[0m\u001b[0mdtype\u001b[0m\u001b[1;33m)\u001b[0m\u001b[1;33m\u001b[0m\u001b[1;33m\u001b[0m\u001b[0m\n\u001b[1;32m--> 469\u001b[1;33m             \u001b[0marr\u001b[0m \u001b[1;33m=\u001b[0m \u001b[0mklass\u001b[0m\u001b[1;33m.\u001b[0m\u001b[0m_ensure_array\u001b[0m\u001b[1;33m(\u001b[0m\u001b[0marr\u001b[0m\u001b[1;33m,\u001b[0m \u001b[0mdtype\u001b[0m\u001b[1;33m,\u001b[0m \u001b[0mcopy\u001b[0m\u001b[1;33m)\u001b[0m\u001b[1;33m\u001b[0m\u001b[1;33m\u001b[0m\u001b[0m\n\u001b[0m\u001b[0;32m    470\u001b[0m             \u001b[0mdisallow_kwargs\u001b[0m\u001b[1;33m(\u001b[0m\u001b[0mkwargs\u001b[0m\u001b[1;33m)\u001b[0m\u001b[1;33m\u001b[0m\u001b[1;33m\u001b[0m\u001b[0m\n\u001b[0;32m    471\u001b[0m             \u001b[1;32mreturn\u001b[0m \u001b[0mklass\u001b[0m\u001b[1;33m.\u001b[0m\u001b[0m_simple_new\u001b[0m\u001b[1;33m(\u001b[0m\u001b[0marr\u001b[0m\u001b[1;33m,\u001b[0m \u001b[0mname\u001b[0m\u001b[1;33m)\u001b[0m\u001b[1;33m\u001b[0m\u001b[1;33m\u001b[0m\u001b[0m\n",
      "\u001b[1;32m~\\anaconda3\\lib\\site-packages\\pandas\\core\\indexes\\numeric.py\u001b[0m in \u001b[0;36m_ensure_array\u001b[1;34m(cls, data, dtype, copy)\u001b[0m\n\u001b[0;32m    169\u001b[0m         \u001b[1;32mif\u001b[0m \u001b[0msubarr\u001b[0m\u001b[1;33m.\u001b[0m\u001b[0mndim\u001b[0m \u001b[1;33m>\u001b[0m \u001b[1;36m1\u001b[0m\u001b[1;33m:\u001b[0m\u001b[1;33m\u001b[0m\u001b[1;33m\u001b[0m\u001b[0m\n\u001b[0;32m    170\u001b[0m             \u001b[1;31m# GH#13601, GH#20285, GH#27125\u001b[0m\u001b[1;33m\u001b[0m\u001b[1;33m\u001b[0m\u001b[0m\n\u001b[1;32m--> 171\u001b[1;33m             \u001b[1;32mraise\u001b[0m \u001b[0mValueError\u001b[0m\u001b[1;33m(\u001b[0m\u001b[1;34m\"Index data must be 1-dimensional\"\u001b[0m\u001b[1;33m)\u001b[0m\u001b[1;33m\u001b[0m\u001b[1;33m\u001b[0m\u001b[0m\n\u001b[0m\u001b[0;32m    172\u001b[0m \u001b[1;33m\u001b[0m\u001b[0m\n\u001b[0;32m    173\u001b[0m         \u001b[0msubarr\u001b[0m \u001b[1;33m=\u001b[0m \u001b[0mnp\u001b[0m\u001b[1;33m.\u001b[0m\u001b[0masarray\u001b[0m\u001b[1;33m(\u001b[0m\u001b[0msubarr\u001b[0m\u001b[1;33m)\u001b[0m\u001b[1;33m\u001b[0m\u001b[1;33m\u001b[0m\u001b[0m\n",
      "\u001b[1;31mValueError\u001b[0m: Index data must be 1-dimensional"
     ]
    }
   ],
   "source": [
    "forecas=(res.predict(start = index1,end=index2,dynamic=True))\n",
    "forecas.index=future_df"
   ]
  },
  {
   "cell_type": "code",
   "execution_count": 306,
   "id": "43ba1dff",
   "metadata": {},
   "outputs": [
    {
     "data": {
      "text/plain": [
       "(nan,)    8.798012\n",
       "(nan,)    8.795882\n",
       "(nan,)    8.793770\n",
       "(nan,)    8.791675\n",
       "(nan,)    8.789597\n",
       "Name: predicted_mean, dtype: float64"
      ]
     },
     "execution_count": 306,
     "metadata": {},
     "output_type": "execute_result"
    }
   ],
   "source": [
    "forecas.head()"
   ]
  },
  {
   "cell_type": "code",
   "execution_count": 271,
   "id": "fcafaefd",
   "metadata": {},
   "outputs": [
    {
     "data": {
      "text/plain": [
       "1995-10-14   NaN\n",
       "1995-10-15   NaN\n",
       "1995-10-16   NaN\n",
       "1995-10-17   NaN\n",
       "1995-10-18   NaN\n",
       "              ..\n",
       "2024-02-23   NaN\n",
       "2024-02-24   NaN\n",
       "2024-02-25   NaN\n",
       "2024-02-26   NaN\n",
       "2024-02-27   NaN\n",
       "Name: forecast, Length: 10364, dtype: float64"
      ]
     },
     "execution_count": 271,
     "metadata": {},
     "output_type": "execute_result"
    }
   ],
   "source": [
    "future_df['forecast']"
   ]
  },
  {
   "cell_type": "code",
   "execution_count": null,
   "id": "23ab21b6",
   "metadata": {},
   "outputs": [],
   "source": []
  },
  {
   "cell_type": "code",
   "execution_count": 238,
   "id": "9432e0f4",
   "metadata": {},
   "outputs": [
    {
     "data": {
      "text/plain": [
       "<AxesSubplot:>"
      ]
     },
     "execution_count": 238,
     "metadata": {},
     "output_type": "execute_result"
    },
    {
     "data": {
      "image/png": "[encoded data removed]",
      "text/plain": [
       "<Figure size 864x576 with 1 Axes>"
      ]
     },
     "metadata": {
      "needs_background": "light"
     },
     "output_type": "display_data"
    },
    {
     "data": {
      "image/png": "[encoded data removed]",
      "text/plain": [
       "<Figure size 1296x288 with 1 Axes>"
      ]
     },
     "metadata": {
      "needs_background": "light"
     },
     "output_type": "display_data"
    }
   ],
   "source": [
    "forecast.plot(figsize=(12, 8))\n",
    "future_df.plot()"
   ]
  },
  {
   "cell_type": "code",
   "execution_count": null,
   "id": "f704f1ed",
   "metadata": {},
   "outputs": [],
   "source": []
  },
  {
   "cell_type": "code",
   "execution_count": null,
   "id": "d792cd4e",
   "metadata": {},
   "outputs": [],
   "source": []
  },
  {
   "cell_type": "code",
   "execution_count": null,
   "id": "e7f66c09",
   "metadata": {},
   "outputs": [],
   "source": []
  },
  {
   "cell_type": "code",
   "execution_count": null,
   "id": "6e3cb8ab",
   "metadata": {},
   "outputs": [],
   "source": []
  },
  {
   "cell_type": "code",
   "execution_count": null,
   "id": "31e559fa",
   "metadata": {},
   "outputs": [],
   "source": []
  },
  {
   "cell_type": "code",
   "execution_count": null,
   "id": "ef477043",
   "metadata": {},
   "outputs": [],
   "source": []
  },
  {
   "cell_type": "code",
   "execution_count": null,
   "id": "81c40c3c",
   "metadata": {},
   "outputs": [],
   "source": []
  },
  {
   "cell_type": "code",
   "execution_count": null,
   "id": "2fc20a97",
   "metadata": {},
   "outputs": [],
   "source": []
  },
  {
   "cell_type": "code",
   "execution_count": null,
   "id": "f5002658",
   "metadata": {},
   "outputs": [],
   "source": []
  },
  {
   "cell_type": "markdown",
   "id": "1aa17ee5",
   "metadata": {},
   "source": [
    "# ARIMA with normlization and outlier analysis"
   ]
  },
  {
   "cell_type": "code",
   "execution_count": 332,
   "id": "e203a16e",
   "metadata": {},
   "outputs": [],
   "source": [
    "def norm_func(i):\n",
    "    x = (i-i.min())/(i.max()-i.min())\n",
    "    return(x)\n",
    "\n",
    "df_norm = norm_func(df_num)\n"
   ]
  },
  {
   "cell_type": "code",
   "execution_count": 333,
   "id": "415b0eb3",
   "metadata": {},
   "outputs": [
    {
     "data": {
      "text/html": [
       "<div>\n",
       "<style scoped>\n",
       "    .dataframe tbody tr th:only-of-type {\n",
       "        vertical-align: middle;\n",
       "    }\n",
       "\n",
       "    .dataframe tbody tr th {\n",
       "        vertical-align: top;\n",
       "    }\n",
       "\n",
       "    .dataframe thead th {\n",
       "        text-align: right;\n",
       "    }\n",
       "</style>\n",
       "<table border=\"1\" class=\"dataframe\">\n",
       "  <thead>\n",
       "    <tr style=\"text-align: right;\">\n",
       "      <th></th>\n",
       "      <th>Sales_in_rs_per_ton</th>\n",
       "      <th>Sales_volume_in_Tonnes</th>\n",
       "      <th>Price_per_kg</th>\n",
       "      <th>Diameter</th>\n",
       "      <th>Length</th>\n",
       "      <th>Current stock</th>\n",
       "      <th>Re_order</th>\n",
       "      <th>Lead_time</th>\n",
       "      <th>Production_time</th>\n",
       "      <th>Units Produced</th>\n",
       "      <th>Production_cost</th>\n",
       "    </tr>\n",
       "    <tr>\n",
       "      <th>Date</th>\n",
       "      <th></th>\n",
       "      <th></th>\n",
       "      <th></th>\n",
       "      <th></th>\n",
       "      <th></th>\n",
       "      <th></th>\n",
       "      <th></th>\n",
       "      <th></th>\n",
       "      <th></th>\n",
       "      <th></th>\n",
       "      <th></th>\n",
       "    </tr>\n",
       "  </thead>\n",
       "  <tbody>\n",
       "    <tr>\n",
       "      <th>1995-10-14</th>\n",
       "      <td>0.589396</td>\n",
       "      <td>0.258261</td>\n",
       "      <td>0.416667</td>\n",
       "      <td>1.000000</td>\n",
       "      <td>0.321429</td>\n",
       "      <td>0.648006</td>\n",
       "      <td>0.116232</td>\n",
       "      <td>0.428571</td>\n",
       "      <td>0.333333</td>\n",
       "      <td>0.900644</td>\n",
       "      <td>0.373149</td>\n",
       "    </tr>\n",
       "    <tr>\n",
       "      <th>1995-10-15</th>\n",
       "      <td>0.591584</td>\n",
       "      <td>0.369565</td>\n",
       "      <td>0.041667</td>\n",
       "      <td>0.166667</td>\n",
       "      <td>0.107143</td>\n",
       "      <td>0.420157</td>\n",
       "      <td>0.694389</td>\n",
       "      <td>0.071429</td>\n",
       "      <td>0.333333</td>\n",
       "      <td>0.692835</td>\n",
       "      <td>0.629252</td>\n",
       "    </tr>\n",
       "    <tr>\n",
       "      <th>1995-10-16</th>\n",
       "      <td>0.596296</td>\n",
       "      <td>0.236522</td>\n",
       "      <td>0.541667</td>\n",
       "      <td>0.166667</td>\n",
       "      <td>0.178571</td>\n",
       "      <td>0.360838</td>\n",
       "      <td>0.871743</td>\n",
       "      <td>0.928571</td>\n",
       "      <td>0.833333</td>\n",
       "      <td>0.772667</td>\n",
       "      <td>0.475690</td>\n",
       "    </tr>\n",
       "    <tr>\n",
       "      <th>1995-10-17</th>\n",
       "      <td>0.599998</td>\n",
       "      <td>0.240000</td>\n",
       "      <td>0.541667</td>\n",
       "      <td>0.000000</td>\n",
       "      <td>0.750000</td>\n",
       "      <td>0.003087</td>\n",
       "      <td>0.186373</td>\n",
       "      <td>0.928571</td>\n",
       "      <td>0.166667</td>\n",
       "      <td>0.208832</td>\n",
       "      <td>0.807223</td>\n",
       "    </tr>\n",
       "    <tr>\n",
       "      <th>1995-10-18</th>\n",
       "      <td>0.599998</td>\n",
       "      <td>0.291304</td>\n",
       "      <td>0.333333</td>\n",
       "      <td>1.000000</td>\n",
       "      <td>0.821429</td>\n",
       "      <td>0.501251</td>\n",
       "      <td>0.202405</td>\n",
       "      <td>0.714286</td>\n",
       "      <td>0.833333</td>\n",
       "      <td>0.154860</td>\n",
       "      <td>0.498399</td>\n",
       "    </tr>\n",
       "    <tr>\n",
       "      <th>...</th>\n",
       "      <td>...</td>\n",
       "      <td>...</td>\n",
       "      <td>...</td>\n",
       "      <td>...</td>\n",
       "      <td>...</td>\n",
       "      <td>...</td>\n",
       "      <td>...</td>\n",
       "      <td>...</td>\n",
       "      <td>...</td>\n",
       "      <td>...</td>\n",
       "      <td>...</td>\n",
       "    </tr>\n",
       "    <tr>\n",
       "      <th>2023-02-24</th>\n",
       "      <td>0.708794</td>\n",
       "      <td>0.437391</td>\n",
       "      <td>0.083333</td>\n",
       "      <td>0.041667</td>\n",
       "      <td>0.535714</td>\n",
       "      <td>0.057734</td>\n",
       "      <td>0.705411</td>\n",
       "      <td>0.928571</td>\n",
       "      <td>0.833333</td>\n",
       "      <td>0.144843</td>\n",
       "      <td>0.278711</td>\n",
       "    </tr>\n",
       "    <tr>\n",
       "      <th>2023-02-25</th>\n",
       "      <td>0.853144</td>\n",
       "      <td>0.512174</td>\n",
       "      <td>0.125000</td>\n",
       "      <td>0.333333</td>\n",
       "      <td>0.821429</td>\n",
       "      <td>0.352244</td>\n",
       "      <td>0.991984</td>\n",
       "      <td>0.500000</td>\n",
       "      <td>0.500000</td>\n",
       "      <td>0.493714</td>\n",
       "      <td>0.764106</td>\n",
       "    </tr>\n",
       "    <tr>\n",
       "      <th>2023-02-26</th>\n",
       "      <td>0.937577</td>\n",
       "      <td>0.412174</td>\n",
       "      <td>0.833333</td>\n",
       "      <td>0.458333</td>\n",
       "      <td>0.500000</td>\n",
       "      <td>0.759136</td>\n",
       "      <td>0.107214</td>\n",
       "      <td>0.500000</td>\n",
       "      <td>0.000000</td>\n",
       "      <td>0.652969</td>\n",
       "      <td>0.811525</td>\n",
       "    </tr>\n",
       "    <tr>\n",
       "      <th>2023-02-27</th>\n",
       "      <td>0.667875</td>\n",
       "      <td>0.307826</td>\n",
       "      <td>0.666667</td>\n",
       "      <td>0.750000</td>\n",
       "      <td>0.571429</td>\n",
       "      <td>0.843150</td>\n",
       "      <td>0.303607</td>\n",
       "      <td>0.285714</td>\n",
       "      <td>1.000000</td>\n",
       "      <td>0.813963</td>\n",
       "      <td>0.498099</td>\n",
       "    </tr>\n",
       "    <tr>\n",
       "      <th>2023-02-28</th>\n",
       "      <td>0.996406</td>\n",
       "      <td>0.566087</td>\n",
       "      <td>0.666667</td>\n",
       "      <td>0.750000</td>\n",
       "      <td>0.892857</td>\n",
       "      <td>0.919823</td>\n",
       "      <td>0.235471</td>\n",
       "      <td>0.142857</td>\n",
       "      <td>0.166667</td>\n",
       "      <td>0.311459</td>\n",
       "      <td>0.189176</td>\n",
       "    </tr>\n",
       "  </tbody>\n",
       "</table>\n",
       "<p>10000 rows × 11 columns</p>\n",
       "</div>"
      ],
      "text/plain": [
       "            Sales_in_rs_per_ton  Sales_volume_in_Tonnes  Price_per_kg  \\\n",
       "Date                                                                    \n",
       "1995-10-14             0.589396                0.258261      0.416667   \n",
       "1995-10-15             0.591584                0.369565      0.041667   \n",
       "1995-10-16             0.596296                0.236522      0.541667   \n",
       "1995-10-17             0.599998                0.240000      0.541667   \n",
       "1995-10-18             0.599998                0.291304      0.333333   \n",
       "...                         ...                     ...           ...   \n",
       "2023-02-24             0.708794                0.437391      0.083333   \n",
       "2023-02-25             0.853144                0.512174      0.125000   \n",
       "2023-02-26             0.937577                0.412174      0.833333   \n",
       "2023-02-27             0.667875                0.307826      0.666667   \n",
       "2023-02-28             0.996406                0.566087      0.666667   \n",
       "\n",
       "            Diameter    Length  Current stock  Re_order  Lead_time  \\\n",
       "Date                                                                 \n",
       "1995-10-14  1.000000  0.321429       0.648006  0.116232   0.428571   \n",
       "1995-10-15  0.166667  0.107143       0.420157  0.694389   0.071429   \n",
       "1995-10-16  0.166667  0.178571       0.360838  0.871743   0.928571   \n",
       "1995-10-17  0.000000  0.750000       0.003087  0.186373   0.928571   \n",
       "1995-10-18  1.000000  0.821429       0.501251  0.202405   0.714286   \n",
       "...              ...       ...            ...       ...        ...   \n",
       "2023-02-24  0.041667  0.535714       0.057734  0.705411   0.928571   \n",
       "2023-02-25  0.333333  0.821429       0.352244  0.991984   0.500000   \n",
       "2023-02-26  0.458333  0.500000       0.759136  0.107214   0.500000   \n",
       "2023-02-27  0.750000  0.571429       0.843150  0.303607   0.285714   \n",
       "2023-02-28  0.750000  0.892857       0.919823  0.235471   0.142857   \n",
       "\n",
       "            Production_time  Units Produced   Production_cost  \n",
       "Date                                                           \n",
       "1995-10-14         0.333333         0.900644         0.373149  \n",
       "1995-10-15         0.333333         0.692835         0.629252  \n",
       "1995-10-16         0.833333         0.772667         0.475690  \n",
       "1995-10-17         0.166667         0.208832         0.807223  \n",
       "1995-10-18         0.833333         0.154860         0.498399  \n",
       "...                     ...              ...              ...  \n",
       "2023-02-24         0.833333         0.144843         0.278711  \n",
       "2023-02-25         0.500000         0.493714         0.764106  \n",
       "2023-02-26         0.000000         0.652969         0.811525  \n",
       "2023-02-27         1.000000         0.813963         0.498099  \n",
       "2023-02-28         0.166667         0.311459         0.189176  \n",
       "\n",
       "[10000 rows x 11 columns]"
      ]
     },
     "execution_count": 333,
     "metadata": {},
     "output_type": "execute_result"
    }
   ],
   "source": [
    "df_norm"
   ]
  },
  {
   "cell_type": "code",
   "execution_count": 334,
   "id": "f605b16f",
   "metadata": {},
   "outputs": [
    {
     "data": {
      "text/html": [
       "<div>\n",
       "<style scoped>\n",
       "    .dataframe tbody tr th:only-of-type {\n",
       "        vertical-align: middle;\n",
       "    }\n",
       "\n",
       "    .dataframe tbody tr th {\n",
       "        vertical-align: top;\n",
       "    }\n",
       "\n",
       "    .dataframe thead th {\n",
       "        text-align: right;\n",
       "    }\n",
       "</style>\n",
       "<table border=\"1\" class=\"dataframe\">\n",
       "  <thead>\n",
       "    <tr style=\"text-align: right;\">\n",
       "      <th></th>\n",
       "      <th>Location</th>\n",
       "      <th>Climate</th>\n",
       "      <th>Grade</th>\n",
       "    </tr>\n",
       "    <tr>\n",
       "      <th>Date</th>\n",
       "      <th></th>\n",
       "      <th></th>\n",
       "      <th></th>\n",
       "    </tr>\n",
       "  </thead>\n",
       "  <tbody>\n",
       "    <tr>\n",
       "      <th>1995-10-14</th>\n",
       "      <td>Pune</td>\n",
       "      <td>Rainy</td>\n",
       "      <td>Fe-500</td>\n",
       "    </tr>\n",
       "    <tr>\n",
       "      <th>1995-10-15</th>\n",
       "      <td>Hyderabad</td>\n",
       "      <td>Rainy</td>\n",
       "      <td>Fe-415</td>\n",
       "    </tr>\n",
       "    <tr>\n",
       "      <th>1995-10-16</th>\n",
       "      <td>Kolkata</td>\n",
       "      <td>Rainy</td>\n",
       "      <td>Fe-500D</td>\n",
       "    </tr>\n",
       "    <tr>\n",
       "      <th>1995-10-17</th>\n",
       "      <td>Bengaluru</td>\n",
       "      <td>Rainy</td>\n",
       "      <td>Fe-550</td>\n",
       "    </tr>\n",
       "    <tr>\n",
       "      <th>1995-10-18</th>\n",
       "      <td>Delhi</td>\n",
       "      <td>Rainy</td>\n",
       "      <td>Fe-500</td>\n",
       "    </tr>\n",
       "    <tr>\n",
       "      <th>...</th>\n",
       "      <td>...</td>\n",
       "      <td>...</td>\n",
       "      <td>...</td>\n",
       "    </tr>\n",
       "    <tr>\n",
       "      <th>2023-02-24</th>\n",
       "      <td>Pune</td>\n",
       "      <td>Winter</td>\n",
       "      <td>Fe-500D</td>\n",
       "    </tr>\n",
       "    <tr>\n",
       "      <th>2023-02-25</th>\n",
       "      <td>Delhi</td>\n",
       "      <td>Winter</td>\n",
       "      <td>Fe-600D</td>\n",
       "    </tr>\n",
       "    <tr>\n",
       "      <th>2023-02-26</th>\n",
       "      <td>Kolkata</td>\n",
       "      <td>Sunny</td>\n",
       "      <td>Fe-550D</td>\n",
       "    </tr>\n",
       "    <tr>\n",
       "      <th>2023-02-27</th>\n",
       "      <td>Kolkata</td>\n",
       "      <td>Winter</td>\n",
       "      <td>NaN</td>\n",
       "    </tr>\n",
       "    <tr>\n",
       "      <th>2023-02-28</th>\n",
       "      <td>Kolkata</td>\n",
       "      <td>Sunny</td>\n",
       "      <td>Fe-600D</td>\n",
       "    </tr>\n",
       "  </tbody>\n",
       "</table>\n",
       "<p>10000 rows × 3 columns</p>\n",
       "</div>"
      ],
      "text/plain": [
       "             Location Climate    Grade\n",
       "Date                                  \n",
       "1995-10-14       Pune   Rainy   Fe-500\n",
       "1995-10-15  Hyderabad   Rainy   Fe-415\n",
       "1995-10-16    Kolkata   Rainy  Fe-500D\n",
       "1995-10-17  Bengaluru   Rainy   Fe-550\n",
       "1995-10-18      Delhi   Rainy   Fe-500\n",
       "...               ...     ...      ...\n",
       "2023-02-24       Pune  Winter  Fe-500D\n",
       "2023-02-25      Delhi  Winter  Fe-600D\n",
       "2023-02-26    Kolkata   Sunny  Fe-550D\n",
       "2023-02-27    Kolkata  Winter      NaN\n",
       "2023-02-28    Kolkata   Sunny  Fe-600D\n",
       "\n",
       "[10000 rows x 3 columns]"
      ]
     },
     "execution_count": 334,
     "metadata": {},
     "output_type": "execute_result"
    }
   ],
   "source": [
    "df_cat"
   ]
  },
  {
   "cell_type": "code",
   "execution_count": 335,
   "id": "08c16de6",
   "metadata": {},
   "outputs": [],
   "source": [
    "# Data Partition\n",
    "Train = pd.DataFrame(df_norm['Sales_volume_in_Tonnes'].head(8000))\n",
    "Test = pd.DataFrame(df_norm['Sales_volume_in_Tonnes'].tail(2000))\n"
   ]
  },
  {
   "cell_type": "code",
   "execution_count": 336,
   "id": "e9dde87f",
   "metadata": {},
   "outputs": [
    {
     "data": {
      "text/html": [
       "<div>\n",
       "<style scoped>\n",
       "    .dataframe tbody tr th:only-of-type {\n",
       "        vertical-align: middle;\n",
       "    }\n",
       "\n",
       "    .dataframe tbody tr th {\n",
       "        vertical-align: top;\n",
       "    }\n",
       "\n",
       "    .dataframe thead th {\n",
       "        text-align: right;\n",
       "    }\n",
       "</style>\n",
       "<table border=\"1\" class=\"dataframe\">\n",
       "  <thead>\n",
       "    <tr style=\"text-align: right;\">\n",
       "      <th></th>\n",
       "      <th>Sales_volume_in_Tonnes</th>\n",
       "    </tr>\n",
       "    <tr>\n",
       "      <th>Date</th>\n",
       "      <th></th>\n",
       "    </tr>\n",
       "  </thead>\n",
       "  <tbody>\n",
       "    <tr>\n",
       "      <th>1995-10-14</th>\n",
       "      <td>0.258261</td>\n",
       "    </tr>\n",
       "    <tr>\n",
       "      <th>1995-10-15</th>\n",
       "      <td>0.369565</td>\n",
       "    </tr>\n",
       "    <tr>\n",
       "      <th>1995-10-16</th>\n",
       "      <td>0.236522</td>\n",
       "    </tr>\n",
       "    <tr>\n",
       "      <th>1995-10-17</th>\n",
       "      <td>0.240000</td>\n",
       "    </tr>\n",
       "    <tr>\n",
       "      <th>1995-10-18</th>\n",
       "      <td>0.291304</td>\n",
       "    </tr>\n",
       "    <tr>\n",
       "      <th>...</th>\n",
       "      <td>...</td>\n",
       "    </tr>\n",
       "    <tr>\n",
       "      <th>2017-03-09</th>\n",
       "      <td>0.162609</td>\n",
       "    </tr>\n",
       "    <tr>\n",
       "      <th>2017-04-09</th>\n",
       "      <td>0.431304</td>\n",
       "    </tr>\n",
       "    <tr>\n",
       "      <th>2017-05-09</th>\n",
       "      <td>0.581739</td>\n",
       "    </tr>\n",
       "    <tr>\n",
       "      <th>2017-06-09</th>\n",
       "      <td>0.490435</td>\n",
       "    </tr>\n",
       "    <tr>\n",
       "      <th>2017-07-09</th>\n",
       "      <td>0.535652</td>\n",
       "    </tr>\n",
       "  </tbody>\n",
       "</table>\n",
       "<p>8000 rows × 1 columns</p>\n",
       "</div>"
      ],
      "text/plain": [
       "            Sales_volume_in_Tonnes\n",
       "Date                              \n",
       "1995-10-14                0.258261\n",
       "1995-10-15                0.369565\n",
       "1995-10-16                0.236522\n",
       "1995-10-17                0.240000\n",
       "1995-10-18                0.291304\n",
       "...                            ...\n",
       "2017-03-09                0.162609\n",
       "2017-04-09                0.431304\n",
       "2017-05-09                0.581739\n",
       "2017-06-09                0.490435\n",
       "2017-07-09                0.535652\n",
       "\n",
       "[8000 rows x 1 columns]"
      ]
     },
     "execution_count": 336,
     "metadata": {},
     "output_type": "execute_result"
    }
   ],
   "source": [
    "Train"
   ]
  },
  {
   "cell_type": "raw",
   "id": "a6fc9212",
   "metadata": {},
   "source": [
    "#decompose training data to check for seasonal trend\n",
    "decomposition = seasonal_decompose(Train, model='additive', period = 100)\n",
    "decomposition.plot()\n",
    "plt.show()\n"
   ]
  },
  {
   "cell_type": "code",
   "execution_count": null,
   "id": "faedd662",
   "metadata": {},
   "outputs": [],
   "source": []
  },
  {
   "cell_type": "code",
   "execution_count": 337,
   "id": "9b5a03e0",
   "metadata": {},
   "outputs": [
    {
     "name": "stderr",
     "output_type": "stream",
     "text": [
      "C:\\Users\\sidda\\anaconda3\\lib\\site-packages\\statsmodels\\graphics\\tsaplots.py:348: FutureWarning: The default method 'yw' can produce PACF values outside of the [-1,1] interval. After 0.13, the default will change tounadjusted Yule-Walker ('ywm'). You can use this method now by setting method='ywm'.\n",
      "  warnings.warn(\n"
     ]
    },
    {
     "data": {
      "image/png": "[encoded data removed]",
      "text/plain": [
       "<Figure size 1296x288 with 1 Axes>"
      ]
     },
     "execution_count": 337,
     "metadata": {},
     "output_type": "execute_result"
    },
    {
     "data": {
      "text/plain": [
       "<Figure size 8064x576 with 0 Axes>"
      ]
     },
     "metadata": {},
     "output_type": "display_data"
    },
    {
     "data": {
      "image/png": "[encoded data removed]",
      "text/plain": [
       "<Figure size 1296x288 with 1 Axes>"
      ]
     },
     "metadata": {
      "needs_background": "light"
     },
     "output_type": "display_data"
    },
    {
     "data": {
      "image/png": "[encoded data removed]",
      "text/plain": [
       "<Figure size 1296x288 with 1 Axes>"
      ]
     },
     "metadata": {
      "needs_background": "light"
     },
     "output_type": "display_data"
    }
   ],
   "source": [
    "plt.figure(figsize=(112,8))\n",
    "tsa_plots.plot_acf(df_norm.Sales_volume_in_Tonnes, lags = 12)\n",
    "tsa_plots.plot_pacf(df_norm.Sales_volume_in_Tonnes, lags = 4)"
   ]
  },
  {
   "cell_type": "code",
   "execution_count": null,
   "id": "35cfa57f",
   "metadata": {},
   "outputs": [],
   "source": []
  },
  {
   "cell_type": "code",
   "execution_count": 350,
   "id": "d0926825",
   "metadata": {},
   "outputs": [
    {
     "name": "stderr",
     "output_type": "stream",
     "text": [
      "C:\\Users\\sidda\\anaconda3\\lib\\site-packages\\statsmodels\\tsa\\base\\tsa_model.py:471: ValueWarning: A date index has been provided, but it has no associated frequency information and so will be ignored when e.g. forecasting.\n",
      "  self._init_dates(dates, freq)\n",
      "C:\\Users\\sidda\\anaconda3\\lib\\site-packages\\statsmodels\\tsa\\base\\tsa_model.py:471: ValueWarning: A date index has been provided, but it is not monotonic and so will be ignored when e.g. forecasting.\n",
      "  self._init_dates(dates, freq)\n",
      "C:\\Users\\sidda\\anaconda3\\lib\\site-packages\\statsmodels\\tsa\\base\\tsa_model.py:471: ValueWarning: A date index has been provided, but it has no associated frequency information and so will be ignored when e.g. forecasting.\n",
      "  self._init_dates(dates, freq)\n",
      "C:\\Users\\sidda\\anaconda3\\lib\\site-packages\\statsmodels\\tsa\\base\\tsa_model.py:471: ValueWarning: A date index has been provided, but it is not monotonic and so will be ignored when e.g. forecasting.\n",
      "  self._init_dates(dates, freq)\n",
      "C:\\Users\\sidda\\anaconda3\\lib\\site-packages\\statsmodels\\tsa\\base\\tsa_model.py:471: ValueWarning: A date index has been provided, but it has no associated frequency information and so will be ignored when e.g. forecasting.\n",
      "  self._init_dates(dates, freq)\n",
      "C:\\Users\\sidda\\anaconda3\\lib\\site-packages\\statsmodels\\tsa\\base\\tsa_model.py:471: ValueWarning: A date index has been provided, but it is not monotonic and so will be ignored when e.g. forecasting.\n",
      "  self._init_dates(dates, freq)\n"
     ]
    },
    {
     "name": "stdout",
     "output_type": "stream",
     "text": [
      "                                 SARIMAX Results                                  \n",
      "==================================================================================\n",
      "Dep. Variable:     Sales_volume_in_Tonnes   No. Observations:                10000\n",
      "Model:                     ARIMA(4, 1, 6)   Log Likelihood                6154.816\n",
      "Date:                    Fri, 31 Mar 2023   AIC                         -12287.631\n",
      "Time:                            18:42:31   BIC                         -12208.319\n",
      "Sample:                                 0   HQIC                        -12260.784\n",
      "                                  - 10000                                         \n",
      "Covariance Type:                      opg                                         \n",
      "==============================================================================\n",
      "                 coef    std err          z      P>|z|      [0.025      0.975]\n",
      "------------------------------------------------------------------------------\n",
      "ar.L1         -1.0075      0.359     -2.803      0.005      -1.712      -0.303\n",
      "ar.L2         -0.8171      0.456     -1.791      0.073      -1.711       0.077\n",
      "ar.L3         -0.8792      0.374     -2.351      0.019      -1.612      -0.146\n",
      "ar.L4         -0.5961      0.237     -2.519      0.012      -1.060      -0.132\n",
      "ma.L1          0.0273      0.359      0.076      0.939      -0.677       0.732\n",
      "ma.L2         -0.1475      0.356     -0.415      0.678      -0.845       0.550\n",
      "ma.L3          0.0850      0.310      0.274      0.784      -0.523       0.693\n",
      "ma.L4         -0.2734      0.309     -0.885      0.376      -0.879       0.332\n",
      "ma.L5         -0.5761      0.231     -2.490      0.013      -1.030      -0.123\n",
      "ma.L6         -0.0090      0.015     -0.579      0.563      -0.039       0.021\n",
      "sigma2         0.0171      0.000     70.463      0.000       0.017       0.018\n",
      "===================================================================================\n",
      "Ljung-Box (L1) (Q):                   0.00   Jarque-Bera (JB):               348.03\n",
      "Prob(Q):                              0.98   Prob(JB):                         0.00\n",
      "Heteroskedasticity (H):               1.11   Skew:                             0.46\n",
      "Prob(H) (two-sided):                  0.00   Kurtosis:                         3.01\n",
      "===================================================================================\n",
      "\n",
      "Warnings:\n",
      "[1] Covariance matrix calculated using the outer product of gradients (complex-step).\n"
     ]
    }
   ],
   "source": [
    "from statsmodels.tsa.arima.model import ARIMA\n",
    "from sklearn.metrics import mean_squared_error\n",
    "# ARIMA with AR = 4, MA = 6\n",
    "model1 = ARIMA(df_norm['Sales_volume_in_Tonnes'], order = (4, 1, 6))\n",
    "res1 = model1.fit()\n",
    "print(res1.summary())\n"
   ]
  },
  {
   "cell_type": "code",
   "execution_count": null,
   "id": "127b35fa",
   "metadata": {},
   "outputs": [],
   "source": []
  },
  {
   "cell_type": "code",
   "execution_count": 351,
   "id": "38d55772",
   "metadata": {},
   "outputs": [],
   "source": [
    "start_index = len(Train)\n",
    "start_index\n",
    "end_index = start_index + 1999\n",
    "forecast_test = res1.predict(start = start_index, end = end_index)"
   ]
  },
  {
   "cell_type": "code",
   "execution_count": 352,
   "id": "c133dc41",
   "metadata": {},
   "outputs": [
    {
     "data": {
      "text/plain": [
       "<AxesSubplot:xlabel='Date'>"
      ]
     },
     "execution_count": 352,
     "metadata": {},
     "output_type": "execute_result"
    },
    {
     "data": {
      "image/png": "[encoded data removed]",
      "text/plain": [
       "<Figure size 1296x288 with 1 Axes>"
      ]
     },
     "metadata": {
      "needs_background": "light"
     },
     "output_type": "display_data"
    }
   ],
   "source": [
    "forecast_test.plot()"
   ]
  },
  {
   "cell_type": "code",
   "execution_count": 353,
   "id": "5ea118a3",
   "metadata": {},
   "outputs": [
    {
     "data": {
      "text/plain": [
       "<AxesSubplot:xlabel='Date'>"
      ]
     },
     "execution_count": 353,
     "metadata": {},
     "output_type": "execute_result"
    },
    {
     "data": {
      "image/png": "[encoded data removed]",
      "text/plain": [
       "<Figure size 576x576 with 1 Axes>"
      ]
     },
     "metadata": {
      "needs_background": "light"
     },
     "output_type": "display_data"
    }
   ],
   "source": [
    "\n",
    "Train.plot(figsize=(8,8))\n",
    "forecast_test.plot()"
   ]
  },
  {
   "cell_type": "code",
   "execution_count": 354,
   "id": "f7abf631",
   "metadata": {},
   "outputs": [
    {
     "data": {
      "text/plain": [
       "0.13330458404685336"
      ]
     },
     "execution_count": 354,
     "metadata": {},
     "output_type": "execute_result"
    }
   ],
   "source": [
    "rmse_test = sqrt(mean_squared_error(Test.Sales_volume_in_Tonnes, forecast_test))\n",
    "\n",
    "rmse_test"
   ]
  },
  {
   "cell_type": "markdown",
   "id": "652b98c4",
   "metadata": {},
   "source": [
    "from sklearn.metrics import mean_squared_error"
   ]
  },
  {
   "cell_type": "code",
   "execution_count": 355,
   "id": "c6b67307",
   "metadata": {},
   "outputs": [],
   "source": [
    "rmsek=mean_squared_error(Test.Sales_volume_in_Tonnes, forecast_test)"
   ]
  },
  {
   "cell_type": "code",
   "execution_count": 356,
   "id": "be41b985",
   "metadata": {},
   "outputs": [
    {
     "data": {
      "text/plain": [
       "0.01777011212790459"
      ]
     },
     "execution_count": 356,
     "metadata": {},
     "output_type": "execute_result"
    }
   ],
   "source": [
    "rmsek"
   ]
  },
  {
   "cell_type": "code",
   "execution_count": 362,
   "id": "a3d77594",
   "metadata": {},
   "outputs": [],
   "source": [
    "Test = pd.DataFrame(df_norm['Sales_volume_in_Tonnes'].tail(6000))"
   ]
  },
  {
   "cell_type": "code",
   "execution_count": 371,
   "id": "dd71f2fd",
   "metadata": {},
   "outputs": [
    {
     "name": "stderr",
     "output_type": "stream",
     "text": [
      "C:\\Users\\sidda\\anaconda3\\lib\\site-packages\\statsmodels\\tsa\\base\\tsa_model.py:471: ValueWarning: A date index has been provided, but it has no associated frequency information and so will be ignored when e.g. forecasting.\n",
      "  self._init_dates(dates, freq)\n",
      "C:\\Users\\sidda\\anaconda3\\lib\\site-packages\\statsmodels\\tsa\\base\\tsa_model.py:471: ValueWarning: A date index has been provided, but it is not monotonic and so will be ignored when e.g. forecasting.\n",
      "  self._init_dates(dates, freq)\n",
      "C:\\Users\\sidda\\anaconda3\\lib\\site-packages\\statsmodels\\tsa\\base\\tsa_model.py:471: ValueWarning: A date index has been provided, but it has no associated frequency information and so will be ignored when e.g. forecasting.\n",
      "  self._init_dates(dates, freq)\n",
      "C:\\Users\\sidda\\anaconda3\\lib\\site-packages\\statsmodels\\tsa\\base\\tsa_model.py:471: ValueWarning: A date index has been provided, but it is not monotonic and so will be ignored when e.g. forecasting.\n",
      "  self._init_dates(dates, freq)\n",
      "C:\\Users\\sidda\\anaconda3\\lib\\site-packages\\statsmodels\\tsa\\base\\tsa_model.py:471: ValueWarning: A date index has been provided, but it has no associated frequency information and so will be ignored when e.g. forecasting.\n",
      "  self._init_dates(dates, freq)\n",
      "C:\\Users\\sidda\\anaconda3\\lib\\site-packages\\statsmodels\\tsa\\base\\tsa_model.py:471: ValueWarning: A date index has been provided, but it is not monotonic and so will be ignored when e.g. forecasting.\n",
      "  self._init_dates(dates, freq)\n"
     ]
    },
    {
     "name": "stdout",
     "output_type": "stream",
     "text": [
      "                                 SARIMAX Results                                  \n",
      "==================================================================================\n",
      "Dep. Variable:     Sales_volume_in_Tonnes   No. Observations:                 6000\n",
      "Model:                     ARIMA(1, 1, 1)   Log Likelihood                3632.995\n",
      "Date:                    Fri, 31 Mar 2023   AIC                          -7259.989\n",
      "Time:                            18:51:36   BIC                          -7239.891\n",
      "Sample:                                 0   HQIC                         -7253.010\n",
      "                                   - 6000                                         \n",
      "Covariance Type:                      opg                                         \n",
      "==============================================================================\n",
      "                 coef    std err          z      P>|z|      [0.025      0.975]\n",
      "------------------------------------------------------------------------------\n",
      "ar.L1         -0.0127      0.013     -0.984      0.325      -0.038       0.013\n",
      "ma.L1         -1.0000      0.007   -135.744      0.000      -1.014      -0.986\n",
      "sigma2         0.0174      0.000     50.877      0.000       0.017       0.018\n",
      "===================================================================================\n",
      "Ljung-Box (L1) (Q):                   0.00   Jarque-Bera (JB):               198.60\n",
      "Prob(Q):                              0.98   Prob(JB):                         0.00\n",
      "Heteroskedasticity (H):               1.03   Skew:                             0.43\n",
      "Prob(H) (two-sided):                  0.54   Kurtosis:                         2.74\n",
      "===================================================================================\n",
      "\n",
      "Warnings:\n",
      "[1] Covariance matrix calculated using the outer product of gradients (complex-step).\n"
     ]
    }
   ],
   "source": [
    "# ARIMA with AR = 4, MA = 6\n",
    "model1 = ARIMA(Test, order = (1, 1, 1))\n",
    "res1 = model1.fit()\n",
    "print(res1.summary())"
   ]
  },
  {
   "cell_type": "code",
   "execution_count": 372,
   "id": "e5633d8f",
   "metadata": {},
   "outputs": [
    {
     "name": "stderr",
     "output_type": "stream",
     "text": [
      "C:\\Users\\sidda\\anaconda3\\lib\\site-packages\\statsmodels\\tsa\\base\\tsa_model.py:834: ValueWarning: No supported index is available. Prediction results will be given with an integer index beginning at `start`.\n",
      "  return get_prediction_index(\n"
     ]
    }
   ],
   "source": [
    "predictions=res1.predict(start=len(Test['Sales_volume_in_Tonnes']), end=len(Test['Sales_volume_in_Tonnes'])+365, dynamic=True)\n"
   ]
  },
  {
   "cell_type": "code",
   "execution_count": 373,
   "id": "9edc937b",
   "metadata": {},
   "outputs": [],
   "source": [
    "predictions.index=inde_f\n"
   ]
  },
  {
   "cell_type": "code",
   "execution_count": 374,
   "id": "50a18607",
   "metadata": {},
   "outputs": [
    {
     "data": {
      "text/plain": [
       "<AxesSubplot:>"
      ]
     },
     "execution_count": 374,
     "metadata": {},
     "output_type": "execute_result"
    },
    {
     "data": {
      "image/png": "[encoded data removed]",
      "text/plain": [
       "<Figure size 1296x288 with 1 Axes>"
      ]
     },
     "metadata": {
      "needs_background": "light"
     },
     "output_type": "display_data"
    }
   ],
   "source": [
    "predictions.plot()"
   ]
  },
  {
   "cell_type": "markdown",
   "id": "bb123ba0",
   "metadata": {},
   "source": [
    "# Auto ARIMA"
   ]
  },
  {
   "cell_type": "code",
   "execution_count": 2,
   "id": "042ca5e0",
   "metadata": {},
   "outputs": [],
   "source": [
    "deep = pd.read_csv(\"C:/Users/sidda/Desktop/project 97/TMT-JUNE-2020_2 (1) - Copy.csv\")  # reading dataset with pandas"
   ]
  },
  {
   "cell_type": "code",
   "execution_count": 3,
   "id": "00bbdeaa",
   "metadata": {},
   "outputs": [],
   "source": [
    "deep=deep.drop(['Time', 'Location', 'Sales in Rs/T',\n",
    "       'Price/ kg', 'Climate', 'Customer ID', 'Diameter', 'Length', 'Grade',\n",
    "       'Current stock', 'Re-order', 'Lead time', 'Production time',\n",
    "       'Units Produced ', 'Production cost'],axis=1)"
   ]
  },
  {
   "cell_type": "code",
   "execution_count": 4,
   "id": "bb0cf061",
   "metadata": {},
   "outputs": [
    {
     "data": {
      "text/html": [
       "<div>\n",
       "<style scoped>\n",
       "    .dataframe tbody tr th:only-of-type {\n",
       "        vertical-align: middle;\n",
       "    }\n",
       "\n",
       "    .dataframe tbody tr th {\n",
       "        vertical-align: top;\n",
       "    }\n",
       "\n",
       "    .dataframe thead th {\n",
       "        text-align: right;\n",
       "    }\n",
       "</style>\n",
       "<table border=\"1\" class=\"dataframe\">\n",
       "  <thead>\n",
       "    <tr style=\"text-align: right;\">\n",
       "      <th></th>\n",
       "      <th>Date</th>\n",
       "      <th>Sales volume in Tonnes</th>\n",
       "    </tr>\n",
       "  </thead>\n",
       "  <tbody>\n",
       "    <tr>\n",
       "      <th>0</th>\n",
       "      <td>14-10-1995</td>\n",
       "      <td>7.07</td>\n",
       "    </tr>\n",
       "    <tr>\n",
       "      <th>1</th>\n",
       "      <td>15-10-1995</td>\n",
       "      <td>8.35</td>\n",
       "    </tr>\n",
       "    <tr>\n",
       "      <th>2</th>\n",
       "      <td>16-10-1995</td>\n",
       "      <td>6.82</td>\n",
       "    </tr>\n",
       "    <tr>\n",
       "      <th>3</th>\n",
       "      <td>17-10-1995</td>\n",
       "      <td>6.86</td>\n",
       "    </tr>\n",
       "    <tr>\n",
       "      <th>4</th>\n",
       "      <td>18-10-1995</td>\n",
       "      <td>7.45</td>\n",
       "    </tr>\n",
       "    <tr>\n",
       "      <th>...</th>\n",
       "      <td>...</td>\n",
       "      <td>...</td>\n",
       "    </tr>\n",
       "    <tr>\n",
       "      <th>9995</th>\n",
       "      <td>24-02-2023</td>\n",
       "      <td>9.13</td>\n",
       "    </tr>\n",
       "    <tr>\n",
       "      <th>9996</th>\n",
       "      <td>25-02-2023</td>\n",
       "      <td>9.99</td>\n",
       "    </tr>\n",
       "    <tr>\n",
       "      <th>9997</th>\n",
       "      <td>26-02-2023</td>\n",
       "      <td>8.84</td>\n",
       "    </tr>\n",
       "    <tr>\n",
       "      <th>9998</th>\n",
       "      <td>27-02-2023</td>\n",
       "      <td>7.64</td>\n",
       "    </tr>\n",
       "    <tr>\n",
       "      <th>9999</th>\n",
       "      <td>28-02-2023</td>\n",
       "      <td>10.61</td>\n",
       "    </tr>\n",
       "  </tbody>\n",
       "</table>\n",
       "<p>10000 rows × 2 columns</p>\n",
       "</div>"
      ],
      "text/plain": [
       "            Date  Sales volume in Tonnes\n",
       "0     14-10-1995                    7.07\n",
       "1     15-10-1995                    8.35\n",
       "2     16-10-1995                    6.82\n",
       "3     17-10-1995                    6.86\n",
       "4     18-10-1995                    7.45\n",
       "...          ...                     ...\n",
       "9995  24-02-2023                    9.13\n",
       "9996  25-02-2023                    9.99\n",
       "9997  26-02-2023                    8.84\n",
       "9998  27-02-2023                    7.64\n",
       "9999  28-02-2023                   10.61\n",
       "\n",
       "[10000 rows x 2 columns]"
      ]
     },
     "execution_count": 4,
     "metadata": {},
     "output_type": "execute_result"
    }
   ],
   "source": [
    "deep"
   ]
  },
  {
   "cell_type": "code",
   "execution_count": 5,
   "id": "adb4b444",
   "metadata": {},
   "outputs": [],
   "source": [
    "deep['Sales volume in Tonnes']= deep['Sales volume in Tonnes'].interpolate(method='linear')"
   ]
  },
  {
   "cell_type": "code",
   "execution_count": 6,
   "id": "b41213ea",
   "metadata": {},
   "outputs": [],
   "source": [
    "deep['Date']=pd.to_datetime(deep['Date'])\n",
    "# set the Date column be the index of our dataset\n",
    "deep= deep.set_index('Date')\n",
    "# now check the data shape"
   ]
  },
  {
   "cell_type": "code",
   "execution_count": 14,
   "id": "cfd91b53",
   "metadata": {},
   "outputs": [],
   "source": [
    "deep.columns=['tonnes']"
   ]
  },
  {
   "cell_type": "code",
   "execution_count": 15,
   "id": "903fa9b9",
   "metadata": {},
   "outputs": [],
   "source": [
    "Train1 = pd.DataFrame(deep['tonnes'].head(8000))\n",
    "Test1 = pd.DataFrame(deep['tonnes'].tail(2000))"
   ]
  },
  {
   "cell_type": "code",
   "execution_count": null,
   "id": "52746f83",
   "metadata": {},
   "outputs": [],
   "source": []
  },
  {
   "cell_type": "code",
   "execution_count": 16,
   "id": "97608ea0",
   "metadata": {},
   "outputs": [
    {
     "name": "stdout",
     "output_type": "stream",
     "text": [
      "Help on function auto_arima in module pmdarima.arima.auto:\n",
      "\n",
      "auto_arima(y, X=None, start_p=2, d=None, start_q=2, max_p=5, max_d=2, max_q=5, start_P=1, D=None, start_Q=1, max_P=2, max_D=1, max_Q=2, max_order=5, m=1, seasonal=True, stationary=False, information_criterion='aic', alpha=0.05, test='kpss', seasonal_test='ocsb', stepwise=True, n_jobs=1, start_params=None, trend=None, method='lbfgs', maxiter=50, offset_test_args=None, seasonal_test_args=None, suppress_warnings=True, error_action='trace', trace=False, random=False, random_state=None, n_fits=10, return_valid_fits=False, out_of_sample_size=0, scoring='mse', scoring_args=None, with_intercept='auto', sarimax_kwargs=None, **fit_args)\n",
      "    Automatically discover the optimal order for an ARIMA model.\n",
      "    \n",
      "    The auto-ARIMA process seeks to identify the most optimal\n",
      "    parameters for an ``ARIMA`` model, settling on a single fitted ARIMA model.\n",
      "    This process is based on the commonly-used R function,\n",
      "    ``forecast::auto.arima`` [3].\n",
      "    \n",
      "    Auto-ARIMA works by conducting differencing tests (i.e.,\n",
      "    Kwiatkowski–Phillips–Schmidt–Shin, Augmented Dickey-Fuller or\n",
      "    Phillips–Perron) to determine the order of differencing, ``d``, and then\n",
      "    fitting models within ranges of defined ``start_p``, ``max_p``,\n",
      "    ``start_q``, ``max_q`` ranges. If the ``seasonal`` optional is enabled,\n",
      "    auto-ARIMA also seeks to identify the optimal ``P`` and ``Q`` hyper-\n",
      "    parameters after conducting the Canova-Hansen to determine the optimal\n",
      "    order of seasonal differencing, ``D``.\n",
      "    \n",
      "    In order to find the best model, auto-ARIMA optimizes for a given\n",
      "    ``information_criterion``, one of ('aic', 'aicc', 'bic', 'hqic', 'oob')\n",
      "    (Akaike Information Criterion, Corrected Akaike Information Criterion,\n",
      "    Bayesian Information Criterion, Hannan-Quinn Information Criterion, or\n",
      "    \"out of bag\"--for validation scoring--respectively) and returns the ARIMA\n",
      "    which minimizes the value.\n",
      "    \n",
      "    Note that due to stationarity issues, auto-ARIMA might not find a\n",
      "    suitable model that will converge. If this is the case, a ``ValueError``\n",
      "    will be thrown suggesting stationarity-inducing measures be taken prior\n",
      "    to re-fitting or that a new range of ``order`` values be selected. Non-\n",
      "    stepwise (i.e., essentially a grid search) selection can be slow,\n",
      "    especially for seasonal data. Stepwise algorithm is outlined in Hyndman and\n",
      "    Khandakar (2008).\n",
      "    \n",
      "    Parameters\n",
      "    ----------\n",
      "    y : array-like or iterable, shape=(n_samples,)\n",
      "        The time-series to which to fit the ``ARIMA`` estimator. This may\n",
      "        either be a Pandas ``Series`` object (statsmodels can internally\n",
      "        use the dates in the index), or a numpy array. This should be a\n",
      "        one-dimensional array of floats, and should not contain any\n",
      "        ``np.nan`` or ``np.inf`` values.\n",
      "    \n",
      "    X : array-like, shape=[n_obs, n_vars], optional (default=None)\n",
      "        An optional 2-d array of exogenous variables. If provided, these\n",
      "        variables are used as additional features in the regression\n",
      "        operation. This should not include a constant or trend. Note that\n",
      "        if an ``ARIMA`` is fit on exogenous features, it must be provided\n",
      "        exogenous features for making predictions.\n",
      "    \n",
      "    start_p : int, optional (default=2)\n",
      "        The starting value of ``p``, the order (or number of time lags)\n",
      "        of the auto-regressive (\"AR\") model. Must be a positive integer.\n",
      "    \n",
      "    d : int, optional (default=None)\n",
      "        The order of first-differencing. If None (by default), the value\n",
      "        will automatically be selected based on the results of the ``test``\n",
      "        (i.e., either the Kwiatkowski–Phillips–Schmidt–Shin, Augmented\n",
      "        Dickey-Fuller or the Phillips–Perron test will be conducted to find\n",
      "        the most probable value). Must be a positive integer or None. Note\n",
      "        that if ``d`` is None, the runtime could be significantly longer.\n",
      "    \n",
      "    start_q : int, optional (default=2)\n",
      "        The starting value of ``q``, the order of the moving-average\n",
      "        (\"MA\") model. Must be a positive integer.\n",
      "    \n",
      "    max_p : int, optional (default=5)\n",
      "        The maximum value of ``p``, inclusive. Must be a positive integer\n",
      "        greater than or equal to ``start_p``.\n",
      "    \n",
      "    max_d : int, optional (default=2)\n",
      "        The maximum value of ``d``, or the maximum number of non-seasonal\n",
      "        differences. Must be a positive integer greater than or equal to ``d``.\n",
      "    \n",
      "    max_q : int, optional (default=5)\n",
      "        The maximum value of ``q``, inclusive. Must be a positive integer\n",
      "        greater than ``start_q``.\n",
      "    \n",
      "    start_P : int, optional (default=1)\n",
      "        The starting value of ``P``, the order of the auto-regressive portion\n",
      "        of the seasonal model.\n",
      "    \n",
      "    D : int, optional (default=None)\n",
      "        The order of the seasonal differencing. If None (by default, the value\n",
      "        will automatically be selected based on the results of the\n",
      "        ``seasonal_test``. Must be a positive integer or None.\n",
      "    \n",
      "    start_Q : int, optional (default=1)\n",
      "        The starting value of ``Q``, the order of the moving-average portion\n",
      "        of the seasonal model.\n",
      "    \n",
      "    max_P : int, optional (default=2)\n",
      "        The maximum value of ``P``, inclusive. Must be a positive integer\n",
      "        greater than ``start_P``.\n",
      "    \n",
      "    max_D : int, optional (default=1)\n",
      "        The maximum value of ``D``. Must be a positive integer greater\n",
      "        than ``D``.\n",
      "    \n",
      "    max_Q : int, optional (default=2)\n",
      "        The maximum value of ``Q``, inclusive. Must be a positive integer\n",
      "        greater than ``start_Q``.\n",
      "    \n",
      "    max_order : int, optional (default=5)\n",
      "        Maximum value of p+q+P+Q if model selection is not stepwise.\n",
      "        If the sum of ``p`` and ``q`` is >= ``max_order``, a model will\n",
      "        *not* be fit with those parameters, but will progress to the next\n",
      "        combination. Default is 5. If ``max_order`` is None, it means there\n",
      "        are no constraints on maximum order.\n",
      "    \n",
      "    m : int, optional (default=1)\n",
      "        The period for seasonal differencing, ``m`` refers to the number of\n",
      "        periods in each season. For example, ``m`` is 4 for quarterly data, 12\n",
      "        for monthly data, or 1 for annual (non-seasonal) data. Default is 1.\n",
      "        Note that if ``m`` == 1 (i.e., is non-seasonal), ``seasonal`` will be\n",
      "        set to False. For more information on setting this parameter, see\n",
      "        :ref:`period`.\n",
      "    \n",
      "    seasonal : bool, optional (default=True)\n",
      "        Whether to fit a seasonal ARIMA. Default is True. Note that if\n",
      "        ``seasonal`` is True and ``m`` == 1, ``seasonal`` will be set to False.\n",
      "    \n",
      "    stationary : bool, optional (default=False)\n",
      "        Whether the time-series is stationary and ``d`` should be set to zero.\n",
      "    \n",
      "    information_criterion : str, optional (default='aic')\n",
      "        The information criterion used to select the best ARIMA model. One of\n",
      "        ``pmdarima.arima.auto_arima.VALID_CRITERIA``, ('aic', 'bic', 'hqic',\n",
      "        'oob').\n",
      "    \n",
      "    alpha : float, optional (default=0.05)\n",
      "        Level of the test for testing significance.\n",
      "    \n",
      "    test : str, optional (default='kpss')\n",
      "        Type of unit root test to use in order to detect stationarity if\n",
      "        ``stationary`` is False and ``d`` is None. Default is 'kpss'\n",
      "        (Kwiatkowski–Phillips–Schmidt–Shin).\n",
      "    \n",
      "    seasonal_test : str, optional (default='ocsb')\n",
      "        This determines which seasonal unit root test is used if ``seasonal``\n",
      "        is True and ``D`` is None. Default is 'OCSB'.\n",
      "    \n",
      "    stepwise : bool, optional (default=True)\n",
      "        Whether to use the stepwise algorithm outlined in Hyndman and Khandakar\n",
      "        (2008) to identify the optimal model parameters. The stepwise algorithm\n",
      "        can be significantly faster than fitting all (or a ``random`` subset\n",
      "        of) hyper-parameter combinations and is less likely to over-fit\n",
      "        the model.\n",
      "    \n",
      "    n_jobs : int, optional (default=1)\n",
      "        The number of models to fit in parallel in the case of a grid search\n",
      "        (``stepwise=False``). Default is 1, but -1 can be used to designate\n",
      "        \"as many as possible\".\n",
      "    \n",
      "    start_params : array-like, optional (default=None)\n",
      "        Starting parameters for ``ARMA(p,q)``.  If None, the default is given\n",
      "        by ``ARMA._fit_start_params``.\n",
      "    \n",
      "    method : str, optional (default='lbfgs')\n",
      "        The ``method`` determines which solver from ``scipy.optimize``\n",
      "        is used, and it can be chosen from among the following strings:\n",
      "    \n",
      "        - 'newton' for Newton-Raphson\n",
      "        - 'nm' for Nelder-Mead\n",
      "        - 'bfgs' for Broyden-Fletcher-Goldfarb-Shanno (BFGS)\n",
      "        - 'lbfgs' for limited-memory BFGS with optional box constraints\n",
      "        - 'powell' for modified Powell's method\n",
      "        - 'cg' for conjugate gradient\n",
      "        - 'ncg' for Newton-conjugate gradient\n",
      "        - 'basinhopping' for global basin-hopping solver\n",
      "    \n",
      "        The explicit arguments in ``fit`` are passed to the solver,\n",
      "        with the exception of the basin-hopping solver. Each\n",
      "        solver has several optional arguments that are not the same across\n",
      "        solvers. These can be passed as **fit_kwargs\n",
      "    \n",
      "    trend : str or None, optional (default=None)\n",
      "        The trend parameter. If ``with_intercept`` is True, ``trend`` will be\n",
      "        used. If ``with_intercept`` is False, the trend will be set to a no-\n",
      "        intercept value.\n",
      "    \n",
      "    maxiter : int, optional (default=50)\n",
      "        The maximum number of function evaluations. Default is 50.\n",
      "    \n",
      "    offset_test_args : dict, optional (default=None)\n",
      "        The args to pass to the constructor of the offset (``d``) test. See\n",
      "        ``pmdarima.arima.stationarity`` for more details.\n",
      "    \n",
      "    seasonal_test_args : dict, optional (default=None)\n",
      "        The args to pass to the constructor of the seasonal offset (``D``)\n",
      "        test. See ``pmdarima.arima.seasonality`` for more details.\n",
      "    \n",
      "    suppress_warnings : bool, optional (default=True)\n",
      "        Many warnings might be thrown inside of statsmodels. If\n",
      "        ``suppress_warnings`` is True, all of the warnings coming from\n",
      "        ``ARIMA`` will be squelched. Note that this will not suppress\n",
      "        UserWarnings created by bad argument combinations.\n",
      "    \n",
      "    error_action : str, optional (default='warn')\n",
      "        If unable to fit an ``ARIMA`` for whatever reason, this controls the\n",
      "        error-handling behavior. Model fits can fail for linear algebra errors,\n",
      "        convergence errors, or any number of problems related to stationarity\n",
      "        or input data.\n",
      "            - 'warn': Warns when an error is encountered (default)\n",
      "            - 'raise': Raises when an error is encountered\n",
      "            - 'ignore': Ignores errors (not recommended)\n",
      "            - 'trace': Logs the entire error stacktrace and continues the\n",
      "               search. This is the best option when trying to determine why a\n",
      "               model is failing.\n",
      "    \n",
      "    trace : bool or int, optional (default=False)\n",
      "        Whether to print status on the fits. A value of False will print no\n",
      "        debugging information. A value of True will print some. Integer values\n",
      "        exceeding 1 will print increasing amounts of debug information at each\n",
      "        fit.\n",
      "    \n",
      "    random : bool, optional (default=False)\n",
      "        Similar to grid searches, ``auto_arima`` provides the capability to\n",
      "        perform a \"random search\" over a hyper-parameter space. If ``random``\n",
      "        is True, rather than perform an exhaustive search or ``stepwise``\n",
      "        search, only ``n_fits`` ARIMA models will be fit (``stepwise`` must be\n",
      "        False for this option to do anything).\n",
      "    \n",
      "    random_state : int, long or numpy ``RandomState``, optional (default=None)\n",
      "        The PRNG for when ``random=True``. Ensures replicable testing and\n",
      "        results.\n",
      "    \n",
      "    n_fits : int, optional (default=10)\n",
      "        If ``random`` is True and a \"random search\" is going to be performed,\n",
      "        ``n_iter`` is the number of ARIMA models to be fit.\n",
      "    \n",
      "    return_valid_fits : bool, optional (default=False)\n",
      "        If True, will return all valid ARIMA fits in a list. If False (by\n",
      "        default), will only return the best fit.\n",
      "    \n",
      "    out_of_sample_size : int, optional (default=0)\n",
      "        The ``ARIMA`` class can fit only a portion of the data if specified,\n",
      "        in order to retain an \"out of bag\" sample score. This is the\n",
      "        number of examples from the tail of the time series to hold out\n",
      "        and use as validation examples. The model will not be fit on these\n",
      "        samples, but the observations will be added into the model's ``endog``\n",
      "        and ``exog`` arrays so that future forecast values originate from the\n",
      "        end of the endogenous vector.\n",
      "    \n",
      "        For instance::\n",
      "    \n",
      "            y = [0, 1, 2, 3, 4, 5, 6]\n",
      "            out_of_sample_size = 2\n",
      "    \n",
      "            > Fit on: [0, 1, 2, 3, 4]\n",
      "            > Score on: [5, 6]\n",
      "            > Append [5, 6] to end of self.arima_res_.data.endog values\n",
      "    \n",
      "    scoring : str, optional (default='mse')\n",
      "        If performing validation (i.e., if ``out_of_sample_size`` > 0), the\n",
      "        metric to use for scoring the out-of-sample data. One of ('mse', 'mae')\n",
      "    \n",
      "    scoring_args : dict, optional (default=None)\n",
      "        A dictionary of key-word arguments to be passed to the ``scoring``\n",
      "        metric.\n",
      "    \n",
      "    with_intercept : bool or str, optional (default=\"auto\")\n",
      "        Whether to include an intercept term. Default is \"auto\" which behaves\n",
      "        like True until a point in the search where the sum of differencing\n",
      "        terms will explicitly set it to True or False.\n",
      "    \n",
      "    \n",
      "    sarimax_kwargs : dict or None, optional (default=None)\n",
      "        Keyword arguments to pass to the ARIMA constructor.\n",
      "    \n",
      "    \n",
      "    **fit_args : dict, optional (default=None)\n",
      "        A dictionary of keyword arguments to pass to the :func:`ARIMA.fit`\n",
      "        method.\n",
      "    \n",
      "    See Also\n",
      "    --------\n",
      "    :func:`pmdarima.arima.ARIMA`\n",
      "    \n",
      "    Notes\n",
      "    -----\n",
      "    * Fitting with `stepwise=False` can prove slower, especially when\n",
      "      `seasonal=True`.\n",
      "    \n",
      "    References\n",
      "    ----------\n",
      "    .. [1] https://wikipedia.org/wiki/Autoregressive_integrated_moving_average\n",
      "    .. [2] R's auto-arima source code: https://github.com/robjhyndman/forecast/blob/master/R/arima.R\n",
      "    .. [3] R's auto-arima documentation: https://www.rdocumentation.org/packages/forecast\n",
      "\n"
     ]
    }
   ],
   "source": [
    "import pmdarima as pm\n",
    "help(pm.auto_arima)"
   ]
  },
  {
   "cell_type": "code",
   "execution_count": null,
   "id": "e43febe6",
   "metadata": {},
   "outputs": [],
   "source": []
  },
  {
   "cell_type": "code",
   "execution_count": 17,
   "id": "090a1eee",
   "metadata": {},
   "outputs": [],
   "source": [
    "model = pm.auto_arima(Train1, seasonal=False)"
   ]
  },
  {
   "cell_type": "code",
   "execution_count": 18,
   "id": "80f2f795",
   "metadata": {},
   "outputs": [
    {
     "name": "stdout",
     "output_type": "stream",
     "text": [
      "                               SARIMAX Results                                \n",
      "==============================================================================\n",
      "Dep. Variable:                      y   No. Observations:                 8000\n",
      "Model:               SARIMAX(1, 0, 1)   Log Likelihood              -14578.807\n",
      "Date:                Thu, 30 Mar 2023   AIC                          29163.615\n",
      "Time:                        22:27:38   BIC                          29184.576\n",
      "Sample:                             0   HQIC                         29170.790\n",
      "                               - 8000                                         \n",
      "Covariance Type:                  opg                                         \n",
      "==============================================================================\n",
      "                 coef    std err          z      P>|z|      [0.025      0.975]\n",
      "------------------------------------------------------------------------------\n",
      "ar.L1          1.0000   5.38e-05   1.86e+04      0.000       1.000       1.000\n",
      "ma.L1         -0.9714      0.003   -341.274      0.000      -0.977      -0.966\n",
      "sigma2         2.2389      0.037     60.462      0.000       2.166       2.312\n",
      "===================================================================================\n",
      "Ljung-Box (L1) (Q):                   0.19   Jarque-Bera (JB):               286.74\n",
      "Prob(Q):                              0.66   Prob(JB):                         0.00\n",
      "Heteroskedasticity (H):               1.14   Skew:                             0.46\n",
      "Prob(H) (two-sided):                  0.00   Kurtosis:                         3.07\n",
      "===================================================================================\n",
      "\n",
      "Warnings:\n",
      "[1] Covariance matrix calculated using the outer product of gradients (complex-step).\n"
     ]
    }
   ],
   "source": [
    "print(model.summary())"
   ]
  },
  {
   "cell_type": "code",
   "execution_count": 22,
   "id": "5fc882da",
   "metadata": {},
   "outputs": [],
   "source": [
    "from statsmodels.tsa.arima.model import ARIMA"
   ]
  },
  {
   "cell_type": "code",
   "execution_count": 24,
   "id": "8bf725e8",
   "metadata": {},
   "outputs": [
    {
     "name": "stderr",
     "output_type": "stream",
     "text": [
      "C:\\Users\\sidda\\anaconda3\\lib\\site-packages\\statsmodels\\tsa\\base\\tsa_model.py:471: ValueWarning: A date index has been provided, but it has no associated frequency information and so will be ignored when e.g. forecasting.\n",
      "  self._init_dates(dates, freq)\n",
      "C:\\Users\\sidda\\anaconda3\\lib\\site-packages\\statsmodels\\tsa\\base\\tsa_model.py:471: ValueWarning: A date index has been provided, but it is not monotonic and so will be ignored when e.g. forecasting.\n",
      "  self._init_dates(dates, freq)\n",
      "C:\\Users\\sidda\\anaconda3\\lib\\site-packages\\statsmodels\\tsa\\base\\tsa_model.py:471: ValueWarning: A date index has been provided, but it has no associated frequency information and so will be ignored when e.g. forecasting.\n",
      "  self._init_dates(dates, freq)\n",
      "C:\\Users\\sidda\\anaconda3\\lib\\site-packages\\statsmodels\\tsa\\base\\tsa_model.py:471: ValueWarning: A date index has been provided, but it is not monotonic and so will be ignored when e.g. forecasting.\n",
      "  self._init_dates(dates, freq)\n",
      "C:\\Users\\sidda\\anaconda3\\lib\\site-packages\\statsmodels\\tsa\\base\\tsa_model.py:471: ValueWarning: A date index has been provided, but it has no associated frequency information and so will be ignored when e.g. forecasting.\n",
      "  self._init_dates(dates, freq)\n",
      "C:\\Users\\sidda\\anaconda3\\lib\\site-packages\\statsmodels\\tsa\\base\\tsa_model.py:471: ValueWarning: A date index has been provided, but it is not monotonic and so will be ignored when e.g. forecasting.\n",
      "  self._init_dates(dates, freq)\n"
     ]
    },
    {
     "name": "stdout",
     "output_type": "stream",
     "text": [
      "<bound method SARIMAXResults.summary of <statsmodels.tsa.arima.model.ARIMAResults object at 0x0000016B49665EB0>>\n"
     ]
    }
   ],
   "source": [
    "arima_model = ARIMA(deep['tonnes'], order=model.order)\n",
    "arima_fit = arima_model.fit()\n",
    "print(arima_fit.summary)"
   ]
  },
  {
   "cell_type": "code",
   "execution_count": null,
   "id": "993d1d0e",
   "metadata": {},
   "outputs": [],
   "source": [
    "#model1 = ARIMA(df_t['Sales_volume_in_Tonnes'], order = (4, 1, 6))\n",
    "#res = model1.fit()\n",
    "#print(res.summary())"
   ]
  },
  {
   "cell_type": "code",
   "execution_count": 25,
   "id": "b1e942a0",
   "metadata": {},
   "outputs": [
    {
     "name": "stdout",
     "output_type": "stream",
     "text": [
      "Date\n",
      "2017-08-09    8.652952\n",
      "2017-09-09    8.637930\n",
      "2017-10-09    8.622901\n",
      "2017-11-09    8.617199\n",
      "2017-12-09    8.661725\n",
      "                ...   \n",
      "2023-02-24    8.745223\n",
      "2023-02-25    8.753499\n",
      "2023-02-26    8.783787\n",
      "2023-02-27    8.783231\n",
      "2023-02-28    8.751585\n",
      "Name: predicted_mean, Length: 2000, dtype: float64\n"
     ]
    }
   ],
   "source": [
    "start_index = len(Train1)\n",
    "start_index\n",
    "end_index = start_index + 1999\n",
    "forecast_test = arima_fit.predict(start = start_index, end = end_index)\n",
    "print(forecast_test)"
   ]
  },
  {
   "cell_type": "code",
   "execution_count": 27,
   "id": "f38dadb5",
   "metadata": {},
   "outputs": [
    {
     "data": {
      "text/plain": [
       "<AxesSubplot:xlabel='Date'>"
      ]
     },
     "execution_count": 27,
     "metadata": {},
     "output_type": "execute_result"
    },
    {
     "data": {
      "image/png": "[encoded data removed]",
      "text/plain": [
       "<Figure size 432x288 with 1 Axes>"
      ]
     },
     "metadata": {
      "needs_background": "light"
     },
     "output_type": "display_data"
    }
   ],
   "source": [
    "deep.plot()\n",
    "forecast_test.plot()"
   ]
  },
  {
   "cell_type": "code",
   "execution_count": 31,
   "id": "0160dbaa",
   "metadata": {},
   "outputs": [
    {
     "name": "stderr",
     "output_type": "stream",
     "text": [
      "C:\\Users\\sidda\\anaconda3\\lib\\site-packages\\statsmodels\\tsa\\base\\tsa_model.py:834: ValueWarning: No supported index is available. Prediction results will be given with an integer index beginning at `start`.\n",
      "  return get_prediction_index(\n"
     ]
    }
   ],
   "source": [
    "pre_auto=arima_fit.predict(start=len(deep['tonnes']), end=len(deep['tonnes'])+1000, dynamic=True)\n"
   ]
  },
  {
   "cell_type": "code",
   "execution_count": 32,
   "id": "5611c4dc",
   "metadata": {},
   "outputs": [
    {
     "data": {
      "text/plain": [
       "10000    8.798012\n",
       "10001    8.795882\n",
       "10002    8.793770\n",
       "10003    8.791675\n",
       "10004    8.789597\n",
       "           ...   \n",
       "10996    8.536969\n",
       "10997    8.536968\n",
       "10998    8.536967\n",
       "10999    8.536967\n",
       "11000    8.536966\n",
       "Name: predicted_mean, Length: 1001, dtype: float64"
      ]
     },
     "execution_count": 32,
     "metadata": {},
     "output_type": "execute_result"
    }
   ],
   "source": [
    "pre_auto"
   ]
  },
  {
   "cell_type": "code",
   "execution_count": 33,
   "id": "9b9857cf",
   "metadata": {},
   "outputs": [
    {
     "data": {
      "text/plain": [
       "<AxesSubplot:>"
      ]
     },
     "execution_count": 33,
     "metadata": {},
     "output_type": "execute_result"
    },
    {
     "data": {
      "image/png": "[encoded data removed]",
      "text/plain": [
       "<Figure size 432x288 with 1 Axes>"
      ]
     },
     "metadata": {
      "needs_background": "light"
     },
     "output_type": "display_data"
    }
   ],
   "source": [
    "pre_auto.plot()"
   ]
  },
  {
   "cell_type": "code",
   "execution_count": null,
   "id": "1a5cbdf9",
   "metadata": {},
   "outputs": [],
   "source": []
  }
 ],
 "metadata": {
  "kernelspec": {
   "display_name": "Python 3 (ipykernel)",
   "language": "python",
   "name": "python3"
  },
  "language_info": {
   "codemirror_mode": {
    "name": "ipython",
    "version": 3
   },
   "file_extension": ".py",
   "mimetype": "text/x-python",
   "name": "python",
   "nbconvert_exporter": "python",
   "pygments_lexer": "ipython3",
   "version": "3.9.7"
  }
 },
 "nbformat": 4,
 "nbformat_minor": 5
}
